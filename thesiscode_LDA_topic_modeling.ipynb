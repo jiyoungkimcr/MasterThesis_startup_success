{
  "cells": [
    {
      "cell_type": "code",
      "execution_count": 1,
      "metadata": {
        "colab": {
          "base_uri": "https://localhost:8080/"
        },
        "id": "fqOQE5qqI9-o",
        "outputId": "3c297bdd-5b7d-418e-8779-bd79856d74a1"
      },
      "outputs": [
        {
          "name": "stdout",
          "output_type": "stream",
          "text": [
            "Sat Jul 30 08:11:07 2022       \n",
            "+-----------------------------------------------------------------------------+\n",
            "| NVIDIA-SMI 460.32.03    Driver Version: 460.32.03    CUDA Version: 11.2     |\n",
            "|-------------------------------+----------------------+----------------------+\n",
            "| GPU  Name        Persistence-M| Bus-Id        Disp.A | Volatile Uncorr. ECC |\n",
            "| Fan  Temp  Perf  Pwr:Usage/Cap|         Memory-Usage | GPU-Util  Compute M. |\n",
            "|                               |                      |               MIG M. |\n",
            "|===============================+======================+======================|\n",
            "|   0  Tesla P100-PCIE...  Off  | 00000000:00:04.0 Off |                    0 |\n",
            "| N/A   42C    P0    28W / 250W |      0MiB / 16280MiB |      0%      Default |\n",
            "|                               |                      |                  N/A |\n",
            "+-------------------------------+----------------------+----------------------+\n",
            "                                                                               \n",
            "+-----------------------------------------------------------------------------+\n",
            "| Processes:                                                                  |\n",
            "|  GPU   GI   CI        PID   Type   Process name                  GPU Memory |\n",
            "|        ID   ID                                                   Usage      |\n",
            "|=============================================================================|\n",
            "|  No running processes found                                                 |\n",
            "+-----------------------------------------------------------------------------+\n"
          ]
        }
      ],
      "source": [
        "!nvidia-smi"
      ]
    },
    {
      "cell_type": "code",
      "execution_count": null,
      "metadata": {
        "id": "w4yBpbDcJYhN"
      },
      "outputs": [],
      "source": [
        "!pip install nltk\n",
        "!pip install gensim\n",
        "!pip install sklearn\n",
        "!pip install pyLDAvis"
      ]
    },
    {
      "cell_type": "code",
      "execution_count": 7,
      "metadata": {
        "colab": {
          "base_uri": "https://localhost:8080/"
        },
        "id": "lkQLSA-LJP_O",
        "outputId": "22af629c-187c-44e8-e399-559e1a7251b1"
      },
      "outputs": [
        {
          "name": "stderr",
          "output_type": "stream",
          "text": [
            "/Library/Frameworks/Python.framework/Versions/3.10/lib/python3.10/site-packages/past/builtins/misc.py:45: DeprecationWarning: the imp module is deprecated in favour of importlib and slated for removal in Python 3.12; see the module's documentation for alternative uses\n",
            "  from imp import reload\n"
          ]
        }
      ],
      "source": [
        "import csv\n",
        "import pandas as pd\n",
        "import re\n",
        "import numpy as np\n",
        "import string\n",
        "#from sklearn.datasets import fetch_20newsgroups\n",
        "import nltk\n",
        "from nltk.stem import WordNetLemmatizer\n",
        "from nltk.corpus import stopwords\n",
        "\n",
        "import gensim\n",
        "from gensim import corpora, models\n",
        "from gensim.models.ldamulticore import LdaMulticore\n",
        "from gensim.models.coherencemodel import CoherenceModel\n",
        "\n",
        "import pyLDAvis\n",
        "import pyLDAvis.gensim_models as gensimvis"
      ]
    },
    {
      "cell_type": "code",
      "execution_count": 8,
      "metadata": {
        "id": "i3Gga18J63AE"
      },
      "outputs": [],
      "source": [
        "# Load dataset\n",
        "df = pd.read_csv(\"/Users/jiyoung/Master thesis/data_cleaned/data_clustering.csv\")"
      ]
    },
    {
      "cell_type": "code",
      "execution_count": 9,
      "metadata": {
        "colab": {
          "base_uri": "https://localhost:8080/",
          "height": 206
        },
        "id": "ht7iLTAPKZNy",
        "outputId": "22fcc74b-00b0-45d1-93f8-c904ad4a1468"
      },
      "outputs": [
        {
          "data": {
            "text/html": [
              "<div>\n",
              "<style scoped>\n",
              "    .dataframe tbody tr th:only-of-type {\n",
              "        vertical-align: middle;\n",
              "    }\n",
              "\n",
              "    .dataframe tbody tr th {\n",
              "        vertical-align: top;\n",
              "    }\n",
              "\n",
              "    .dataframe thead th {\n",
              "        text-align: right;\n",
              "    }\n",
              "</style>\n",
              "<table border=\"1\" class=\"dataframe\">\n",
              "  <thead>\n",
              "    <tr style=\"text-align: right;\">\n",
              "      <th></th>\n",
              "      <th>uuid</th>\n",
              "      <th>name</th>\n",
              "      <th>category_groups_list</th>\n",
              "    </tr>\n",
              "  </thead>\n",
              "  <tbody>\n",
              "    <tr>\n",
              "      <th>0</th>\n",
              "      <td>e1393508-30ea-8a36-3f96-dd3226033abd</td>\n",
              "      <td>Wetpaint</td>\n",
              "      <td>Content and Publishing,Internet Services,Media...</td>\n",
              "    </tr>\n",
              "    <tr>\n",
              "      <th>1</th>\n",
              "      <td>5f2b40b8-d1b3-d323-d81a-b7a8e89553d0</td>\n",
              "      <td>Digg</td>\n",
              "      <td>Internet Services,Media and Entertainment</td>\n",
              "    </tr>\n",
              "    <tr>\n",
              "      <th>2</th>\n",
              "      <td>60485007-8856-bbac-aa1b-c535c41f5f47</td>\n",
              "      <td>Omnidrive</td>\n",
              "      <td>Commerce and Shopping,Internet Services,Media ...</td>\n",
              "    </tr>\n",
              "    <tr>\n",
              "      <th>3</th>\n",
              "      <td>4111dc8b-c0df-2d24-ed33-30cd137b3098</td>\n",
              "      <td>Geni</td>\n",
              "      <td>Community and Lifestyle,Other</td>\n",
              "    </tr>\n",
              "    <tr>\n",
              "      <th>4</th>\n",
              "      <td>3d16cb4c-911e-75c0-de5a-15c316b39f98</td>\n",
              "      <td>StumbleUpon</td>\n",
              "      <td>Commerce and Shopping,Internet Services,Media ...</td>\n",
              "    </tr>\n",
              "  </tbody>\n",
              "</table>\n",
              "</div>"
            ],
            "text/plain": [
              "                                   uuid         name  \\\n",
              "0  e1393508-30ea-8a36-3f96-dd3226033abd     Wetpaint   \n",
              "1  5f2b40b8-d1b3-d323-d81a-b7a8e89553d0         Digg   \n",
              "2  60485007-8856-bbac-aa1b-c535c41f5f47    Omnidrive   \n",
              "3  4111dc8b-c0df-2d24-ed33-30cd137b3098         Geni   \n",
              "4  3d16cb4c-911e-75c0-de5a-15c316b39f98  StumbleUpon   \n",
              "\n",
              "                                category_groups_list  \n",
              "0  Content and Publishing,Internet Services,Media...  \n",
              "1          Internet Services,Media and Entertainment  \n",
              "2  Commerce and Shopping,Internet Services,Media ...  \n",
              "3                      Community and Lifestyle,Other  \n",
              "4  Commerce and Shopping,Internet Services,Media ...  "
            ]
          },
          "execution_count": 9,
          "metadata": {},
          "output_type": "execute_result"
        }
      ],
      "source": [
        "#df = pd.read_csv(\"/content/clustering-thesis-jiji/data_clustering.csv\", sep=',', encoding='utf-8') \n",
        "df.head()"
      ]
    },
    {
      "cell_type": "code",
      "execution_count": 10,
      "metadata": {
        "colab": {
          "base_uri": "https://localhost:8080/"
        },
        "id": "pbAl7RNjKueS",
        "outputId": "d0d1e876-5a4c-41a0-f4a8-c070e2ec8376"
      },
      "outputs": [
        {
          "name": "stdout",
          "output_type": "stream",
          "text": [
            "<class 'pandas.core.frame.DataFrame'>\n",
            "RangeIndex: 157514 entries, 0 to 157513\n",
            "Data columns (total 3 columns):\n",
            " #   Column                Non-Null Count   Dtype \n",
            "---  ------                --------------   ----- \n",
            " 0   uuid                  157514 non-null  object\n",
            " 1   name                  157514 non-null  object\n",
            " 2   category_groups_list  157514 non-null  object\n",
            "dtypes: object(3)\n",
            "memory usage: 3.6+ MB\n"
          ]
        }
      ],
      "source": [
        "df.info()"
      ]
    },
    {
      "cell_type": "code",
      "execution_count": 11,
      "metadata": {
        "colab": {
          "base_uri": "https://localhost:8080/"
        },
        "id": "Os_w9SxXQSYt",
        "outputId": "8aa19f19-1b6f-49e3-9bf6-660d9a889a0d"
      },
      "outputs": [
        {
          "data": {
            "text/plain": [
              "str"
            ]
          },
          "execution_count": 11,
          "metadata": {},
          "output_type": "execute_result"
        }
      ],
      "source": [
        "type(df['category_groups_list'][0])"
      ]
    },
    {
      "cell_type": "code",
      "execution_count": null,
      "metadata": {
        "id": "5V91cXyM7M5f"
      },
      "outputs": [],
      "source": [
        "# Convert Data frame's column to list \n",
        "# data = df.category_groups_list.values.tolist()  \n",
        "# data"
      ]
    },
    {
      "cell_type": "code",
      "execution_count": 12,
      "metadata": {
        "id": "y0CbwDCzUVYU"
      },
      "outputs": [],
      "source": [
        "from nltk.corpus import stopwords\n",
        "from nltk.stem.wordnet import WordNetLemmatizer\n",
        "import string"
      ]
    },
    {
      "cell_type": "code",
      "execution_count": 13,
      "metadata": {
        "colab": {
          "base_uri": "https://localhost:8080/"
        },
        "id": "28txV-HtVMtn",
        "outputId": "6f60a760-b0af-473e-b48f-9d6edb958300"
      },
      "outputs": [
        {
          "name": "stderr",
          "output_type": "stream",
          "text": [
            "[nltk_data] Downloading package stopwords to\n",
            "[nltk_data]     /Users/jiyoung/nltk_data...\n",
            "[nltk_data]   Package stopwords is already up-to-date!\n",
            "[nltk_data] Downloading package wordnet to /Users/jiyoung/nltk_data...\n",
            "[nltk_data]   Package wordnet is already up-to-date!\n",
            "[nltk_data] Downloading package omw-1.4 to /Users/jiyoung/nltk_data...\n",
            "[nltk_data]   Package omw-1.4 is already up-to-date!\n"
          ]
        },
        {
          "data": {
            "text/plain": [
              "True"
            ]
          },
          "execution_count": 13,
          "metadata": {},
          "output_type": "execute_result"
        }
      ],
      "source": [
        "nltk.download('stopwords')\n",
        "nltk.download('wordnet')\n",
        "nltk.download('omw-1.4')"
      ]
    },
    {
      "cell_type": "code",
      "execution_count": 2,
      "metadata": {},
      "outputs": [
        {
          "name": "stdout",
          "output_type": "stream",
          "text": [
            "showing info https://raw.githubusercontent.com/nltk/nltk_data/gh-pages/index.xml\n"
          ]
        },
        {
          "data": {
            "text/plain": [
              "True"
            ]
          },
          "execution_count": 2,
          "metadata": {},
          "output_type": "execute_result"
        }
      ],
      "source": [
        "import nltk\n",
        "import ssl\n",
        "\n",
        "try:\n",
        "    _create_unverified_https_context = ssl._create_unverified_context\n",
        "except AttributeError:\n",
        "    pass\n",
        "else:\n",
        "    ssl._create_default_https_context = _create_unverified_https_context\n",
        "\n",
        "nltk.download()"
      ]
    },
    {
      "cell_type": "code",
      "execution_count": 14,
      "metadata": {
        "id": "tz4sThdbUwTA"
      },
      "outputs": [],
      "source": [
        "# Remove Stop Words\n",
        "stop = set(stopwords.words('english'))\n",
        "# Exclude any punctuations like comma, dot, etc...and replace it with 'space'\n",
        "exclude = set(string.punctuation)\n",
        "# Do lemmatization\n",
        "lemma = WordNetLemmatizer()\n",
        "def clean(category_groups_list):\n",
        "    stop_free = \" \".join([i for i in category_groups_list.lower().split() if i not in stop])\n",
        "    clean_words = ''.join(' ' if c in string.punctuation else c for c in stop_free)\n",
        "    punc_free = ''.join(ch for ch in clean_words if ch not in exclude)\n",
        "    normalized = \" \".join(lemma.lemmatize(word) for word in punc_free.split())\n",
        "    return normalized"
      ]
    },
    {
      "cell_type": "code",
      "execution_count": 15,
      "metadata": {
        "id": "YcslrwkOWlf_"
      },
      "outputs": [],
      "source": [
        "df['category_cleaned'] = df['category_groups_list'].apply(clean).str.lower()"
      ]
    },
    {
      "cell_type": "code",
      "execution_count": 16,
      "metadata": {
        "colab": {
          "base_uri": "https://localhost:8080/",
          "height": 206
        },
        "id": "kn9VPL1OW1G_",
        "outputId": "ad9702ad-69bb-451a-f5a9-69e0bc766293"
      },
      "outputs": [
        {
          "data": {
            "text/html": [
              "<div>\n",
              "<style scoped>\n",
              "    .dataframe tbody tr th:only-of-type {\n",
              "        vertical-align: middle;\n",
              "    }\n",
              "\n",
              "    .dataframe tbody tr th {\n",
              "        vertical-align: top;\n",
              "    }\n",
              "\n",
              "    .dataframe thead th {\n",
              "        text-align: right;\n",
              "    }\n",
              "</style>\n",
              "<table border=\"1\" class=\"dataframe\">\n",
              "  <thead>\n",
              "    <tr style=\"text-align: right;\">\n",
              "      <th></th>\n",
              "      <th>uuid</th>\n",
              "      <th>name</th>\n",
              "      <th>category_groups_list</th>\n",
              "      <th>category_cleaned</th>\n",
              "    </tr>\n",
              "  </thead>\n",
              "  <tbody>\n",
              "    <tr>\n",
              "      <th>0</th>\n",
              "      <td>e1393508-30ea-8a36-3f96-dd3226033abd</td>\n",
              "      <td>Wetpaint</td>\n",
              "      <td>Content and Publishing,Internet Services,Media...</td>\n",
              "      <td>content publishing internet service medium ent...</td>\n",
              "    </tr>\n",
              "    <tr>\n",
              "      <th>1</th>\n",
              "      <td>5f2b40b8-d1b3-d323-d81a-b7a8e89553d0</td>\n",
              "      <td>Digg</td>\n",
              "      <td>Internet Services,Media and Entertainment</td>\n",
              "      <td>internet service medium entertainment</td>\n",
              "    </tr>\n",
              "    <tr>\n",
              "      <th>2</th>\n",
              "      <td>60485007-8856-bbac-aa1b-c535c41f5f47</td>\n",
              "      <td>Omnidrive</td>\n",
              "      <td>Commerce and Shopping,Internet Services,Media ...</td>\n",
              "      <td>commerce shopping internet service medium ente...</td>\n",
              "    </tr>\n",
              "    <tr>\n",
              "      <th>3</th>\n",
              "      <td>4111dc8b-c0df-2d24-ed33-30cd137b3098</td>\n",
              "      <td>Geni</td>\n",
              "      <td>Community and Lifestyle,Other</td>\n",
              "      <td>community lifestyle other</td>\n",
              "    </tr>\n",
              "    <tr>\n",
              "      <th>4</th>\n",
              "      <td>3d16cb4c-911e-75c0-de5a-15c316b39f98</td>\n",
              "      <td>StumbleUpon</td>\n",
              "      <td>Commerce and Shopping,Internet Services,Media ...</td>\n",
              "      <td>commerce shopping internet service medium ente...</td>\n",
              "    </tr>\n",
              "  </tbody>\n",
              "</table>\n",
              "</div>"
            ],
            "text/plain": [
              "                                   uuid         name  \\\n",
              "0  e1393508-30ea-8a36-3f96-dd3226033abd     Wetpaint   \n",
              "1  5f2b40b8-d1b3-d323-d81a-b7a8e89553d0         Digg   \n",
              "2  60485007-8856-bbac-aa1b-c535c41f5f47    Omnidrive   \n",
              "3  4111dc8b-c0df-2d24-ed33-30cd137b3098         Geni   \n",
              "4  3d16cb4c-911e-75c0-de5a-15c316b39f98  StumbleUpon   \n",
              "\n",
              "                                category_groups_list  \\\n",
              "0  Content and Publishing,Internet Services,Media...   \n",
              "1          Internet Services,Media and Entertainment   \n",
              "2  Commerce and Shopping,Internet Services,Media ...   \n",
              "3                      Community and Lifestyle,Other   \n",
              "4  Commerce and Shopping,Internet Services,Media ...   \n",
              "\n",
              "                                    category_cleaned  \n",
              "0  content publishing internet service medium ent...  \n",
              "1              internet service medium entertainment  \n",
              "2  commerce shopping internet service medium ente...  \n",
              "3                          community lifestyle other  \n",
              "4  commerce shopping internet service medium ente...  "
            ]
          },
          "execution_count": 16,
          "metadata": {},
          "output_type": "execute_result"
        }
      ],
      "source": [
        "df.head()"
      ]
    },
    {
      "cell_type": "code",
      "execution_count": 17,
      "metadata": {
        "id": "PMIRXyFD_dbn"
      },
      "outputs": [],
      "source": [
        "category_final = [x.split(' ') for x in df['category_cleaned']]"
      ]
    },
    {
      "cell_type": "code",
      "execution_count": null,
      "metadata": {
        "colab": {
          "base_uri": "https://localhost:8080/"
        },
        "id": "CPpaKR2T_esi",
        "outputId": "f085caa8-5f50-44cc-8228-fb8877e815fc"
      },
      "outputs": [],
      "source": [
        "category_final"
      ]
    },
    {
      "cell_type": "code",
      "execution_count": 19,
      "metadata": {
        "colab": {
          "base_uri": "https://localhost:8080/"
        },
        "id": "h7aeKphkcMI-",
        "outputId": "fac05d93-6af1-4443-ae6b-97811d1fb4f1"
      },
      "outputs": [
        {
          "name": "stdout",
          "output_type": "stream",
          "text": [
            "[[(0, 1), (1, 1), (2, 1), (3, 1), (4, 1), (5, 1), (6, 1), (7, 1)]]\n"
          ]
        }
      ],
      "source": [
        "# Create Dictionary\n",
        "id2word = corpora.Dictionary(category_final)\n",
        "# Create Corpus\n",
        "# Term Document Frequency (corpus)\n",
        "corpus = [id2word.doc2bow(text) for text in category_final]\n",
        "print(corpus[:1])"
      ]
    },
    {
      "cell_type": "code",
      "execution_count": 20,
      "metadata": {
        "colab": {
          "base_uri": "https://localhost:8080/"
        },
        "id": "SVqJgldmEwtw",
        "outputId": "62c4232d-f7f9-4735-9210-1b3cec175a15"
      },
      "outputs": [
        {
          "data": {
            "text/plain": [
              "[[('content', 1),\n",
              "  ('entertainment', 1),\n",
              "  ('internet', 1),\n",
              "  ('marketing', 1),\n",
              "  ('medium', 1),\n",
              "  ('publishing', 1),\n",
              "  ('sale', 1),\n",
              "  ('service', 1)]]"
            ]
          },
          "execution_count": 20,
          "metadata": {},
          "output_type": "execute_result"
        }
      ],
      "source": [
        "# check what word corresponds to a given id (in readable format)\n",
        "[[(id2word[id], freq) for id, freq in cp] for cp in corpus[:1]]"
      ]
    },
    {
      "cell_type": "code",
      "execution_count": 21,
      "metadata": {
        "colab": {
          "base_uri": "https://localhost:8080/",
          "height": 35
        },
        "id": "bQPgS130A44j",
        "outputId": "9f257857-5ddd-4dd4-fb6e-cd483269161e"
      },
      "outputs": [
        {
          "data": {
            "text/plain": [
              "'internet'"
            ]
          },
          "execution_count": 21,
          "metadata": {},
          "output_type": "execute_result"
        }
      ],
      "source": [
        "id2word[2]"
      ]
    },
    {
      "cell_type": "code",
      "execution_count": 22,
      "metadata": {
        "colab": {
          "base_uri": "https://localhost:8080/"
        },
        "id": "04wHTXPkcV41",
        "outputId": "c86681e1-512c-4e33-f19a-4f2131ea32d1"
      },
      "outputs": [
        {
          "name": "stdout",
          "output_type": "stream",
          "text": [
            "[(0, 0.49037894131751), (1, 0.3026890722568967), (2, 0.24078192221557027), (3, 0.3573646787024616), (4, 0.3026890722568967), (5, 0.49037894131751), (6, 0.3573646787024616), (7, 0.14973535876038904)]\n"
          ]
        }
      ],
      "source": [
        "# TFIDF vectorization on the text column:# Term Frequency Inverse Document Frequency \n",
        "tfidf = models.TfidfModel(corpus)\n",
        "corpus_tfidf = tfidf[corpus]\n",
        "print(corpus_tfidf[0])"
      ]
    },
    {
      "cell_type": "code",
      "execution_count": null,
      "metadata": {
        "id": "938eEH5JrDaM"
      },
      "outputs": [],
      "source": [
        "# Build LDA model\n",
        "lda_model = gensim.models.LdaMulticore(corpus=corpus,\n",
        "                                       id2word=id2word,\n",
        "                                       num_topics=7, \n",
        "                                       random_state=100,\n",
        "                                       chunksize=100,\n",
        "                                       passes=10,\n",
        "                                       per_word_topics=True)"
      ]
    },
    {
      "cell_type": "code",
      "execution_count": null,
      "metadata": {
        "colab": {
          "base_uri": "https://localhost:8080/"
        },
        "id": "NZkCriDFsrjP",
        "outputId": "aa455b8c-4346-44b2-ac8b-805f25de5e92"
      },
      "outputs": [
        {
          "name": "stdout",
          "output_type": "stream",
          "text": [
            "[(0,\n",
            "  '0.370*\"service\" + 0.164*\"financial\" + 0.100*\"internet\" + 0.077*\"software\" + '\n",
            "  '0.071*\"professional\" + 0.063*\"other\" + 0.050*\"payment\" + '\n",
            "  '0.032*\"administrative\" + 0.032*\"lending\" + 0.032*\"investment\"'),\n",
            " (1,\n",
            "  '0.207*\"health\" + 0.207*\"care\" + 0.088*\"science\" + 0.088*\"engineering\" + '\n",
            "  '0.081*\"manufacturing\" + 0.072*\"biotechnology\" + 0.052*\"sustainability\" + '\n",
            "  '0.051*\"community\" + 0.051*\"lifestyle\" + 0.040*\"energy\"'),\n",
            " (2,\n",
            "  '0.264*\"information\" + 0.264*\"technology\" + 0.128*\"software\" + '\n",
            "  '0.111*\"hardware\" + 0.056*\"consumer\" + 0.055*\"electronics\" + 0.034*\"privacy\" '\n",
            "  '+ 0.034*\"security\" + 0.021*\"other\" + 0.010*\"military\"'),\n",
            " (3,\n",
            "  '0.154*\"data\" + 0.154*\"analytics\" + 0.121*\"science\" + 0.121*\"engineering\" + '\n",
            "  '0.111*\"software\" + 0.098*\"intelligence\" + 0.098*\"artificial\" + '\n",
            "  '0.036*\"agriculture\" + 0.036*\"farming\" + 0.030*\"hardware\"'),\n",
            " (4,\n",
            "  '0.167*\"shopping\" + 0.167*\"commerce\" + 0.118*\"food\" + 0.118*\"beverage\" + '\n",
            "  '0.078*\"marketing\" + 0.078*\"sale\" + 0.055*\"good\" + 0.054*\"consumer\" + '\n",
            "  '0.038*\"design\" + 0.032*\"transportation\"'),\n",
            " (5,\n",
            "  '0.272*\"medium\" + 0.272*\"entertainment\" + 0.060*\"content\" + '\n",
            "  '0.060*\"publishing\" + 0.055*\"video\" + 0.053*\"internet\" + 0.044*\"service\" + '\n",
            "  '0.041*\"audio\" + 0.041*\"music\" + 0.031*\"software\"'),\n",
            " (6,\n",
            "  '0.236*\"software\" + 0.102*\"apps\" + 0.096*\"transportation\" + 0.096*\"estate\" + '\n",
            "  '0.096*\"real\" + 0.088*\"education\" + 0.081*\"mobile\" + 0.047*\"other\" + '\n",
            "  '0.047*\"gaming\" + 0.036*\"travel\"')]\n"
          ]
        }
      ],
      "source": [
        "from pprint import pprint\n",
        "# Print the Keyword in the 10 topics\n",
        "pprint(lda_model.print_topics())\n",
        "doc_lda = lda_model[corpus]"
      ]
    },
    {
      "cell_type": "code",
      "execution_count": null,
      "metadata": {
        "colab": {
          "base_uri": "https://localhost:8080/"
        },
        "id": "tZgzHbzhs-i8",
        "outputId": "6d6fee2a-f20a-40f7-e296-4f262fad4799"
      },
      "outputs": [
        {
          "name": "stdout",
          "output_type": "stream",
          "text": [
            "([(0, 0.016034018), (1, 0.015873015), (2, 0.015873015), (3, 0.015873015), (4, 0.23809507), (5, 0.6823788), (6, 0.015873015)], [(0, [5]), (1, [5]), (2, [5]), (3, [4]), (4, [5]), (5, [5]), (6, [4]), (7, [5])], [(0, [(5, 1.0)]), (1, [(5, 1.0)]), (2, [(5, 0.999771)]), (3, [(4, 0.9999993)]), (4, [(5, 1.0)]), (5, [(5, 1.0)]), (6, [(4, 0.9999993)]), (7, [(5, 0.9989937)])])\n"
          ]
        }
      ],
      "source": [
        "print(doc_lda[0])"
      ]
    },
    {
      "cell_type": "code",
      "execution_count": null,
      "metadata": {
        "colab": {
          "base_uri": "https://localhost:8080/"
        },
        "id": "G9h8pmbwsrYZ",
        "outputId": "de185609-933e-456c-87b5-9edc5e82bc61"
      },
      "outputs": [
        {
          "name": "stdout",
          "output_type": "stream",
          "text": [
            "\n",
            "Coherence Score:  0.3425993549874337\n"
          ]
        }
      ],
      "source": [
        "from gensim.models import CoherenceModel\n",
        "# Compute Coherence Score\n",
        "coherence_model_lda = CoherenceModel(model=lda_model, texts=category_final, dictionary=id2word, coherence='c_v')\n",
        "coherence_lda = coherence_model_lda.get_coherence()\n",
        "print('\\nCoherence Score: ', coherence_lda)"
      ]
    },
    {
      "cell_type": "code",
      "execution_count": null,
      "metadata": {
        "id": "3kYQ-ffOMMLD"
      },
      "outputs": [],
      "source": []
    },
    {
      "cell_type": "markdown",
      "metadata": {
        "id": "VCx0VH9MMx_j"
      },
      "source": [
        "retry"
      ]
    },
    {
      "cell_type": "code",
      "execution_count": 16,
      "metadata": {
        "id": "kWRo9On7My9f"
      },
      "outputs": [],
      "source": [
        "def compute_coherence_values(dictionary, corpus, texts, limit, start=5, step=1):\n",
        "    \"\"\"\n",
        "    Compute c_v coherence for various number of topics\n",
        "\n",
        "    Parameters:\n",
        "    ----------\n",
        "    dictionary : Gensim dictionary\n",
        "    corpus : Gensim corpus\n",
        "    texts : List of input texts\n",
        "    limit : Max num of topics\n",
        "\n",
        "    Returns:\n",
        "    -------\n",
        "    model_list : List of LDA topic models\n",
        "    coherence_values : Coherence values corresponding to the LDA model with respective number of topics\n",
        "    \"\"\"\n",
        "    coherence_values = []\n",
        "    model_list = []\n",
        "    for num_topics in range(start, limit, step):\n",
        "        model = gensim.models.LdaMulticore(corpus=corpus, id2word=id2word, num_topics=num_topics, alpha=.1, eta=0.1,random_state=0)\n",
        "        model_list.append(model)\n",
        "        coherencemodel = CoherenceModel(model=model, texts=texts, dictionary=dictionary, coherence='c_v')\n",
        "        coherence_values.append(coherencemodel.get_coherence())  \n",
        "\n",
        "    return model_list, coherence_values"
      ]
    },
    {
      "cell_type": "code",
      "execution_count": null,
      "metadata": {
        "id": "NXAO8qlSPJ9R"
      },
      "outputs": [],
      "source": [
        "# Can take a long time to run.\n",
        "model_list, coherence_values = compute_coherence_values(dictionary=id2word, corpus=corpus, texts=category_final, start=5, limit=21, step=1)"
      ]
    },
    {
      "cell_type": "code",
      "execution_count": 19,
      "metadata": {
        "id": "cOZmdC5ZXGD8"
      },
      "outputs": [],
      "source": [
        "# retry 2 times\n",
        "\n",
        "# supporting function\n",
        "def tuning_compute_coherence_values(dictionary, corpus, k, a, b):\n",
        "\n",
        "        lda_model = gensim.models.LdaMulticore(corpus=corpus, id2word=dictionary, num_topics=k, alpha=a, eta=b, random_state=0)\n",
        "        coherence_model_lda = CoherenceModel(model=lda_model, texts=category_final, dictionary=id2word, coherence='c_v')\n",
        "        \n",
        "        return coherence_model_lda.get_coherence()"
      ]
    },
    {
      "cell_type": "code",
      "execution_count": 41,
      "metadata": {
        "id": "ndZtInYONRPi"
      },
      "outputs": [],
      "source": [
        "num_of_docs = len(corpus)\n",
        "corpus_sets_75 = gensim.utils.ClippedCorpus(corpus, int(num_of_docs*0.75))\n",
        "\n",
        "corpus_sets_100 = [corpus]\n",
        "\n",
        "# gensim.utils.ClippedCorpus(corpus, int(num_of_docs*0.25)), \n",
        "# gensim.utils.ClippedCorpus(corpus, int(num_of_docs*0.5)), "
      ]
    },
    {
      "cell_type": "code",
      "execution_count": 47,
      "metadata": {
        "id": "Pvis8dXUVPxG"
      },
      "outputs": [],
      "source": [
        "hold_out_test_sets = gensim.utils.ClippedCorpus(corpus, int(num_of_docs*0.25))"
      ]
    },
    {
      "cell_type": "code",
      "execution_count": null,
      "metadata": {
        "id": "z-aeocn9YuOR"
      },
      "outputs": [],
      "source": [
        "# Main Hyperparameters_search\n",
        "import numpy as np\n",
        "import tqdm\n",
        "grid = {}\n",
        "grid['Validation_Set'] = {}\n",
        "# Topics range\n",
        "min_topics = 5\n",
        "max_topics = 20\n",
        "step_size = 3\n",
        "topics_range = range(min_topics, max_topics, step_size)\n",
        "# Alpha parameter\n",
        "alpha = list(np.arange(0.01, 1, 0.3))\n",
        "alpha.append('symmetric')\n",
        "alpha.append('asymmetric')\n",
        "# Beta parameter\n",
        "beta = list(np.arange(0.01, 1, 0.3))\n",
        "beta.append('symmetric')\n",
        "# Validation sets\n",
        "num_of_docs = len(corpus)\n",
        "corpus_sets = [# gensim.utils.ClippedCorpus(corpus, num_of_docs*0.25), \n",
        "               # gensim.utils.ClippedCorpus(corpus, num_of_docs*0.5), \n",
        "               gensim.utils.ClippedCorpus(corpus, int(num_of_docs*0.75)), \n",
        "               corpus]\n",
        "corpus_title = ['75% Corpus', '100% Corpus']\n",
        "model_results = {'Validation_Set': [],\n",
        "                 'Topics': [],\n",
        "                 'Alpha': [],\n",
        "                 'Beta': [],\n",
        "                 'Coherence': []\n",
        "                }\n",
        "# Can take a long time to run\n",
        "if 1 == 1:\n",
        "    pbar = tqdm.tqdm(total=540)\n",
        "    \n",
        "    # iterate through validation corpuses\n",
        "    for i in range(len(corpus_sets)):\n",
        "        # iterate through number of topics\n",
        "        for k in topics_range:\n",
        "            # iterate through alpha values\n",
        "            for a in alpha:\n",
        "                # iterare through beta values\n",
        "                for b in beta:\n",
        "                    # get the coherence score for the given parameters\n",
        "                    cv = tuning_compute_coherence_values(corpus=corpus_sets[i], dictionary=id2word, \n",
        "                                                  k=k, a=a, b=b)\n",
        "                    # Save the model results\n",
        "                    model_results['Validation_Set'].append(corpus_title[i])\n",
        "                    model_results['Topics'].append(k)\n",
        "                    model_results['Alpha'].append(a)\n",
        "                    model_results['Beta'].append(b)\n",
        "                    model_results['Coherence'].append(cv)\n",
        "                    \n",
        "                    pbar.update(1)\n",
        "    pd.DataFrame(model_results).to_csv('lda_tuning_results.csv', index=False)\n",
        "    pbar.close()"
      ]
    },
    {
      "cell_type": "code",
      "execution_count": 70,
      "metadata": {
        "id": "xIyRRUMwhXYs"
      },
      "outputs": [],
      "source": [
        "# supporting function2 \n",
        "def tuning_compute_perplexity_values(dictionary, corpus, k):\n",
        "\n",
        "        lda_model_v2 = gensim.models.LdaMulticore(corpus=corpus, id2word=dictionary, num_topics=k, alpha=0.31, eta=0.31, random_state=0)\n",
        "        perplexity_model_lda = lda_model_v2.log_perplexity(corpus)        \n",
        "        return perplexity_model_lda \n"
      ]
    },
    {
      "cell_type": "code",
      "execution_count": 63,
      "metadata": {
        "id": "6X9d63P6pqHD"
      },
      "outputs": [],
      "source": [
        "corpus_sets = gensim.utils.ClippedCorpus(corpus, int(num_of_docs*0.75))"
      ]
    },
    {
      "cell_type": "code",
      "execution_count": null,
      "metadata": {
        "id": "cxgjRRwlpkaO"
      },
      "outputs": [],
      "source": [
        "lda_model_v2 = gensim.models.LdaMulticore(corpus=corpus_sets, id2word=id2word, num_topics=17, alpha=0.31, eta=0.31, random_state=0)\n",
        "perplexity_model_lda = lda_model_v2.log_perplexity(corpus_sets) "
      ]
    },
    {
      "cell_type": "code",
      "execution_count": 85,
      "metadata": {
        "colab": {
          "base_uri": "https://localhost:8080/"
        },
        "id": "Z-3vDTTmqnOk",
        "outputId": "3b77c78a-8e00-4138-918b-daab18aeb66e"
      },
      "outputs": [
        {
          "data": {
            "text/plain": [
              "-3.7846114793797923"
            ]
          },
          "execution_count": 85,
          "metadata": {},
          "output_type": "execute_result"
        }
      ],
      "source": [
        "perplexity_model_lda"
      ]
    },
    {
      "cell_type": "code",
      "execution_count": null,
      "metadata": {
        "id": "1bbN-GutuU4u"
      },
      "outputs": [],
      "source": [
        "# num_topics = 5, Perplexity:  -3.7287984148958913\n",
        "# num_topics = 8, Perplexity:  -3.7094448147849612\n",
        "# num_topics = 11, Perplexity:  -3.76653605730551\n",
        "# num_topics = 14, Perplexity:  -3.764863857178308\n",
        "# num_topics = 17, Perplexity:  -3.7846114793797923"
      ]
    },
    {
      "cell_type": "code",
      "execution_count": 5,
      "metadata": {
        "id": "emT2SQ6HJ5s7"
      },
      "outputs": [],
      "source": [
        "results_v2 = pd.read_csv('/content/lda_tuning_results.csv')"
      ]
    },
    {
      "cell_type": "code",
      "execution_count": 8,
      "metadata": {
        "colab": {
          "base_uri": "https://localhost:8080/"
        },
        "id": "u1KsuadFKkXl",
        "outputId": "dfe62782-7b12-419d-ee1d-6394470314b9"
      },
      "outputs": [
        {
          "name": "stdout",
          "output_type": "stream",
          "text": [
            "The highest coherence score is 0.364267521725306\n"
          ]
        }
      ],
      "source": [
        "best = results_v2[results_v2.Coherence == results_v2.Coherence.max()]\n",
        "\n",
        "print('The highest coherence score is {}'.format(best.Coherence. values[0]))"
      ]
    },
    {
      "cell_type": "code",
      "execution_count": 9,
      "metadata": {
        "colab": {
          "base_uri": "https://localhost:8080/",
          "height": 98
        },
        "id": "yKtZGZpULQ3M",
        "outputId": "91a31b61-172d-4e9f-b6de-094928f86dda"
      },
      "outputs": [
        {
          "name": "stdout",
          "output_type": "stream",
          "text": [
            "And the corresponding parameters are following:\n"
          ]
        },
        {
          "data": {
            "text/html": [
              "\n",
              "  <div id=\"df-159bab3c-e3c9-4a7b-99dd-03551b238640\">\n",
              "    <div class=\"colab-df-container\">\n",
              "      <div>\n",
              "<style scoped>\n",
              "    .dataframe tbody tr th:only-of-type {\n",
              "        vertical-align: middle;\n",
              "    }\n",
              "\n",
              "    .dataframe tbody tr th {\n",
              "        vertical-align: top;\n",
              "    }\n",
              "\n",
              "    .dataframe thead th {\n",
              "        text-align: right;\n",
              "    }\n",
              "</style>\n",
              "<table border=\"1\" class=\"dataframe\">\n",
              "  <thead>\n",
              "    <tr style=\"text-align: right;\">\n",
              "      <th></th>\n",
              "      <th>Topics</th>\n",
              "      <th>Alpha</th>\n",
              "      <th>Beta</th>\n",
              "    </tr>\n",
              "  </thead>\n",
              "  <tbody>\n",
              "    <tr>\n",
              "      <th>0</th>\n",
              "      <td>14</td>\n",
              "      <td>0.31</td>\n",
              "      <td>0.31</td>\n",
              "    </tr>\n",
              "  </tbody>\n",
              "</table>\n",
              "</div>\n",
              "      <button class=\"colab-df-convert\" onclick=\"convertToInteractive('df-159bab3c-e3c9-4a7b-99dd-03551b238640')\"\n",
              "              title=\"Convert this dataframe to an interactive table.\"\n",
              "              style=\"display:none;\">\n",
              "        \n",
              "  <svg xmlns=\"http://www.w3.org/2000/svg\" height=\"24px\"viewBox=\"0 0 24 24\"\n",
              "       width=\"24px\">\n",
              "    <path d=\"M0 0h24v24H0V0z\" fill=\"none\"/>\n",
              "    <path d=\"M18.56 5.44l.94 2.06.94-2.06 2.06-.94-2.06-.94-.94-2.06-.94 2.06-2.06.94zm-11 1L8.5 8.5l.94-2.06 2.06-.94-2.06-.94L8.5 2.5l-.94 2.06-2.06.94zm10 10l.94 2.06.94-2.06 2.06-.94-2.06-.94-.94-2.06-.94 2.06-2.06.94z\"/><path d=\"M17.41 7.96l-1.37-1.37c-.4-.4-.92-.59-1.43-.59-.52 0-1.04.2-1.43.59L10.3 9.45l-7.72 7.72c-.78.78-.78 2.05 0 2.83L4 21.41c.39.39.9.59 1.41.59.51 0 1.02-.2 1.41-.59l7.78-7.78 2.81-2.81c.8-.78.8-2.07 0-2.86zM5.41 20L4 18.59l7.72-7.72 1.47 1.35L5.41 20z\"/>\n",
              "  </svg>\n",
              "      </button>\n",
              "      \n",
              "  <style>\n",
              "    .colab-df-container {\n",
              "      display:flex;\n",
              "      flex-wrap:wrap;\n",
              "      gap: 12px;\n",
              "    }\n",
              "\n",
              "    .colab-df-convert {\n",
              "      background-color: #E8F0FE;\n",
              "      border: none;\n",
              "      border-radius: 50%;\n",
              "      cursor: pointer;\n",
              "      display: none;\n",
              "      fill: #1967D2;\n",
              "      height: 32px;\n",
              "      padding: 0 0 0 0;\n",
              "      width: 32px;\n",
              "    }\n",
              "\n",
              "    .colab-df-convert:hover {\n",
              "      background-color: #E2EBFA;\n",
              "      box-shadow: 0px 1px 2px rgba(60, 64, 67, 0.3), 0px 1px 3px 1px rgba(60, 64, 67, 0.15);\n",
              "      fill: #174EA6;\n",
              "    }\n",
              "\n",
              "    [theme=dark] .colab-df-convert {\n",
              "      background-color: #3B4455;\n",
              "      fill: #D2E3FC;\n",
              "    }\n",
              "\n",
              "    [theme=dark] .colab-df-convert:hover {\n",
              "      background-color: #434B5C;\n",
              "      box-shadow: 0px 1px 3px 1px rgba(0, 0, 0, 0.15);\n",
              "      filter: drop-shadow(0px 1px 2px rgba(0, 0, 0, 0.3));\n",
              "      fill: #FFFFFF;\n",
              "    }\n",
              "  </style>\n",
              "\n",
              "      <script>\n",
              "        const buttonEl =\n",
              "          document.querySelector('#df-159bab3c-e3c9-4a7b-99dd-03551b238640 button.colab-df-convert');\n",
              "        buttonEl.style.display =\n",
              "          google.colab.kernel.accessAllowed ? 'block' : 'none';\n",
              "\n",
              "        async function convertToInteractive(key) {\n",
              "          const element = document.querySelector('#df-159bab3c-e3c9-4a7b-99dd-03551b238640');\n",
              "          const dataTable =\n",
              "            await google.colab.kernel.invokeFunction('convertToInteractive',\n",
              "                                                     [key], {});\n",
              "          if (!dataTable) return;\n",
              "\n",
              "          const docLinkHtml = 'Like what you see? Visit the ' +\n",
              "            '<a target=\"_blank\" href=https://colab.research.google.com/notebooks/data_table.ipynb>data table notebook</a>'\n",
              "            + ' to learn more about interactive tables.';\n",
              "          element.innerHTML = '';\n",
              "          dataTable['output_type'] = 'display_data';\n",
              "          await google.colab.output.renderOutput(dataTable, element);\n",
              "          const docLink = document.createElement('div');\n",
              "          docLink.innerHTML = docLinkHtml;\n",
              "          element.appendChild(docLink);\n",
              "        }\n",
              "      </script>\n",
              "    </div>\n",
              "  </div>\n",
              "  "
            ],
            "text/plain": [
              "   Topics Alpha  Beta\n",
              "0      14  0.31  0.31"
            ]
          },
          "execution_count": 9,
          "metadata": {},
          "output_type": "execute_result"
        }
      ],
      "source": [
        "print('And the corresponding parameters are following:') \n",
        "best[['Topics', 'Alpha', 'Beta']].reset_index(drop=True)"
      ]
    },
    {
      "cell_type": "code",
      "execution_count": 87,
      "metadata": {
        "id": "RLjkGYC-_hHG"
      },
      "outputs": [],
      "source": [
        "# filter the results\n",
        "results = pd.read_csv('/content/lda_tuning_results.csv')\n",
        "results_for_vis = results[results['Alpha']=='0.31']\n",
        "results_for_vis = results_for_vis[results_for_vis['Beta']=='0.31']\n",
        "results_for_vis_75val = results_for_vis[results_for_vis['Validation_Set']=='75% Corpus']\n",
        "results_for_vis_100val = results_for_vis[results_for_vis['Validation_Set']=='100% Corpus']"
      ]
    },
    {
      "cell_type": "code",
      "execution_count": 88,
      "metadata": {
        "colab": {
          "base_uri": "https://localhost:8080/",
          "height": 206
        },
        "id": "JVrQ-ycl_lI-",
        "outputId": "f950a1d2-275e-4e04-b681-5c3df3421951"
      },
      "outputs": [
        {
          "data": {
            "text/html": [
              "\n",
              "  <div id=\"df-538a3f56-392d-452b-a112-1a67cefd62e5\">\n",
              "    <div class=\"colab-df-container\">\n",
              "      <div>\n",
              "<style scoped>\n",
              "    .dataframe tbody tr th:only-of-type {\n",
              "        vertical-align: middle;\n",
              "    }\n",
              "\n",
              "    .dataframe tbody tr th {\n",
              "        vertical-align: top;\n",
              "    }\n",
              "\n",
              "    .dataframe thead th {\n",
              "        text-align: right;\n",
              "    }\n",
              "</style>\n",
              "<table border=\"1\" class=\"dataframe\">\n",
              "  <thead>\n",
              "    <tr style=\"text-align: right;\">\n",
              "      <th></th>\n",
              "      <th>Validation_Set</th>\n",
              "      <th>Topics</th>\n",
              "      <th>Alpha</th>\n",
              "      <th>Beta</th>\n",
              "      <th>Coherence</th>\n",
              "    </tr>\n",
              "  </thead>\n",
              "  <tbody>\n",
              "    <tr>\n",
              "      <th>6</th>\n",
              "      <td>75% Corpus</td>\n",
              "      <td>5</td>\n",
              "      <td>0.31</td>\n",
              "      <td>0.31</td>\n",
              "      <td>0.339189</td>\n",
              "    </tr>\n",
              "    <tr>\n",
              "      <th>36</th>\n",
              "      <td>75% Corpus</td>\n",
              "      <td>8</td>\n",
              "      <td>0.31</td>\n",
              "      <td>0.31</td>\n",
              "      <td>0.341566</td>\n",
              "    </tr>\n",
              "    <tr>\n",
              "      <th>66</th>\n",
              "      <td>75% Corpus</td>\n",
              "      <td>11</td>\n",
              "      <td>0.31</td>\n",
              "      <td>0.31</td>\n",
              "      <td>0.338536</td>\n",
              "    </tr>\n",
              "    <tr>\n",
              "      <th>96</th>\n",
              "      <td>75% Corpus</td>\n",
              "      <td>14</td>\n",
              "      <td>0.31</td>\n",
              "      <td>0.31</td>\n",
              "      <td>0.364268</td>\n",
              "    </tr>\n",
              "    <tr>\n",
              "      <th>126</th>\n",
              "      <td>75% Corpus</td>\n",
              "      <td>17</td>\n",
              "      <td>0.31</td>\n",
              "      <td>0.31</td>\n",
              "      <td>0.349975</td>\n",
              "    </tr>\n",
              "  </tbody>\n",
              "</table>\n",
              "</div>\n",
              "      <button class=\"colab-df-convert\" onclick=\"convertToInteractive('df-538a3f56-392d-452b-a112-1a67cefd62e5')\"\n",
              "              title=\"Convert this dataframe to an interactive table.\"\n",
              "              style=\"display:none;\">\n",
              "        \n",
              "  <svg xmlns=\"http://www.w3.org/2000/svg\" height=\"24px\"viewBox=\"0 0 24 24\"\n",
              "       width=\"24px\">\n",
              "    <path d=\"M0 0h24v24H0V0z\" fill=\"none\"/>\n",
              "    <path d=\"M18.56 5.44l.94 2.06.94-2.06 2.06-.94-2.06-.94-.94-2.06-.94 2.06-2.06.94zm-11 1L8.5 8.5l.94-2.06 2.06-.94-2.06-.94L8.5 2.5l-.94 2.06-2.06.94zm10 10l.94 2.06.94-2.06 2.06-.94-2.06-.94-.94-2.06-.94 2.06-2.06.94z\"/><path d=\"M17.41 7.96l-1.37-1.37c-.4-.4-.92-.59-1.43-.59-.52 0-1.04.2-1.43.59L10.3 9.45l-7.72 7.72c-.78.78-.78 2.05 0 2.83L4 21.41c.39.39.9.59 1.41.59.51 0 1.02-.2 1.41-.59l7.78-7.78 2.81-2.81c.8-.78.8-2.07 0-2.86zM5.41 20L4 18.59l7.72-7.72 1.47 1.35L5.41 20z\"/>\n",
              "  </svg>\n",
              "      </button>\n",
              "      \n",
              "  <style>\n",
              "    .colab-df-container {\n",
              "      display:flex;\n",
              "      flex-wrap:wrap;\n",
              "      gap: 12px;\n",
              "    }\n",
              "\n",
              "    .colab-df-convert {\n",
              "      background-color: #E8F0FE;\n",
              "      border: none;\n",
              "      border-radius: 50%;\n",
              "      cursor: pointer;\n",
              "      display: none;\n",
              "      fill: #1967D2;\n",
              "      height: 32px;\n",
              "      padding: 0 0 0 0;\n",
              "      width: 32px;\n",
              "    }\n",
              "\n",
              "    .colab-df-convert:hover {\n",
              "      background-color: #E2EBFA;\n",
              "      box-shadow: 0px 1px 2px rgba(60, 64, 67, 0.3), 0px 1px 3px 1px rgba(60, 64, 67, 0.15);\n",
              "      fill: #174EA6;\n",
              "    }\n",
              "\n",
              "    [theme=dark] .colab-df-convert {\n",
              "      background-color: #3B4455;\n",
              "      fill: #D2E3FC;\n",
              "    }\n",
              "\n",
              "    [theme=dark] .colab-df-convert:hover {\n",
              "      background-color: #434B5C;\n",
              "      box-shadow: 0px 1px 3px 1px rgba(0, 0, 0, 0.15);\n",
              "      filter: drop-shadow(0px 1px 2px rgba(0, 0, 0, 0.3));\n",
              "      fill: #FFFFFF;\n",
              "    }\n",
              "  </style>\n",
              "\n",
              "      <script>\n",
              "        const buttonEl =\n",
              "          document.querySelector('#df-538a3f56-392d-452b-a112-1a67cefd62e5 button.colab-df-convert');\n",
              "        buttonEl.style.display =\n",
              "          google.colab.kernel.accessAllowed ? 'block' : 'none';\n",
              "\n",
              "        async function convertToInteractive(key) {\n",
              "          const element = document.querySelector('#df-538a3f56-392d-452b-a112-1a67cefd62e5');\n",
              "          const dataTable =\n",
              "            await google.colab.kernel.invokeFunction('convertToInteractive',\n",
              "                                                     [key], {});\n",
              "          if (!dataTable) return;\n",
              "\n",
              "          const docLinkHtml = 'Like what you see? Visit the ' +\n",
              "            '<a target=\"_blank\" href=https://colab.research.google.com/notebooks/data_table.ipynb>data table notebook</a>'\n",
              "            + ' to learn more about interactive tables.';\n",
              "          element.innerHTML = '';\n",
              "          dataTable['output_type'] = 'display_data';\n",
              "          await google.colab.output.renderOutput(dataTable, element);\n",
              "          const docLink = document.createElement('div');\n",
              "          docLink.innerHTML = docLinkHtml;\n",
              "          element.appendChild(docLink);\n",
              "        }\n",
              "      </script>\n",
              "    </div>\n",
              "  </div>\n",
              "  "
            ],
            "text/plain": [
              "    Validation_Set  Topics Alpha  Beta  Coherence\n",
              "6       75% Corpus       5  0.31  0.31   0.339189\n",
              "36      75% Corpus       8  0.31  0.31   0.341566\n",
              "66      75% Corpus      11  0.31  0.31   0.338536\n",
              "96      75% Corpus      14  0.31  0.31   0.364268\n",
              "126     75% Corpus      17  0.31  0.31   0.349975"
            ]
          },
          "execution_count": 88,
          "metadata": {},
          "output_type": "execute_result"
        }
      ],
      "source": [
        "results_for_vis_75val"
      ]
    },
    {
      "cell_type": "code",
      "execution_count": 89,
      "metadata": {
        "id": "2-UU4mnOw3h8"
      },
      "outputs": [],
      "source": [
        "perplexity = [-3.7287984148958913, -3.7094448147849612, -3.76653605730551, -3.764863857178308, -3.7846114793797923]\n",
        "# num_topics = 5, Perplexity:  -3.7287984148958913\n",
        "# num_topics = 8, Perplexity:  -3.7094448147849612\n",
        "# num_topics = 11, Perplexity:  -3.76653605730551\n",
        "# num_topics = 14, Perplexity:  -3.764863857178308\n",
        "# num_topics = 17, Perplexity:  -3.7846114793797923\n",
        "results_for_vis_75val_v2 = pd.DataFrame(results_for_vis_75val)\n",
        "results_for_vis_75val_v2['Perplexity'] = perplexity"
      ]
    },
    {
      "cell_type": "code",
      "execution_count": 90,
      "metadata": {
        "colab": {
          "base_uri": "https://localhost:8080/",
          "height": 206
        },
        "id": "D6wv6WZUx122",
        "outputId": "1124fe6c-8158-4e8c-9815-4fa09b77fffa"
      },
      "outputs": [
        {
          "data": {
            "text/html": [
              "\n",
              "  <div id=\"df-17a5488e-1464-4e7b-9789-248be88c81bc\">\n",
              "    <div class=\"colab-df-container\">\n",
              "      <div>\n",
              "<style scoped>\n",
              "    .dataframe tbody tr th:only-of-type {\n",
              "        vertical-align: middle;\n",
              "    }\n",
              "\n",
              "    .dataframe tbody tr th {\n",
              "        vertical-align: top;\n",
              "    }\n",
              "\n",
              "    .dataframe thead th {\n",
              "        text-align: right;\n",
              "    }\n",
              "</style>\n",
              "<table border=\"1\" class=\"dataframe\">\n",
              "  <thead>\n",
              "    <tr style=\"text-align: right;\">\n",
              "      <th></th>\n",
              "      <th>Validation_Set</th>\n",
              "      <th>Topics</th>\n",
              "      <th>Alpha</th>\n",
              "      <th>Beta</th>\n",
              "      <th>Coherence</th>\n",
              "      <th>Perplexity</th>\n",
              "    </tr>\n",
              "  </thead>\n",
              "  <tbody>\n",
              "    <tr>\n",
              "      <th>6</th>\n",
              "      <td>75% Corpus</td>\n",
              "      <td>5</td>\n",
              "      <td>0.31</td>\n",
              "      <td>0.31</td>\n",
              "      <td>0.339189</td>\n",
              "      <td>-3.728798</td>\n",
              "    </tr>\n",
              "    <tr>\n",
              "      <th>36</th>\n",
              "      <td>75% Corpus</td>\n",
              "      <td>8</td>\n",
              "      <td>0.31</td>\n",
              "      <td>0.31</td>\n",
              "      <td>0.341566</td>\n",
              "      <td>-3.709445</td>\n",
              "    </tr>\n",
              "    <tr>\n",
              "      <th>66</th>\n",
              "      <td>75% Corpus</td>\n",
              "      <td>11</td>\n",
              "      <td>0.31</td>\n",
              "      <td>0.31</td>\n",
              "      <td>0.338536</td>\n",
              "      <td>-3.766536</td>\n",
              "    </tr>\n",
              "    <tr>\n",
              "      <th>96</th>\n",
              "      <td>75% Corpus</td>\n",
              "      <td>14</td>\n",
              "      <td>0.31</td>\n",
              "      <td>0.31</td>\n",
              "      <td>0.364268</td>\n",
              "      <td>-3.764864</td>\n",
              "    </tr>\n",
              "    <tr>\n",
              "      <th>126</th>\n",
              "      <td>75% Corpus</td>\n",
              "      <td>17</td>\n",
              "      <td>0.31</td>\n",
              "      <td>0.31</td>\n",
              "      <td>0.349975</td>\n",
              "      <td>-3.784611</td>\n",
              "    </tr>\n",
              "  </tbody>\n",
              "</table>\n",
              "</div>\n",
              "      <button class=\"colab-df-convert\" onclick=\"convertToInteractive('df-17a5488e-1464-4e7b-9789-248be88c81bc')\"\n",
              "              title=\"Convert this dataframe to an interactive table.\"\n",
              "              style=\"display:none;\">\n",
              "        \n",
              "  <svg xmlns=\"http://www.w3.org/2000/svg\" height=\"24px\"viewBox=\"0 0 24 24\"\n",
              "       width=\"24px\">\n",
              "    <path d=\"M0 0h24v24H0V0z\" fill=\"none\"/>\n",
              "    <path d=\"M18.56 5.44l.94 2.06.94-2.06 2.06-.94-2.06-.94-.94-2.06-.94 2.06-2.06.94zm-11 1L8.5 8.5l.94-2.06 2.06-.94-2.06-.94L8.5 2.5l-.94 2.06-2.06.94zm10 10l.94 2.06.94-2.06 2.06-.94-2.06-.94-.94-2.06-.94 2.06-2.06.94z\"/><path d=\"M17.41 7.96l-1.37-1.37c-.4-.4-.92-.59-1.43-.59-.52 0-1.04.2-1.43.59L10.3 9.45l-7.72 7.72c-.78.78-.78 2.05 0 2.83L4 21.41c.39.39.9.59 1.41.59.51 0 1.02-.2 1.41-.59l7.78-7.78 2.81-2.81c.8-.78.8-2.07 0-2.86zM5.41 20L4 18.59l7.72-7.72 1.47 1.35L5.41 20z\"/>\n",
              "  </svg>\n",
              "      </button>\n",
              "      \n",
              "  <style>\n",
              "    .colab-df-container {\n",
              "      display:flex;\n",
              "      flex-wrap:wrap;\n",
              "      gap: 12px;\n",
              "    }\n",
              "\n",
              "    .colab-df-convert {\n",
              "      background-color: #E8F0FE;\n",
              "      border: none;\n",
              "      border-radius: 50%;\n",
              "      cursor: pointer;\n",
              "      display: none;\n",
              "      fill: #1967D2;\n",
              "      height: 32px;\n",
              "      padding: 0 0 0 0;\n",
              "      width: 32px;\n",
              "    }\n",
              "\n",
              "    .colab-df-convert:hover {\n",
              "      background-color: #E2EBFA;\n",
              "      box-shadow: 0px 1px 2px rgba(60, 64, 67, 0.3), 0px 1px 3px 1px rgba(60, 64, 67, 0.15);\n",
              "      fill: #174EA6;\n",
              "    }\n",
              "\n",
              "    [theme=dark] .colab-df-convert {\n",
              "      background-color: #3B4455;\n",
              "      fill: #D2E3FC;\n",
              "    }\n",
              "\n",
              "    [theme=dark] .colab-df-convert:hover {\n",
              "      background-color: #434B5C;\n",
              "      box-shadow: 0px 1px 3px 1px rgba(0, 0, 0, 0.15);\n",
              "      filter: drop-shadow(0px 1px 2px rgba(0, 0, 0, 0.3));\n",
              "      fill: #FFFFFF;\n",
              "    }\n",
              "  </style>\n",
              "\n",
              "      <script>\n",
              "        const buttonEl =\n",
              "          document.querySelector('#df-17a5488e-1464-4e7b-9789-248be88c81bc button.colab-df-convert');\n",
              "        buttonEl.style.display =\n",
              "          google.colab.kernel.accessAllowed ? 'block' : 'none';\n",
              "\n",
              "        async function convertToInteractive(key) {\n",
              "          const element = document.querySelector('#df-17a5488e-1464-4e7b-9789-248be88c81bc');\n",
              "          const dataTable =\n",
              "            await google.colab.kernel.invokeFunction('convertToInteractive',\n",
              "                                                     [key], {});\n",
              "          if (!dataTable) return;\n",
              "\n",
              "          const docLinkHtml = 'Like what you see? Visit the ' +\n",
              "            '<a target=\"_blank\" href=https://colab.research.google.com/notebooks/data_table.ipynb>data table notebook</a>'\n",
              "            + ' to learn more about interactive tables.';\n",
              "          element.innerHTML = '';\n",
              "          dataTable['output_type'] = 'display_data';\n",
              "          await google.colab.output.renderOutput(dataTable, element);\n",
              "          const docLink = document.createElement('div');\n",
              "          docLink.innerHTML = docLinkHtml;\n",
              "          element.appendChild(docLink);\n",
              "        }\n",
              "      </script>\n",
              "    </div>\n",
              "  </div>\n",
              "  "
            ],
            "text/plain": [
              "    Validation_Set  Topics Alpha  Beta  Coherence  Perplexity\n",
              "6       75% Corpus       5  0.31  0.31   0.339189   -3.728798\n",
              "36      75% Corpus       8  0.31  0.31   0.341566   -3.709445\n",
              "66      75% Corpus      11  0.31  0.31   0.338536   -3.766536\n",
              "96      75% Corpus      14  0.31  0.31   0.364268   -3.764864\n",
              "126     75% Corpus      17  0.31  0.31   0.349975   -3.784611"
            ]
          },
          "execution_count": 90,
          "metadata": {},
          "output_type": "execute_result"
        }
      ],
      "source": [
        "results_for_vis_75val_v2"
      ]
    },
    {
      "cell_type": "code",
      "execution_count": 33,
      "metadata": {
        "colab": {
          "base_uri": "https://localhost:8080/",
          "height": 206
        },
        "id": "BNgk8lzMBuNP",
        "outputId": "c73b73f7-235c-47df-86f3-023c7144e02f"
      },
      "outputs": [
        {
          "data": {
            "text/html": [
              "\n",
              "  <div id=\"df-7e51b05e-4c44-41f9-bdab-6a912f227bcc\">\n",
              "    <div class=\"colab-df-container\">\n",
              "      <div>\n",
              "<style scoped>\n",
              "    .dataframe tbody tr th:only-of-type {\n",
              "        vertical-align: middle;\n",
              "    }\n",
              "\n",
              "    .dataframe tbody tr th {\n",
              "        vertical-align: top;\n",
              "    }\n",
              "\n",
              "    .dataframe thead th {\n",
              "        text-align: right;\n",
              "    }\n",
              "</style>\n",
              "<table border=\"1\" class=\"dataframe\">\n",
              "  <thead>\n",
              "    <tr style=\"text-align: right;\">\n",
              "      <th></th>\n",
              "      <th>Validation_Set</th>\n",
              "      <th>Topics</th>\n",
              "      <th>Alpha</th>\n",
              "      <th>Beta</th>\n",
              "      <th>Coherence</th>\n",
              "    </tr>\n",
              "  </thead>\n",
              "  <tbody>\n",
              "    <tr>\n",
              "      <th>156</th>\n",
              "      <td>100% Corpus</td>\n",
              "      <td>5</td>\n",
              "      <td>0.31</td>\n",
              "      <td>0.31</td>\n",
              "      <td>0.339098</td>\n",
              "    </tr>\n",
              "    <tr>\n",
              "      <th>186</th>\n",
              "      <td>100% Corpus</td>\n",
              "      <td>8</td>\n",
              "      <td>0.31</td>\n",
              "      <td>0.31</td>\n",
              "      <td>0.336851</td>\n",
              "    </tr>\n",
              "    <tr>\n",
              "      <th>216</th>\n",
              "      <td>100% Corpus</td>\n",
              "      <td>11</td>\n",
              "      <td>0.31</td>\n",
              "      <td>0.31</td>\n",
              "      <td>0.337531</td>\n",
              "    </tr>\n",
              "    <tr>\n",
              "      <th>246</th>\n",
              "      <td>100% Corpus</td>\n",
              "      <td>14</td>\n",
              "      <td>0.31</td>\n",
              "      <td>0.31</td>\n",
              "      <td>0.356851</td>\n",
              "    </tr>\n",
              "    <tr>\n",
              "      <th>276</th>\n",
              "      <td>100% Corpus</td>\n",
              "      <td>17</td>\n",
              "      <td>0.31</td>\n",
              "      <td>0.31</td>\n",
              "      <td>0.346507</td>\n",
              "    </tr>\n",
              "  </tbody>\n",
              "</table>\n",
              "</div>\n",
              "      <button class=\"colab-df-convert\" onclick=\"convertToInteractive('df-7e51b05e-4c44-41f9-bdab-6a912f227bcc')\"\n",
              "              title=\"Convert this dataframe to an interactive table.\"\n",
              "              style=\"display:none;\">\n",
              "        \n",
              "  <svg xmlns=\"http://www.w3.org/2000/svg\" height=\"24px\"viewBox=\"0 0 24 24\"\n",
              "       width=\"24px\">\n",
              "    <path d=\"M0 0h24v24H0V0z\" fill=\"none\"/>\n",
              "    <path d=\"M18.56 5.44l.94 2.06.94-2.06 2.06-.94-2.06-.94-.94-2.06-.94 2.06-2.06.94zm-11 1L8.5 8.5l.94-2.06 2.06-.94-2.06-.94L8.5 2.5l-.94 2.06-2.06.94zm10 10l.94 2.06.94-2.06 2.06-.94-2.06-.94-.94-2.06-.94 2.06-2.06.94z\"/><path d=\"M17.41 7.96l-1.37-1.37c-.4-.4-.92-.59-1.43-.59-.52 0-1.04.2-1.43.59L10.3 9.45l-7.72 7.72c-.78.78-.78 2.05 0 2.83L4 21.41c.39.39.9.59 1.41.59.51 0 1.02-.2 1.41-.59l7.78-7.78 2.81-2.81c.8-.78.8-2.07 0-2.86zM5.41 20L4 18.59l7.72-7.72 1.47 1.35L5.41 20z\"/>\n",
              "  </svg>\n",
              "      </button>\n",
              "      \n",
              "  <style>\n",
              "    .colab-df-container {\n",
              "      display:flex;\n",
              "      flex-wrap:wrap;\n",
              "      gap: 12px;\n",
              "    }\n",
              "\n",
              "    .colab-df-convert {\n",
              "      background-color: #E8F0FE;\n",
              "      border: none;\n",
              "      border-radius: 50%;\n",
              "      cursor: pointer;\n",
              "      display: none;\n",
              "      fill: #1967D2;\n",
              "      height: 32px;\n",
              "      padding: 0 0 0 0;\n",
              "      width: 32px;\n",
              "    }\n",
              "\n",
              "    .colab-df-convert:hover {\n",
              "      background-color: #E2EBFA;\n",
              "      box-shadow: 0px 1px 2px rgba(60, 64, 67, 0.3), 0px 1px 3px 1px rgba(60, 64, 67, 0.15);\n",
              "      fill: #174EA6;\n",
              "    }\n",
              "\n",
              "    [theme=dark] .colab-df-convert {\n",
              "      background-color: #3B4455;\n",
              "      fill: #D2E3FC;\n",
              "    }\n",
              "\n",
              "    [theme=dark] .colab-df-convert:hover {\n",
              "      background-color: #434B5C;\n",
              "      box-shadow: 0px 1px 3px 1px rgba(0, 0, 0, 0.15);\n",
              "      filter: drop-shadow(0px 1px 2px rgba(0, 0, 0, 0.3));\n",
              "      fill: #FFFFFF;\n",
              "    }\n",
              "  </style>\n",
              "\n",
              "      <script>\n",
              "        const buttonEl =\n",
              "          document.querySelector('#df-7e51b05e-4c44-41f9-bdab-6a912f227bcc button.colab-df-convert');\n",
              "        buttonEl.style.display =\n",
              "          google.colab.kernel.accessAllowed ? 'block' : 'none';\n",
              "\n",
              "        async function convertToInteractive(key) {\n",
              "          const element = document.querySelector('#df-7e51b05e-4c44-41f9-bdab-6a912f227bcc');\n",
              "          const dataTable =\n",
              "            await google.colab.kernel.invokeFunction('convertToInteractive',\n",
              "                                                     [key], {});\n",
              "          if (!dataTable) return;\n",
              "\n",
              "          const docLinkHtml = 'Like what you see? Visit the ' +\n",
              "            '<a target=\"_blank\" href=https://colab.research.google.com/notebooks/data_table.ipynb>data table notebook</a>'\n",
              "            + ' to learn more about interactive tables.';\n",
              "          element.innerHTML = '';\n",
              "          dataTable['output_type'] = 'display_data';\n",
              "          await google.colab.output.renderOutput(dataTable, element);\n",
              "          const docLink = document.createElement('div');\n",
              "          docLink.innerHTML = docLinkHtml;\n",
              "          element.appendChild(docLink);\n",
              "        }\n",
              "      </script>\n",
              "    </div>\n",
              "  </div>\n",
              "  "
            ],
            "text/plain": [
              "    Validation_Set  Topics Alpha  Beta  Coherence\n",
              "156    100% Corpus       5  0.31  0.31   0.339098\n",
              "186    100% Corpus       8  0.31  0.31   0.336851\n",
              "216    100% Corpus      11  0.31  0.31   0.337531\n",
              "246    100% Corpus      14  0.31  0.31   0.356851\n",
              "276    100% Corpus      17  0.31  0.31   0.346507"
            ]
          },
          "execution_count": 33,
          "metadata": {},
          "output_type": "execute_result"
        }
      ],
      "source": [
        "results_for_vis_100val"
      ]
    },
    {
      "cell_type": "code",
      "execution_count": 111,
      "metadata": {
        "colab": {
          "base_uri": "https://localhost:8080/",
          "height": 283
        },
        "id": "V4Jf8fW4z80j",
        "outputId": "233405c9-8f59-4998-e496-7adc6c5042e2"
      },
      "outputs": [
        {
          "data": {
            "image/png": "[encoded data removed]",
            "text/plain": [
              "<Figure size 432x288 with 2 Axes>"
            ]
          },
          "metadata": {
            "needs_background": "light"
          },
          "output_type": "display_data"
        }
      ],
      "source": [
        "import pylab as pl\n",
        "import matplotlib.pyplot as plt\n",
        "# create figure and axis objects with subplots()\n",
        "fig,ax = plt.subplots()\n",
        "# make a plot\n",
        "coh_plot = ax.plot(results_for_vis_75val_v2.Topics, results_for_vis_75val_v2['Coherence'], marker='o', label='Coherence')\n",
        "# set x-axis label\n",
        "ax.set_xlabel('Number of Topics', fontsize = 14)\n",
        "# set y-axis label\n",
        "ax.set_ylabel('Coherence Score (C_v)',fontsize=11)\n",
        "\n",
        "# twin object for two different y-axis on the sample plot\n",
        "ax2=ax.twinx()\n",
        "# make a plot with different y-axis using second axis object\n",
        "perp_plot = ax2.plot(results_for_vis_75val_v2.Topics, results_for_vis_75val_v2['Perplexity'], color= 'orange', marker='o', label='Perplexity')\n",
        "ax2.set_ylabel('Perplexity', fontsize=11)\n",
        "\n",
        "plots = coh_plot+perp_plot\n",
        "labs = [l.get_label() for l in plots]\n",
        "ax.legend(plots, labs, loc='best')\n",
        "\n",
        "plt.show()\n",
        "\n",
        "# save the plot as a file\n",
        "fig.savefig('coherence_perplexity_plot.png',\n",
        "            format='png',\n",
        "            dpi=100,\n",
        "            bbox_inches='tight')"
      ]
    },
    {
      "cell_type": "code",
      "execution_count": 73,
      "metadata": {
        "colab": {
          "base_uri": "https://localhost:8080/",
          "height": 279
        },
        "id": "pH6T4tD1ICdm",
        "outputId": "2eb291a5-2d9d-43b2-c501-f212457c5d80"
      },
      "outputs": [
        {
          "data": {
            "image/png": "[encoded data removed]",
            "text/plain": [
              "<Figure size 432x288 with 1 Axes>"
            ]
          },
          "metadata": {
            "needs_background": "light"
          },
          "output_type": "display_data"
        }
      ],
      "source": [
        "import pylab as pl\n",
        "import matplotlib.pyplot as plt\n",
        "\n",
        "plt.plot(np.array(results_for_vis_75val['Topics']), np.array(results_for_vis_75val['Coherence']))\n",
        "plt.scatter(np.array(results_for_vis_75val['Topics']), np.array(results_for_vis_75val['Coherence']), label ='75% validation set')\n",
        "plt.ylabel('Coherence Score (C_v)')\n",
        "plt.xlabel('Number of Topics')\n",
        "plt.xticks(np.array(results_for_vis_75val['Topics']))\n",
        "\n",
        "plt.plot(np.array(results_for_vis_100val['Topics']), np.array(results_for_vis_100val['Coherence']), label ='100% validation set')\n",
        "plt.scatter(np.array(results_for_vis_100val['Topics']), np.array(results_for_vis_100val['Coherence']))\n",
        "plt.legend(loc='best')\n",
        "\n",
        "plt.show()\n",
        "\n",
        "#CHOOSE THIS PLOT (0.31, 0.31)"
      ]
    },
    {
      "cell_type": "code",
      "execution_count": 35,
      "metadata": {
        "id": "9JjJ52-Q_rwj"
      },
      "outputs": [],
      "source": [
        "results_for_vis2 = results[results['Alpha']=='0.31']\n",
        "results_for_vis2 = results_for_vis2[results_for_vis2['Beta']=='0.61']\n",
        "results_for_vis2_75val = results_for_vis2[results_for_vis2['Validation_Set']=='75% Corpus']\n",
        "results_for_vis2_100val = results_for_vis2[results_for_vis2['Validation_Set']=='100% Corpus']"
      ]
    },
    {
      "cell_type": "code",
      "execution_count": 36,
      "metadata": {
        "colab": {
          "base_uri": "https://localhost:8080/",
          "height": 206
        },
        "id": "oJU73kXWAYeB",
        "outputId": "b8ac588b-6e32-4049-ae15-b0fbb1c83786"
      },
      "outputs": [
        {
          "data": {
            "text/html": [
              "\n",
              "  <div id=\"df-69ca8472-d722-46a7-b0c6-af5f64beb07b\">\n",
              "    <div class=\"colab-df-container\">\n",
              "      <div>\n",
              "<style scoped>\n",
              "    .dataframe tbody tr th:only-of-type {\n",
              "        vertical-align: middle;\n",
              "    }\n",
              "\n",
              "    .dataframe tbody tr th {\n",
              "        vertical-align: top;\n",
              "    }\n",
              "\n",
              "    .dataframe thead th {\n",
              "        text-align: right;\n",
              "    }\n",
              "</style>\n",
              "<table border=\"1\" class=\"dataframe\">\n",
              "  <thead>\n",
              "    <tr style=\"text-align: right;\">\n",
              "      <th></th>\n",
              "      <th>Validation_Set</th>\n",
              "      <th>Topics</th>\n",
              "      <th>Alpha</th>\n",
              "      <th>Beta</th>\n",
              "      <th>Coherence</th>\n",
              "    </tr>\n",
              "  </thead>\n",
              "  <tbody>\n",
              "    <tr>\n",
              "      <th>7</th>\n",
              "      <td>75% Corpus</td>\n",
              "      <td>5</td>\n",
              "      <td>0.31</td>\n",
              "      <td>0.61</td>\n",
              "      <td>0.339607</td>\n",
              "    </tr>\n",
              "    <tr>\n",
              "      <th>37</th>\n",
              "      <td>75% Corpus</td>\n",
              "      <td>8</td>\n",
              "      <td>0.31</td>\n",
              "      <td>0.61</td>\n",
              "      <td>0.341566</td>\n",
              "    </tr>\n",
              "    <tr>\n",
              "      <th>67</th>\n",
              "      <td>75% Corpus</td>\n",
              "      <td>11</td>\n",
              "      <td>0.31</td>\n",
              "      <td>0.61</td>\n",
              "      <td>0.338536</td>\n",
              "    </tr>\n",
              "    <tr>\n",
              "      <th>97</th>\n",
              "      <td>75% Corpus</td>\n",
              "      <td>14</td>\n",
              "      <td>0.31</td>\n",
              "      <td>0.61</td>\n",
              "      <td>0.363242</td>\n",
              "    </tr>\n",
              "    <tr>\n",
              "      <th>127</th>\n",
              "      <td>75% Corpus</td>\n",
              "      <td>17</td>\n",
              "      <td>0.31</td>\n",
              "      <td>0.61</td>\n",
              "      <td>0.345841</td>\n",
              "    </tr>\n",
              "  </tbody>\n",
              "</table>\n",
              "</div>\n",
              "      <button class=\"colab-df-convert\" onclick=\"convertToInteractive('df-69ca8472-d722-46a7-b0c6-af5f64beb07b')\"\n",
              "              title=\"Convert this dataframe to an interactive table.\"\n",
              "              style=\"display:none;\">\n",
              "        \n",
              "  <svg xmlns=\"http://www.w3.org/2000/svg\" height=\"24px\"viewBox=\"0 0 24 24\"\n",
              "       width=\"24px\">\n",
              "    <path d=\"M0 0h24v24H0V0z\" fill=\"none\"/>\n",
              "    <path d=\"M18.56 5.44l.94 2.06.94-2.06 2.06-.94-2.06-.94-.94-2.06-.94 2.06-2.06.94zm-11 1L8.5 8.5l.94-2.06 2.06-.94-2.06-.94L8.5 2.5l-.94 2.06-2.06.94zm10 10l.94 2.06.94-2.06 2.06-.94-2.06-.94-.94-2.06-.94 2.06-2.06.94z\"/><path d=\"M17.41 7.96l-1.37-1.37c-.4-.4-.92-.59-1.43-.59-.52 0-1.04.2-1.43.59L10.3 9.45l-7.72 7.72c-.78.78-.78 2.05 0 2.83L4 21.41c.39.39.9.59 1.41.59.51 0 1.02-.2 1.41-.59l7.78-7.78 2.81-2.81c.8-.78.8-2.07 0-2.86zM5.41 20L4 18.59l7.72-7.72 1.47 1.35L5.41 20z\"/>\n",
              "  </svg>\n",
              "      </button>\n",
              "      \n",
              "  <style>\n",
              "    .colab-df-container {\n",
              "      display:flex;\n",
              "      flex-wrap:wrap;\n",
              "      gap: 12px;\n",
              "    }\n",
              "\n",
              "    .colab-df-convert {\n",
              "      background-color: #E8F0FE;\n",
              "      border: none;\n",
              "      border-radius: 50%;\n",
              "      cursor: pointer;\n",
              "      display: none;\n",
              "      fill: #1967D2;\n",
              "      height: 32px;\n",
              "      padding: 0 0 0 0;\n",
              "      width: 32px;\n",
              "    }\n",
              "\n",
              "    .colab-df-convert:hover {\n",
              "      background-color: #E2EBFA;\n",
              "      box-shadow: 0px 1px 2px rgba(60, 64, 67, 0.3), 0px 1px 3px 1px rgba(60, 64, 67, 0.15);\n",
              "      fill: #174EA6;\n",
              "    }\n",
              "\n",
              "    [theme=dark] .colab-df-convert {\n",
              "      background-color: #3B4455;\n",
              "      fill: #D2E3FC;\n",
              "    }\n",
              "\n",
              "    [theme=dark] .colab-df-convert:hover {\n",
              "      background-color: #434B5C;\n",
              "      box-shadow: 0px 1px 3px 1px rgba(0, 0, 0, 0.15);\n",
              "      filter: drop-shadow(0px 1px 2px rgba(0, 0, 0, 0.3));\n",
              "      fill: #FFFFFF;\n",
              "    }\n",
              "  </style>\n",
              "\n",
              "      <script>\n",
              "        const buttonEl =\n",
              "          document.querySelector('#df-69ca8472-d722-46a7-b0c6-af5f64beb07b button.colab-df-convert');\n",
              "        buttonEl.style.display =\n",
              "          google.colab.kernel.accessAllowed ? 'block' : 'none';\n",
              "\n",
              "        async function convertToInteractive(key) {\n",
              "          const element = document.querySelector('#df-69ca8472-d722-46a7-b0c6-af5f64beb07b');\n",
              "          const dataTable =\n",
              "            await google.colab.kernel.invokeFunction('convertToInteractive',\n",
              "                                                     [key], {});\n",
              "          if (!dataTable) return;\n",
              "\n",
              "          const docLinkHtml = 'Like what you see? Visit the ' +\n",
              "            '<a target=\"_blank\" href=https://colab.research.google.com/notebooks/data_table.ipynb>data table notebook</a>'\n",
              "            + ' to learn more about interactive tables.';\n",
              "          element.innerHTML = '';\n",
              "          dataTable['output_type'] = 'display_data';\n",
              "          await google.colab.output.renderOutput(dataTable, element);\n",
              "          const docLink = document.createElement('div');\n",
              "          docLink.innerHTML = docLinkHtml;\n",
              "          element.appendChild(docLink);\n",
              "        }\n",
              "      </script>\n",
              "    </div>\n",
              "  </div>\n",
              "  "
            ],
            "text/plain": [
              "    Validation_Set  Topics Alpha  Beta  Coherence\n",
              "7       75% Corpus       5  0.31  0.61   0.339607\n",
              "37      75% Corpus       8  0.31  0.61   0.341566\n",
              "67      75% Corpus      11  0.31  0.61   0.338536\n",
              "97      75% Corpus      14  0.31  0.61   0.363242\n",
              "127     75% Corpus      17  0.31  0.61   0.345841"
            ]
          },
          "execution_count": 36,
          "metadata": {},
          "output_type": "execute_result"
        }
      ],
      "source": [
        "results_for_vis2_75val"
      ]
    },
    {
      "cell_type": "code",
      "execution_count": 37,
      "metadata": {
        "colab": {
          "base_uri": "https://localhost:8080/",
          "height": 206
        },
        "id": "b1nZ-mXsBso3",
        "outputId": "88f076b6-c0fd-4957-c938-8b5b62853a38"
      },
      "outputs": [
        {
          "data": {
            "text/html": [
              "\n",
              "  <div id=\"df-384b70e5-d928-4f99-9b26-67516a9aa0c2\">\n",
              "    <div class=\"colab-df-container\">\n",
              "      <div>\n",
              "<style scoped>\n",
              "    .dataframe tbody tr th:only-of-type {\n",
              "        vertical-align: middle;\n",
              "    }\n",
              "\n",
              "    .dataframe tbody tr th {\n",
              "        vertical-align: top;\n",
              "    }\n",
              "\n",
              "    .dataframe thead th {\n",
              "        text-align: right;\n",
              "    }\n",
              "</style>\n",
              "<table border=\"1\" class=\"dataframe\">\n",
              "  <thead>\n",
              "    <tr style=\"text-align: right;\">\n",
              "      <th></th>\n",
              "      <th>Validation_Set</th>\n",
              "      <th>Topics</th>\n",
              "      <th>Alpha</th>\n",
              "      <th>Beta</th>\n",
              "      <th>Coherence</th>\n",
              "    </tr>\n",
              "  </thead>\n",
              "  <tbody>\n",
              "    <tr>\n",
              "      <th>157</th>\n",
              "      <td>100% Corpus</td>\n",
              "      <td>5</td>\n",
              "      <td>0.31</td>\n",
              "      <td>0.61</td>\n",
              "      <td>0.339098</td>\n",
              "    </tr>\n",
              "    <tr>\n",
              "      <th>187</th>\n",
              "      <td>100% Corpus</td>\n",
              "      <td>8</td>\n",
              "      <td>0.31</td>\n",
              "      <td>0.61</td>\n",
              "      <td>0.336851</td>\n",
              "    </tr>\n",
              "    <tr>\n",
              "      <th>217</th>\n",
              "      <td>100% Corpus</td>\n",
              "      <td>11</td>\n",
              "      <td>0.31</td>\n",
              "      <td>0.61</td>\n",
              "      <td>0.337531</td>\n",
              "    </tr>\n",
              "    <tr>\n",
              "      <th>247</th>\n",
              "      <td>100% Corpus</td>\n",
              "      <td>14</td>\n",
              "      <td>0.31</td>\n",
              "      <td>0.61</td>\n",
              "      <td>0.356851</td>\n",
              "    </tr>\n",
              "    <tr>\n",
              "      <th>277</th>\n",
              "      <td>100% Corpus</td>\n",
              "      <td>17</td>\n",
              "      <td>0.31</td>\n",
              "      <td>0.61</td>\n",
              "      <td>0.345368</td>\n",
              "    </tr>\n",
              "  </tbody>\n",
              "</table>\n",
              "</div>\n",
              "      <button class=\"colab-df-convert\" onclick=\"convertToInteractive('df-384b70e5-d928-4f99-9b26-67516a9aa0c2')\"\n",
              "              title=\"Convert this dataframe to an interactive table.\"\n",
              "              style=\"display:none;\">\n",
              "        \n",
              "  <svg xmlns=\"http://www.w3.org/2000/svg\" height=\"24px\"viewBox=\"0 0 24 24\"\n",
              "       width=\"24px\">\n",
              "    <path d=\"M0 0h24v24H0V0z\" fill=\"none\"/>\n",
              "    <path d=\"M18.56 5.44l.94 2.06.94-2.06 2.06-.94-2.06-.94-.94-2.06-.94 2.06-2.06.94zm-11 1L8.5 8.5l.94-2.06 2.06-.94-2.06-.94L8.5 2.5l-.94 2.06-2.06.94zm10 10l.94 2.06.94-2.06 2.06-.94-2.06-.94-.94-2.06-.94 2.06-2.06.94z\"/><path d=\"M17.41 7.96l-1.37-1.37c-.4-.4-.92-.59-1.43-.59-.52 0-1.04.2-1.43.59L10.3 9.45l-7.72 7.72c-.78.78-.78 2.05 0 2.83L4 21.41c.39.39.9.59 1.41.59.51 0 1.02-.2 1.41-.59l7.78-7.78 2.81-2.81c.8-.78.8-2.07 0-2.86zM5.41 20L4 18.59l7.72-7.72 1.47 1.35L5.41 20z\"/>\n",
              "  </svg>\n",
              "      </button>\n",
              "      \n",
              "  <style>\n",
              "    .colab-df-container {\n",
              "      display:flex;\n",
              "      flex-wrap:wrap;\n",
              "      gap: 12px;\n",
              "    }\n",
              "\n",
              "    .colab-df-convert {\n",
              "      background-color: #E8F0FE;\n",
              "      border: none;\n",
              "      border-radius: 50%;\n",
              "      cursor: pointer;\n",
              "      display: none;\n",
              "      fill: #1967D2;\n",
              "      height: 32px;\n",
              "      padding: 0 0 0 0;\n",
              "      width: 32px;\n",
              "    }\n",
              "\n",
              "    .colab-df-convert:hover {\n",
              "      background-color: #E2EBFA;\n",
              "      box-shadow: 0px 1px 2px rgba(60, 64, 67, 0.3), 0px 1px 3px 1px rgba(60, 64, 67, 0.15);\n",
              "      fill: #174EA6;\n",
              "    }\n",
              "\n",
              "    [theme=dark] .colab-df-convert {\n",
              "      background-color: #3B4455;\n",
              "      fill: #D2E3FC;\n",
              "    }\n",
              "\n",
              "    [theme=dark] .colab-df-convert:hover {\n",
              "      background-color: #434B5C;\n",
              "      box-shadow: 0px 1px 3px 1px rgba(0, 0, 0, 0.15);\n",
              "      filter: drop-shadow(0px 1px 2px rgba(0, 0, 0, 0.3));\n",
              "      fill: #FFFFFF;\n",
              "    }\n",
              "  </style>\n",
              "\n",
              "      <script>\n",
              "        const buttonEl =\n",
              "          document.querySelector('#df-384b70e5-d928-4f99-9b26-67516a9aa0c2 button.colab-df-convert');\n",
              "        buttonEl.style.display =\n",
              "          google.colab.kernel.accessAllowed ? 'block' : 'none';\n",
              "\n",
              "        async function convertToInteractive(key) {\n",
              "          const element = document.querySelector('#df-384b70e5-d928-4f99-9b26-67516a9aa0c2');\n",
              "          const dataTable =\n",
              "            await google.colab.kernel.invokeFunction('convertToInteractive',\n",
              "                                                     [key], {});\n",
              "          if (!dataTable) return;\n",
              "\n",
              "          const docLinkHtml = 'Like what you see? Visit the ' +\n",
              "            '<a target=\"_blank\" href=https://colab.research.google.com/notebooks/data_table.ipynb>data table notebook</a>'\n",
              "            + ' to learn more about interactive tables.';\n",
              "          element.innerHTML = '';\n",
              "          dataTable['output_type'] = 'display_data';\n",
              "          await google.colab.output.renderOutput(dataTable, element);\n",
              "          const docLink = document.createElement('div');\n",
              "          docLink.innerHTML = docLinkHtml;\n",
              "          element.appendChild(docLink);\n",
              "        }\n",
              "      </script>\n",
              "    </div>\n",
              "  </div>\n",
              "  "
            ],
            "text/plain": [
              "    Validation_Set  Topics Alpha  Beta  Coherence\n",
              "157    100% Corpus       5  0.31  0.61   0.339098\n",
              "187    100% Corpus       8  0.31  0.61   0.336851\n",
              "217    100% Corpus      11  0.31  0.61   0.337531\n",
              "247    100% Corpus      14  0.31  0.61   0.356851\n",
              "277    100% Corpus      17  0.31  0.61   0.345368"
            ]
          },
          "execution_count": 37,
          "metadata": {},
          "output_type": "execute_result"
        }
      ],
      "source": [
        "results_for_vis2_100val"
      ]
    },
    {
      "cell_type": "code",
      "execution_count": 72,
      "metadata": {
        "colab": {
          "base_uri": "https://localhost:8080/",
          "height": 279
        },
        "id": "CTtjKMXsCj8s",
        "outputId": "4e0469d2-9e32-41af-d7b5-104427d80fe7"
      },
      "outputs": [
        {
          "data": {
            "image/png": "[encoded data removed]",
            "text/plain": [
              "<Figure size 432x288 with 1 Axes>"
            ]
          },
          "metadata": {
            "needs_background": "light"
          },
          "output_type": "display_data"
        }
      ],
      "source": [
        "# now the plot\n",
        "# import matplotlib.pyplot as plt\n",
        "# plt.plot(np.array(results_for_vis2_100val['Topics']), np.array(results_for_vis2_100val['Coherence']))\n",
        "# plt.scatter(np.array(results_for_vis2_100val['Topics']), np.array(results_for_vis2_100val['Coherence']))\n",
        "# plt.ylabel('Coherence Score (C_v)')\n",
        "# plt.xlabel('Number of Topics')\n",
        "# plt.xticks(np.array(results_for_vis2_100val['Topics']))\n",
        "# plt.show()\n",
        "\n",
        "\n",
        "import pylab as pl\n",
        "import matplotlib.pyplot as plt\n",
        "\n",
        "plt.plot(np.array(results_for_vis2_75val['Topics']), np.array(results_for_vis2_75val['Coherence']))\n",
        "plt.scatter(np.array(results_for_vis2_75val['Topics']), np.array(results_for_vis2_75val['Coherence']), label ='75% validation set')\n",
        "plt.ylabel('Coherence Score (C_v)')\n",
        "plt.xlabel('Number of Topics')\n",
        "plt.xticks(np.array(results_for_vis2_75val['Topics']))\n",
        "\n",
        "plt.plot(np.array(results_for_vis2_100val['Topics']), np.array(results_for_vis2_100val['Coherence']), label ='100% validation set')\n",
        "plt.scatter(np.array(results_for_vis2_100val['Topics']), np.array(results_for_vis2_100val['Coherence']))\n",
        "plt.legend(loc='best')\n",
        "\n",
        "plt.show()"
      ]
    },
    {
      "cell_type": "code",
      "execution_count": 49,
      "metadata": {
        "id": "3KJLvG9iC680"
      },
      "outputs": [],
      "source": [
        "# filter the results\n",
        "results_for_vis3 = results[results['Alpha']=='0.01']\n",
        "results_for_vis3 = results_for_vis3[results_for_vis3['Beta']=='0.01']\n",
        "results_for_vis3_75val = results_for_vis3[results_for_vis3['Validation_Set']=='75% Corpus']\n",
        "results_for_vis3_100val = results_for_vis3[results_for_vis3['Validation_Set']=='100% Corpus']"
      ]
    },
    {
      "cell_type": "code",
      "execution_count": 50,
      "metadata": {
        "colab": {
          "base_uri": "https://localhost:8080/",
          "height": 206
        },
        "id": "1bHPZf04DIep",
        "outputId": "45cf91ef-b50e-4723-eecd-b9fd3fc1ae1d"
      },
      "outputs": [
        {
          "data": {
            "text/html": [
              "\n",
              "  <div id=\"df-ab9378cf-41c8-43fe-96f1-5034955ea04b\">\n",
              "    <div class=\"colab-df-container\">\n",
              "      <div>\n",
              "<style scoped>\n",
              "    .dataframe tbody tr th:only-of-type {\n",
              "        vertical-align: middle;\n",
              "    }\n",
              "\n",
              "    .dataframe tbody tr th {\n",
              "        vertical-align: top;\n",
              "    }\n",
              "\n",
              "    .dataframe thead th {\n",
              "        text-align: right;\n",
              "    }\n",
              "</style>\n",
              "<table border=\"1\" class=\"dataframe\">\n",
              "  <thead>\n",
              "    <tr style=\"text-align: right;\">\n",
              "      <th></th>\n",
              "      <th>Validation_Set</th>\n",
              "      <th>Topics</th>\n",
              "      <th>Alpha</th>\n",
              "      <th>Beta</th>\n",
              "      <th>Coherence</th>\n",
              "    </tr>\n",
              "  </thead>\n",
              "  <tbody>\n",
              "    <tr>\n",
              "      <th>0</th>\n",
              "      <td>75% Corpus</td>\n",
              "      <td>5</td>\n",
              "      <td>0.01</td>\n",
              "      <td>0.01</td>\n",
              "      <td>0.278750</td>\n",
              "    </tr>\n",
              "    <tr>\n",
              "      <th>30</th>\n",
              "      <td>75% Corpus</td>\n",
              "      <td>8</td>\n",
              "      <td>0.01</td>\n",
              "      <td>0.01</td>\n",
              "      <td>0.307398</td>\n",
              "    </tr>\n",
              "    <tr>\n",
              "      <th>60</th>\n",
              "      <td>75% Corpus</td>\n",
              "      <td>11</td>\n",
              "      <td>0.01</td>\n",
              "      <td>0.01</td>\n",
              "      <td>0.331364</td>\n",
              "    </tr>\n",
              "    <tr>\n",
              "      <th>90</th>\n",
              "      <td>75% Corpus</td>\n",
              "      <td>14</td>\n",
              "      <td>0.01</td>\n",
              "      <td>0.01</td>\n",
              "      <td>0.358968</td>\n",
              "    </tr>\n",
              "    <tr>\n",
              "      <th>120</th>\n",
              "      <td>75% Corpus</td>\n",
              "      <td>17</td>\n",
              "      <td>0.01</td>\n",
              "      <td>0.01</td>\n",
              "      <td>0.321452</td>\n",
              "    </tr>\n",
              "  </tbody>\n",
              "</table>\n",
              "</div>\n",
              "      <button class=\"colab-df-convert\" onclick=\"convertToInteractive('df-ab9378cf-41c8-43fe-96f1-5034955ea04b')\"\n",
              "              title=\"Convert this dataframe to an interactive table.\"\n",
              "              style=\"display:none;\">\n",
              "        \n",
              "  <svg xmlns=\"http://www.w3.org/2000/svg\" height=\"24px\"viewBox=\"0 0 24 24\"\n",
              "       width=\"24px\">\n",
              "    <path d=\"M0 0h24v24H0V0z\" fill=\"none\"/>\n",
              "    <path d=\"M18.56 5.44l.94 2.06.94-2.06 2.06-.94-2.06-.94-.94-2.06-.94 2.06-2.06.94zm-11 1L8.5 8.5l.94-2.06 2.06-.94-2.06-.94L8.5 2.5l-.94 2.06-2.06.94zm10 10l.94 2.06.94-2.06 2.06-.94-2.06-.94-.94-2.06-.94 2.06-2.06.94z\"/><path d=\"M17.41 7.96l-1.37-1.37c-.4-.4-.92-.59-1.43-.59-.52 0-1.04.2-1.43.59L10.3 9.45l-7.72 7.72c-.78.78-.78 2.05 0 2.83L4 21.41c.39.39.9.59 1.41.59.51 0 1.02-.2 1.41-.59l7.78-7.78 2.81-2.81c.8-.78.8-2.07 0-2.86zM5.41 20L4 18.59l7.72-7.72 1.47 1.35L5.41 20z\"/>\n",
              "  </svg>\n",
              "      </button>\n",
              "      \n",
              "  <style>\n",
              "    .colab-df-container {\n",
              "      display:flex;\n",
              "      flex-wrap:wrap;\n",
              "      gap: 12px;\n",
              "    }\n",
              "\n",
              "    .colab-df-convert {\n",
              "      background-color: #E8F0FE;\n",
              "      border: none;\n",
              "      border-radius: 50%;\n",
              "      cursor: pointer;\n",
              "      display: none;\n",
              "      fill: #1967D2;\n",
              "      height: 32px;\n",
              "      padding: 0 0 0 0;\n",
              "      width: 32px;\n",
              "    }\n",
              "\n",
              "    .colab-df-convert:hover {\n",
              "      background-color: #E2EBFA;\n",
              "      box-shadow: 0px 1px 2px rgba(60, 64, 67, 0.3), 0px 1px 3px 1px rgba(60, 64, 67, 0.15);\n",
              "      fill: #174EA6;\n",
              "    }\n",
              "\n",
              "    [theme=dark] .colab-df-convert {\n",
              "      background-color: #3B4455;\n",
              "      fill: #D2E3FC;\n",
              "    }\n",
              "\n",
              "    [theme=dark] .colab-df-convert:hover {\n",
              "      background-color: #434B5C;\n",
              "      box-shadow: 0px 1px 3px 1px rgba(0, 0, 0, 0.15);\n",
              "      filter: drop-shadow(0px 1px 2px rgba(0, 0, 0, 0.3));\n",
              "      fill: #FFFFFF;\n",
              "    }\n",
              "  </style>\n",
              "\n",
              "      <script>\n",
              "        const buttonEl =\n",
              "          document.querySelector('#df-ab9378cf-41c8-43fe-96f1-5034955ea04b button.colab-df-convert');\n",
              "        buttonEl.style.display =\n",
              "          google.colab.kernel.accessAllowed ? 'block' : 'none';\n",
              "\n",
              "        async function convertToInteractive(key) {\n",
              "          const element = document.querySelector('#df-ab9378cf-41c8-43fe-96f1-5034955ea04b');\n",
              "          const dataTable =\n",
              "            await google.colab.kernel.invokeFunction('convertToInteractive',\n",
              "                                                     [key], {});\n",
              "          if (!dataTable) return;\n",
              "\n",
              "          const docLinkHtml = 'Like what you see? Visit the ' +\n",
              "            '<a target=\"_blank\" href=https://colab.research.google.com/notebooks/data_table.ipynb>data table notebook</a>'\n",
              "            + ' to learn more about interactive tables.';\n",
              "          element.innerHTML = '';\n",
              "          dataTable['output_type'] = 'display_data';\n",
              "          await google.colab.output.renderOutput(dataTable, element);\n",
              "          const docLink = document.createElement('div');\n",
              "          docLink.innerHTML = docLinkHtml;\n",
              "          element.appendChild(docLink);\n",
              "        }\n",
              "      </script>\n",
              "    </div>\n",
              "  </div>\n",
              "  "
            ],
            "text/plain": [
              "    Validation_Set  Topics Alpha  Beta  Coherence\n",
              "0       75% Corpus       5  0.01  0.01   0.278750\n",
              "30      75% Corpus       8  0.01  0.01   0.307398\n",
              "60      75% Corpus      11  0.01  0.01   0.331364\n",
              "90      75% Corpus      14  0.01  0.01   0.358968\n",
              "120     75% Corpus      17  0.01  0.01   0.321452"
            ]
          },
          "execution_count": 50,
          "metadata": {},
          "output_type": "execute_result"
        }
      ],
      "source": [
        "results_for_vis3_75val"
      ]
    },
    {
      "cell_type": "code",
      "execution_count": 51,
      "metadata": {
        "colab": {
          "base_uri": "https://localhost:8080/",
          "height": 206
        },
        "id": "q0dwEdbiDZnA",
        "outputId": "42b60d33-129a-4af9-cb4e-d7a6e7aab45f"
      },
      "outputs": [
        {
          "data": {
            "text/html": [
              "\n",
              "  <div id=\"df-4a0e86b6-04d0-44e1-992b-b88fd4c68f31\">\n",
              "    <div class=\"colab-df-container\">\n",
              "      <div>\n",
              "<style scoped>\n",
              "    .dataframe tbody tr th:only-of-type {\n",
              "        vertical-align: middle;\n",
              "    }\n",
              "\n",
              "    .dataframe tbody tr th {\n",
              "        vertical-align: top;\n",
              "    }\n",
              "\n",
              "    .dataframe thead th {\n",
              "        text-align: right;\n",
              "    }\n",
              "</style>\n",
              "<table border=\"1\" class=\"dataframe\">\n",
              "  <thead>\n",
              "    <tr style=\"text-align: right;\">\n",
              "      <th></th>\n",
              "      <th>Validation_Set</th>\n",
              "      <th>Topics</th>\n",
              "      <th>Alpha</th>\n",
              "      <th>Beta</th>\n",
              "      <th>Coherence</th>\n",
              "    </tr>\n",
              "  </thead>\n",
              "  <tbody>\n",
              "    <tr>\n",
              "      <th>150</th>\n",
              "      <td>100% Corpus</td>\n",
              "      <td>5</td>\n",
              "      <td>0.01</td>\n",
              "      <td>0.01</td>\n",
              "      <td>0.332361</td>\n",
              "    </tr>\n",
              "    <tr>\n",
              "      <th>180</th>\n",
              "      <td>100% Corpus</td>\n",
              "      <td>8</td>\n",
              "      <td>0.01</td>\n",
              "      <td>0.01</td>\n",
              "      <td>0.294851</td>\n",
              "    </tr>\n",
              "    <tr>\n",
              "      <th>210</th>\n",
              "      <td>100% Corpus</td>\n",
              "      <td>11</td>\n",
              "      <td>0.01</td>\n",
              "      <td>0.01</td>\n",
              "      <td>0.336229</td>\n",
              "    </tr>\n",
              "    <tr>\n",
              "      <th>240</th>\n",
              "      <td>100% Corpus</td>\n",
              "      <td>14</td>\n",
              "      <td>0.01</td>\n",
              "      <td>0.01</td>\n",
              "      <td>0.355815</td>\n",
              "    </tr>\n",
              "    <tr>\n",
              "      <th>270</th>\n",
              "      <td>100% Corpus</td>\n",
              "      <td>17</td>\n",
              "      <td>0.01</td>\n",
              "      <td>0.01</td>\n",
              "      <td>0.324422</td>\n",
              "    </tr>\n",
              "  </tbody>\n",
              "</table>\n",
              "</div>\n",
              "      <button class=\"colab-df-convert\" onclick=\"convertToInteractive('df-4a0e86b6-04d0-44e1-992b-b88fd4c68f31')\"\n",
              "              title=\"Convert this dataframe to an interactive table.\"\n",
              "              style=\"display:none;\">\n",
              "        \n",
              "  <svg xmlns=\"http://www.w3.org/2000/svg\" height=\"24px\"viewBox=\"0 0 24 24\"\n",
              "       width=\"24px\">\n",
              "    <path d=\"M0 0h24v24H0V0z\" fill=\"none\"/>\n",
              "    <path d=\"M18.56 5.44l.94 2.06.94-2.06 2.06-.94-2.06-.94-.94-2.06-.94 2.06-2.06.94zm-11 1L8.5 8.5l.94-2.06 2.06-.94-2.06-.94L8.5 2.5l-.94 2.06-2.06.94zm10 10l.94 2.06.94-2.06 2.06-.94-2.06-.94-.94-2.06-.94 2.06-2.06.94z\"/><path d=\"M17.41 7.96l-1.37-1.37c-.4-.4-.92-.59-1.43-.59-.52 0-1.04.2-1.43.59L10.3 9.45l-7.72 7.72c-.78.78-.78 2.05 0 2.83L4 21.41c.39.39.9.59 1.41.59.51 0 1.02-.2 1.41-.59l7.78-7.78 2.81-2.81c.8-.78.8-2.07 0-2.86zM5.41 20L4 18.59l7.72-7.72 1.47 1.35L5.41 20z\"/>\n",
              "  </svg>\n",
              "      </button>\n",
              "      \n",
              "  <style>\n",
              "    .colab-df-container {\n",
              "      display:flex;\n",
              "      flex-wrap:wrap;\n",
              "      gap: 12px;\n",
              "    }\n",
              "\n",
              "    .colab-df-convert {\n",
              "      background-color: #E8F0FE;\n",
              "      border: none;\n",
              "      border-radius: 50%;\n",
              "      cursor: pointer;\n",
              "      display: none;\n",
              "      fill: #1967D2;\n",
              "      height: 32px;\n",
              "      padding: 0 0 0 0;\n",
              "      width: 32px;\n",
              "    }\n",
              "\n",
              "    .colab-df-convert:hover {\n",
              "      background-color: #E2EBFA;\n",
              "      box-shadow: 0px 1px 2px rgba(60, 64, 67, 0.3), 0px 1px 3px 1px rgba(60, 64, 67, 0.15);\n",
              "      fill: #174EA6;\n",
              "    }\n",
              "\n",
              "    [theme=dark] .colab-df-convert {\n",
              "      background-color: #3B4455;\n",
              "      fill: #D2E3FC;\n",
              "    }\n",
              "\n",
              "    [theme=dark] .colab-df-convert:hover {\n",
              "      background-color: #434B5C;\n",
              "      box-shadow: 0px 1px 3px 1px rgba(0, 0, 0, 0.15);\n",
              "      filter: drop-shadow(0px 1px 2px rgba(0, 0, 0, 0.3));\n",
              "      fill: #FFFFFF;\n",
              "    }\n",
              "  </style>\n",
              "\n",
              "      <script>\n",
              "        const buttonEl =\n",
              "          document.querySelector('#df-4a0e86b6-04d0-44e1-992b-b88fd4c68f31 button.colab-df-convert');\n",
              "        buttonEl.style.display =\n",
              "          google.colab.kernel.accessAllowed ? 'block' : 'none';\n",
              "\n",
              "        async function convertToInteractive(key) {\n",
              "          const element = document.querySelector('#df-4a0e86b6-04d0-44e1-992b-b88fd4c68f31');\n",
              "          const dataTable =\n",
              "            await google.colab.kernel.invokeFunction('convertToInteractive',\n",
              "                                                     [key], {});\n",
              "          if (!dataTable) return;\n",
              "\n",
              "          const docLinkHtml = 'Like what you see? Visit the ' +\n",
              "            '<a target=\"_blank\" href=https://colab.research.google.com/notebooks/data_table.ipynb>data table notebook</a>'\n",
              "            + ' to learn more about interactive tables.';\n",
              "          element.innerHTML = '';\n",
              "          dataTable['output_type'] = 'display_data';\n",
              "          await google.colab.output.renderOutput(dataTable, element);\n",
              "          const docLink = document.createElement('div');\n",
              "          docLink.innerHTML = docLinkHtml;\n",
              "          element.appendChild(docLink);\n",
              "        }\n",
              "      </script>\n",
              "    </div>\n",
              "  </div>\n",
              "  "
            ],
            "text/plain": [
              "    Validation_Set  Topics Alpha  Beta  Coherence\n",
              "150    100% Corpus       5  0.01  0.01   0.332361\n",
              "180    100% Corpus       8  0.01  0.01   0.294851\n",
              "210    100% Corpus      11  0.01  0.01   0.336229\n",
              "240    100% Corpus      14  0.01  0.01   0.355815\n",
              "270    100% Corpus      17  0.01  0.01   0.324422"
            ]
          },
          "execution_count": 51,
          "metadata": {},
          "output_type": "execute_result"
        }
      ],
      "source": [
        "results_for_vis3_100val"
      ]
    },
    {
      "cell_type": "code",
      "execution_count": 69,
      "metadata": {
        "colab": {
          "base_uri": "https://localhost:8080/",
          "height": 279
        },
        "id": "gR3ihkaqEbZZ",
        "outputId": "6f65406b-f568-47a5-eb96-f1103059b990"
      },
      "outputs": [
        {
          "data": {
            "image/png": "[encoded data removed]",
            "text/plain": [
              "<Figure size 432x288 with 1 Axes>"
            ]
          },
          "metadata": {
            "needs_background": "light"
          },
          "output_type": "display_data"
        }
      ],
      "source": [
        "import pylab as pl\n",
        "import matplotlib.pyplot as plt\n",
        "\n",
        "plt.plot(np.array(results_for_vis3_75val['Topics']), np.array(results_for_vis3_75val['Coherence']))\n",
        "plt.scatter(np.array(results_for_vis3_75val['Topics']), np.array(results_for_vis3_75val['Coherence']), label ='75% validation set')\n",
        "plt.ylabel('Coherence Score (C_v)')\n",
        "plt.xlabel('Number of Topics')\n",
        "plt.xticks(np.array(results_for_vis3_75val['Topics']))\n",
        "\n",
        "plt.plot(np.array(results_for_vis3_100val['Topics']), np.array(results_for_vis3_100val['Coherence']), label ='100% validation set')\n",
        "plt.scatter(np.array(results_for_vis3_100val['Topics']), np.array(results_for_vis3_100val['Coherence']))\n",
        "plt.legend(loc='best')\n",
        "\n",
        "plt.show()"
      ]
    },
    {
      "cell_type": "code",
      "execution_count": 57,
      "metadata": {
        "id": "-iK5b8tbDcaL"
      },
      "outputs": [],
      "source": [
        "# filter the results\n",
        "results_for_vis4 = results[results['Alpha']=='0.01']\n",
        "results_for_vis4 = results_for_vis4[results_for_vis4['Beta']=='0.31']\n",
        "results_for_vis4_75val = results_for_vis4[results_for_vis4['Validation_Set']=='75% Corpus']\n",
        "results_for_vis4_100val = results_for_vis4[results_for_vis4['Validation_Set']=='100% Corpus']"
      ]
    },
    {
      "cell_type": "code",
      "execution_count": 58,
      "metadata": {
        "colab": {
          "base_uri": "https://localhost:8080/",
          "height": 206
        },
        "id": "xIHe2r6JDxjI",
        "outputId": "affc4776-8f74-4319-becc-bc7ca003f546"
      },
      "outputs": [
        {
          "data": {
            "text/html": [
              "\n",
              "  <div id=\"df-10876afc-fa4d-47bc-9c3f-5f2ca0021419\">\n",
              "    <div class=\"colab-df-container\">\n",
              "      <div>\n",
              "<style scoped>\n",
              "    .dataframe tbody tr th:only-of-type {\n",
              "        vertical-align: middle;\n",
              "    }\n",
              "\n",
              "    .dataframe tbody tr th {\n",
              "        vertical-align: top;\n",
              "    }\n",
              "\n",
              "    .dataframe thead th {\n",
              "        text-align: right;\n",
              "    }\n",
              "</style>\n",
              "<table border=\"1\" class=\"dataframe\">\n",
              "  <thead>\n",
              "    <tr style=\"text-align: right;\">\n",
              "      <th></th>\n",
              "      <th>Validation_Set</th>\n",
              "      <th>Topics</th>\n",
              "      <th>Alpha</th>\n",
              "      <th>Beta</th>\n",
              "      <th>Coherence</th>\n",
              "    </tr>\n",
              "  </thead>\n",
              "  <tbody>\n",
              "    <tr>\n",
              "      <th>1</th>\n",
              "      <td>75% Corpus</td>\n",
              "      <td>5</td>\n",
              "      <td>0.01</td>\n",
              "      <td>0.31</td>\n",
              "      <td>0.285110</td>\n",
              "    </tr>\n",
              "    <tr>\n",
              "      <th>31</th>\n",
              "      <td>75% Corpus</td>\n",
              "      <td>8</td>\n",
              "      <td>0.01</td>\n",
              "      <td>0.31</td>\n",
              "      <td>0.307864</td>\n",
              "    </tr>\n",
              "    <tr>\n",
              "      <th>61</th>\n",
              "      <td>75% Corpus</td>\n",
              "      <td>11</td>\n",
              "      <td>0.01</td>\n",
              "      <td>0.31</td>\n",
              "      <td>0.331364</td>\n",
              "    </tr>\n",
              "    <tr>\n",
              "      <th>91</th>\n",
              "      <td>75% Corpus</td>\n",
              "      <td>14</td>\n",
              "      <td>0.01</td>\n",
              "      <td>0.31</td>\n",
              "      <td>0.357144</td>\n",
              "    </tr>\n",
              "    <tr>\n",
              "      <th>121</th>\n",
              "      <td>75% Corpus</td>\n",
              "      <td>17</td>\n",
              "      <td>0.01</td>\n",
              "      <td>0.31</td>\n",
              "      <td>0.321452</td>\n",
              "    </tr>\n",
              "  </tbody>\n",
              "</table>\n",
              "</div>\n",
              "      <button class=\"colab-df-convert\" onclick=\"convertToInteractive('df-10876afc-fa4d-47bc-9c3f-5f2ca0021419')\"\n",
              "              title=\"Convert this dataframe to an interactive table.\"\n",
              "              style=\"display:none;\">\n",
              "        \n",
              "  <svg xmlns=\"http://www.w3.org/2000/svg\" height=\"24px\"viewBox=\"0 0 24 24\"\n",
              "       width=\"24px\">\n",
              "    <path d=\"M0 0h24v24H0V0z\" fill=\"none\"/>\n",
              "    <path d=\"M18.56 5.44l.94 2.06.94-2.06 2.06-.94-2.06-.94-.94-2.06-.94 2.06-2.06.94zm-11 1L8.5 8.5l.94-2.06 2.06-.94-2.06-.94L8.5 2.5l-.94 2.06-2.06.94zm10 10l.94 2.06.94-2.06 2.06-.94-2.06-.94-.94-2.06-.94 2.06-2.06.94z\"/><path d=\"M17.41 7.96l-1.37-1.37c-.4-.4-.92-.59-1.43-.59-.52 0-1.04.2-1.43.59L10.3 9.45l-7.72 7.72c-.78.78-.78 2.05 0 2.83L4 21.41c.39.39.9.59 1.41.59.51 0 1.02-.2 1.41-.59l7.78-7.78 2.81-2.81c.8-.78.8-2.07 0-2.86zM5.41 20L4 18.59l7.72-7.72 1.47 1.35L5.41 20z\"/>\n",
              "  </svg>\n",
              "      </button>\n",
              "      \n",
              "  <style>\n",
              "    .colab-df-container {\n",
              "      display:flex;\n",
              "      flex-wrap:wrap;\n",
              "      gap: 12px;\n",
              "    }\n",
              "\n",
              "    .colab-df-convert {\n",
              "      background-color: #E8F0FE;\n",
              "      border: none;\n",
              "      border-radius: 50%;\n",
              "      cursor: pointer;\n",
              "      display: none;\n",
              "      fill: #1967D2;\n",
              "      height: 32px;\n",
              "      padding: 0 0 0 0;\n",
              "      width: 32px;\n",
              "    }\n",
              "\n",
              "    .colab-df-convert:hover {\n",
              "      background-color: #E2EBFA;\n",
              "      box-shadow: 0px 1px 2px rgba(60, 64, 67, 0.3), 0px 1px 3px 1px rgba(60, 64, 67, 0.15);\n",
              "      fill: #174EA6;\n",
              "    }\n",
              "\n",
              "    [theme=dark] .colab-df-convert {\n",
              "      background-color: #3B4455;\n",
              "      fill: #D2E3FC;\n",
              "    }\n",
              "\n",
              "    [theme=dark] .colab-df-convert:hover {\n",
              "      background-color: #434B5C;\n",
              "      box-shadow: 0px 1px 3px 1px rgba(0, 0, 0, 0.15);\n",
              "      filter: drop-shadow(0px 1px 2px rgba(0, 0, 0, 0.3));\n",
              "      fill: #FFFFFF;\n",
              "    }\n",
              "  </style>\n",
              "\n",
              "      <script>\n",
              "        const buttonEl =\n",
              "          document.querySelector('#df-10876afc-fa4d-47bc-9c3f-5f2ca0021419 button.colab-df-convert');\n",
              "        buttonEl.style.display =\n",
              "          google.colab.kernel.accessAllowed ? 'block' : 'none';\n",
              "\n",
              "        async function convertToInteractive(key) {\n",
              "          const element = document.querySelector('#df-10876afc-fa4d-47bc-9c3f-5f2ca0021419');\n",
              "          const dataTable =\n",
              "            await google.colab.kernel.invokeFunction('convertToInteractive',\n",
              "                                                     [key], {});\n",
              "          if (!dataTable) return;\n",
              "\n",
              "          const docLinkHtml = 'Like what you see? Visit the ' +\n",
              "            '<a target=\"_blank\" href=https://colab.research.google.com/notebooks/data_table.ipynb>data table notebook</a>'\n",
              "            + ' to learn more about interactive tables.';\n",
              "          element.innerHTML = '';\n",
              "          dataTable['output_type'] = 'display_data';\n",
              "          await google.colab.output.renderOutput(dataTable, element);\n",
              "          const docLink = document.createElement('div');\n",
              "          docLink.innerHTML = docLinkHtml;\n",
              "          element.appendChild(docLink);\n",
              "        }\n",
              "      </script>\n",
              "    </div>\n",
              "  </div>\n",
              "  "
            ],
            "text/plain": [
              "    Validation_Set  Topics Alpha  Beta  Coherence\n",
              "1       75% Corpus       5  0.01  0.31   0.285110\n",
              "31      75% Corpus       8  0.01  0.31   0.307864\n",
              "61      75% Corpus      11  0.01  0.31   0.331364\n",
              "91      75% Corpus      14  0.01  0.31   0.357144\n",
              "121     75% Corpus      17  0.01  0.31   0.321452"
            ]
          },
          "execution_count": 58,
          "metadata": {},
          "output_type": "execute_result"
        }
      ],
      "source": [
        "results_for_vis4_75val"
      ]
    },
    {
      "cell_type": "code",
      "execution_count": 60,
      "metadata": {
        "colab": {
          "base_uri": "https://localhost:8080/",
          "height": 206
        },
        "id": "-IoJtHLFD6w_",
        "outputId": "88d93d24-54ec-4933-e85b-12f31c3a7ce6"
      },
      "outputs": [
        {
          "data": {
            "text/html": [
              "\n",
              "  <div id=\"df-b45e1a02-07d3-4249-bb84-048c67de353e\">\n",
              "    <div class=\"colab-df-container\">\n",
              "      <div>\n",
              "<style scoped>\n",
              "    .dataframe tbody tr th:only-of-type {\n",
              "        vertical-align: middle;\n",
              "    }\n",
              "\n",
              "    .dataframe tbody tr th {\n",
              "        vertical-align: top;\n",
              "    }\n",
              "\n",
              "    .dataframe thead th {\n",
              "        text-align: right;\n",
              "    }\n",
              "</style>\n",
              "<table border=\"1\" class=\"dataframe\">\n",
              "  <thead>\n",
              "    <tr style=\"text-align: right;\">\n",
              "      <th></th>\n",
              "      <th>Validation_Set</th>\n",
              "      <th>Topics</th>\n",
              "      <th>Alpha</th>\n",
              "      <th>Beta</th>\n",
              "      <th>Coherence</th>\n",
              "    </tr>\n",
              "  </thead>\n",
              "  <tbody>\n",
              "    <tr>\n",
              "      <th>151</th>\n",
              "      <td>100% Corpus</td>\n",
              "      <td>5</td>\n",
              "      <td>0.01</td>\n",
              "      <td>0.31</td>\n",
              "      <td>0.278100</td>\n",
              "    </tr>\n",
              "    <tr>\n",
              "      <th>181</th>\n",
              "      <td>100% Corpus</td>\n",
              "      <td>8</td>\n",
              "      <td>0.01</td>\n",
              "      <td>0.31</td>\n",
              "      <td>0.294851</td>\n",
              "    </tr>\n",
              "    <tr>\n",
              "      <th>211</th>\n",
              "      <td>100% Corpus</td>\n",
              "      <td>11</td>\n",
              "      <td>0.01</td>\n",
              "      <td>0.31</td>\n",
              "      <td>0.336229</td>\n",
              "    </tr>\n",
              "    <tr>\n",
              "      <th>241</th>\n",
              "      <td>100% Corpus</td>\n",
              "      <td>14</td>\n",
              "      <td>0.01</td>\n",
              "      <td>0.31</td>\n",
              "      <td>0.355815</td>\n",
              "    </tr>\n",
              "    <tr>\n",
              "      <th>271</th>\n",
              "      <td>100% Corpus</td>\n",
              "      <td>17</td>\n",
              "      <td>0.01</td>\n",
              "      <td>0.31</td>\n",
              "      <td>0.323982</td>\n",
              "    </tr>\n",
              "  </tbody>\n",
              "</table>\n",
              "</div>\n",
              "      <button class=\"colab-df-convert\" onclick=\"convertToInteractive('df-b45e1a02-07d3-4249-bb84-048c67de353e')\"\n",
              "              title=\"Convert this dataframe to an interactive table.\"\n",
              "              style=\"display:none;\">\n",
              "        \n",
              "  <svg xmlns=\"http://www.w3.org/2000/svg\" height=\"24px\"viewBox=\"0 0 24 24\"\n",
              "       width=\"24px\">\n",
              "    <path d=\"M0 0h24v24H0V0z\" fill=\"none\"/>\n",
              "    <path d=\"M18.56 5.44l.94 2.06.94-2.06 2.06-.94-2.06-.94-.94-2.06-.94 2.06-2.06.94zm-11 1L8.5 8.5l.94-2.06 2.06-.94-2.06-.94L8.5 2.5l-.94 2.06-2.06.94zm10 10l.94 2.06.94-2.06 2.06-.94-2.06-.94-.94-2.06-.94 2.06-2.06.94z\"/><path d=\"M17.41 7.96l-1.37-1.37c-.4-.4-.92-.59-1.43-.59-.52 0-1.04.2-1.43.59L10.3 9.45l-7.72 7.72c-.78.78-.78 2.05 0 2.83L4 21.41c.39.39.9.59 1.41.59.51 0 1.02-.2 1.41-.59l7.78-7.78 2.81-2.81c.8-.78.8-2.07 0-2.86zM5.41 20L4 18.59l7.72-7.72 1.47 1.35L5.41 20z\"/>\n",
              "  </svg>\n",
              "      </button>\n",
              "      \n",
              "  <style>\n",
              "    .colab-df-container {\n",
              "      display:flex;\n",
              "      flex-wrap:wrap;\n",
              "      gap: 12px;\n",
              "    }\n",
              "\n",
              "    .colab-df-convert {\n",
              "      background-color: #E8F0FE;\n",
              "      border: none;\n",
              "      border-radius: 50%;\n",
              "      cursor: pointer;\n",
              "      display: none;\n",
              "      fill: #1967D2;\n",
              "      height: 32px;\n",
              "      padding: 0 0 0 0;\n",
              "      width: 32px;\n",
              "    }\n",
              "\n",
              "    .colab-df-convert:hover {\n",
              "      background-color: #E2EBFA;\n",
              "      box-shadow: 0px 1px 2px rgba(60, 64, 67, 0.3), 0px 1px 3px 1px rgba(60, 64, 67, 0.15);\n",
              "      fill: #174EA6;\n",
              "    }\n",
              "\n",
              "    [theme=dark] .colab-df-convert {\n",
              "      background-color: #3B4455;\n",
              "      fill: #D2E3FC;\n",
              "    }\n",
              "\n",
              "    [theme=dark] .colab-df-convert:hover {\n",
              "      background-color: #434B5C;\n",
              "      box-shadow: 0px 1px 3px 1px rgba(0, 0, 0, 0.15);\n",
              "      filter: drop-shadow(0px 1px 2px rgba(0, 0, 0, 0.3));\n",
              "      fill: #FFFFFF;\n",
              "    }\n",
              "  </style>\n",
              "\n",
              "      <script>\n",
              "        const buttonEl =\n",
              "          document.querySelector('#df-b45e1a02-07d3-4249-bb84-048c67de353e button.colab-df-convert');\n",
              "        buttonEl.style.display =\n",
              "          google.colab.kernel.accessAllowed ? 'block' : 'none';\n",
              "\n",
              "        async function convertToInteractive(key) {\n",
              "          const element = document.querySelector('#df-b45e1a02-07d3-4249-bb84-048c67de353e');\n",
              "          const dataTable =\n",
              "            await google.colab.kernel.invokeFunction('convertToInteractive',\n",
              "                                                     [key], {});\n",
              "          if (!dataTable) return;\n",
              "\n",
              "          const docLinkHtml = 'Like what you see? Visit the ' +\n",
              "            '<a target=\"_blank\" href=https://colab.research.google.com/notebooks/data_table.ipynb>data table notebook</a>'\n",
              "            + ' to learn more about interactive tables.';\n",
              "          element.innerHTML = '';\n",
              "          dataTable['output_type'] = 'display_data';\n",
              "          await google.colab.output.renderOutput(dataTable, element);\n",
              "          const docLink = document.createElement('div');\n",
              "          docLink.innerHTML = docLinkHtml;\n",
              "          element.appendChild(docLink);\n",
              "        }\n",
              "      </script>\n",
              "    </div>\n",
              "  </div>\n",
              "  "
            ],
            "text/plain": [
              "    Validation_Set  Topics Alpha  Beta  Coherence\n",
              "151    100% Corpus       5  0.01  0.31   0.278100\n",
              "181    100% Corpus       8  0.01  0.31   0.294851\n",
              "211    100% Corpus      11  0.01  0.31   0.336229\n",
              "241    100% Corpus      14  0.01  0.31   0.355815\n",
              "271    100% Corpus      17  0.01  0.31   0.323982"
            ]
          },
          "execution_count": 60,
          "metadata": {},
          "output_type": "execute_result"
        }
      ],
      "source": [
        "results_for_vis4_100val"
      ]
    },
    {
      "cell_type": "code",
      "execution_count": 71,
      "metadata": {
        "colab": {
          "base_uri": "https://localhost:8080/",
          "height": 281
        },
        "id": "SsV1JLI2Dy9O",
        "outputId": "4e2033e0-23f1-42b4-9ce6-a01cdfc7db13"
      },
      "outputs": [
        {
          "data": {
            "image/png": "[encoded data removed]",
            "text/plain": [
              "<Figure size 432x288 with 1 Axes>"
            ]
          },
          "metadata": {
            "needs_background": "light"
          },
          "output_type": "display_data"
        }
      ],
      "source": [
        "import pylab as pl\n",
        "import matplotlib.pyplot as plt\n",
        "\n",
        "plt.plot(np.array(results_for_vis4_75val['Topics']), np.array(results_for_vis4_75val['Coherence']))\n",
        "plt.scatter(np.array(results_for_vis4_75val['Topics']), np.array(results_for_vis4_75val['Coherence']), label ='75% validation set')\n",
        "plt.ylabel('Coherence Score (C_v)')\n",
        "plt.xlabel('Number of Topics')\n",
        "plt.xticks(np.array(results_for_vis4_75val['Topics']))\n",
        "\n",
        "plt.plot(np.array(results_for_vis4_100val['Topics']), np.array(results_for_vis4_100val['Coherence']), label ='100% validation set')\n",
        "plt.scatter(np.array(results_for_vis4_100val['Topics']), np.array(results_for_vis4_100val['Coherence']))\n",
        "plt.legend(loc='best')\n",
        "\n",
        "plt.show()"
      ]
    },
    {
      "cell_type": "code",
      "execution_count": null,
      "metadata": {
        "id": "ebnQgluBC1HI"
      },
      "outputs": [],
      "source": [
        "# now the plot\n",
        "import matplotlib.pyplot as plt\n",
        "plt.plot(np.array(results_for_vis_75val['Topics']), np.array(results_for_vis_75val['Coherence']))\n",
        "plt.scatter(np.array(results_for_vis_75val['Topics']), np.array(results_for_vis_75val['Coherence']))\n",
        "plt.ylabel('Coherence Score (C_v)')\n",
        "plt.xlabel('Number of Topics')\n",
        "plt.xticks(np.array(results_for_vis_75val['Topics']))\n",
        "plt.show()"
      ]
    },
    {
      "cell_type": "markdown",
      "metadata": {
        "id": "3eGWBUsa_ej7"
      },
      "source": [
        "# Final model based on hyperparameter tuning result"
      ]
    },
    {
      "cell_type": "code",
      "execution_count": null,
      "metadata": {
        "id": "hJ54RxYXVo34"
      },
      "outputs": [],
      "source": [
        "lda_model_final_train = gensim.models.LdaMulticore(id2word=id2word, corpus=corpus_sets_75, num_topics=14, alpha=0.31, eta=0.31, random_state=0)"
      ]
    },
    {
      "cell_type": "code",
      "execution_count": 43,
      "metadata": {
        "colab": {
          "base_uri": "https://localhost:8080/"
        },
        "id": "RAyJpY0EVosr",
        "outputId": "6cdb7337-864e-430c-fdba-8d449a8f58af"
      },
      "outputs": [
        {
          "name": "stdout",
          "output_type": "stream",
          "text": [
            "\n",
            "Coherence Score:  0.36436057647127557\n"
          ]
        }
      ],
      "source": [
        "## Evaluate topic models\n",
        "# Lower the perplexity better the model.\n",
        "# Higher the topic coherence, the topic is more human interpretable.\n",
        "\n",
        "from gensim.models import CoherenceModel\n",
        "# Compute Coherence Score\n",
        "coherence_model_lda_final_train = CoherenceModel(model=lda_model_final_train, texts=category_final, dictionary=id2word, coherence='c_v')\n",
        "coherence_lda_final_train = coherence_model_lda_final_train.get_coherence()\n",
        "print('\\nCoherence Score: ', coherence_lda_final_train)"
      ]
    },
    {
      "cell_type": "code",
      "execution_count": null,
      "metadata": {
        "id": "DSTHdhD2W5c5"
      },
      "outputs": [],
      "source": [
        "lda_model_final_val = gensim.models.LdaMulticore(id2word=id2word, corpus=hold_out_test_sets, num_topics=14, alpha=0.31, eta=0.31, random_state=0)"
      ]
    },
    {
      "cell_type": "code",
      "execution_count": null,
      "metadata": {
        "id": "vN4naDgZWvNv"
      },
      "outputs": [],
      "source": [
        "# Compute Perplexity on 75% TRAIN DATASET\n",
        "print('\\nPerplexity: ', lda_model_final_train.log_perplexity(corpus))  \n",
        "# a measure of how good the model is. lower the better.\n",
        "# Perplexity:  -3.7516944140215043"
      ]
    },
    {
      "cell_type": "code",
      "execution_count": null,
      "metadata": {
        "id": "0YgfebpPW1Fn"
      },
      "outputs": [],
      "source": [
        "# final model - Compute Perplexity on 25% VALIDATION DATASET\n",
        "print('\\nPerplexity: ', lda_model_final_val.log_perplexity(corpus))  \n",
        "# a measure of how good the model is. lower the better.\n",
        "# Perplexity:  Perplexity:  -3.968317607967474"
      ]
    },
    {
      "cell_type": "markdown",
      "metadata": {
        "id": "BhITK63tZtz1"
      },
      "source": [
        "# From here - ORIGINALLY FULL FINAL MODEL (without train/test)\n",
        "## train/val(test) was just needed for checkking model coherence and perplexity in previous code lines"
      ]
    },
    {
      "cell_type": "code",
      "execution_count": 23,
      "metadata": {
        "id": "qcjk9uSR70bS"
      },
      "outputs": [],
      "source": [
        "lda_model_final = gensim.models.LdaMulticore(id2word=id2word, corpus=corpus, num_topics=14, alpha=0.31, eta=0.31, random_state=0)"
      ]
    },
    {
      "cell_type": "code",
      "execution_count": 24,
      "metadata": {
        "colab": {
          "base_uri": "https://localhost:8080/"
        },
        "id": "RM2whwvL-zv6",
        "outputId": "a5df717f-b40b-4730-87bd-1c0d30aa81d0"
      },
      "outputs": [
        {
          "name": "stdout",
          "output_type": "stream",
          "text": [
            "[(0,\n",
            "  '0.265*\"education\" + 0.236*\"software\" + 0.159*\"service\" + 0.144*\"internet\" + '\n",
            "  '0.050*\"other\" + 0.048*\"hardware\" + 0.028*\"mobile\" + 0.013*\"apps\" + '\n",
            "  '0.007*\"sport\" + 0.005*\"entertainment\"'),\n",
            " (1,\n",
            "  '0.167*\"real\" + 0.167*\"estate\" + 0.139*\"sustainability\" + 0.120*\"energy\" + '\n",
            "  '0.078*\"resource\" + 0.078*\"natural\" + 0.074*\"agriculture\" + 0.074*\"farming\" '\n",
            "  '+ 0.020*\"other\" + 0.019*\"manufacturing\"'),\n",
            " (2,\n",
            "  '0.177*\"audio\" + 0.177*\"music\" + 0.174*\"entertainment\" + 0.173*\"medium\" + '\n",
            "  '0.110*\"software\" + 0.041*\"service\" + 0.024*\"internet\" + 0.023*\"video\" + '\n",
            "  '0.022*\"other\" + 0.014*\"apps\"'),\n",
            " (3,\n",
            "  '0.211*\"data\" + 0.211*\"analytics\" + 0.129*\"intelligence\" + '\n",
            "  '0.129*\"artificial\" + 0.128*\"software\" + 0.028*\"science\" + '\n",
            "  '0.027*\"engineering\" + 0.020*\"service\" + 0.012*\"information\" + '\n",
            "  '0.012*\"technology\"'),\n",
            " (4,\n",
            "  '0.272*\"entertainment\" + 0.272*\"medium\" + 0.082*\"publishing\" + '\n",
            "  '0.082*\"content\" + 0.073*\"video\" + 0.034*\"event\" + 0.026*\"service\" + '\n",
            "  '0.025*\"internet\" + 0.021*\"community\" + 0.021*\"lifestyle\"'),\n",
            " (5,\n",
            "  '0.319*\"service\" + 0.229*\"financial\" + 0.062*\"payment\" + '\n",
            "  '0.054*\"administrative\" + 0.050*\"investment\" + 0.050*\"lending\" + '\n",
            "  '0.050*\"software\" + 0.048*\"other\" + 0.034*\"travel\" + 0.034*\"tourism\"'),\n",
            " (6,\n",
            "  '0.199*\"sale\" + 0.199*\"marketing\" + 0.171*\"service\" + 0.170*\"professional\" + '\n",
            "  '0.077*\"advertising\" + 0.061*\"other\" + 0.039*\"software\" + 0.033*\"internet\" + '\n",
            "  '0.015*\"medium\" + 0.015*\"entertainment\"'),\n",
            " (7,\n",
            "  '0.356*\"software\" + 0.220*\"apps\" + 0.199*\"mobile\" + 0.088*\"gaming\" + '\n",
            "  '0.040*\"other\" + 0.038*\"sport\" + 0.021*\"platform\" + 0.007*\"transportation\" + '\n",
            "  '0.005*\"hardware\" + 0.003*\"service\"'),\n",
            " (8,\n",
            "  '0.346*\"shopping\" + 0.346*\"commerce\" + 0.159*\"transportation\" + '\n",
            "  '0.043*\"other\" + 0.031*\"software\" + 0.014*\"sport\" + 0.011*\"marketing\" + '\n",
            "  '0.010*\"sale\" + 0.009*\"service\" + 0.007*\"manufacturing\"'),\n",
            " (9,\n",
            "  '0.339*\"internet\" + 0.326*\"service\" + 0.041*\"telecommunication\" + '\n",
            "  '0.041*\"messaging\" + 0.038*\"software\" + 0.036*\"information\" + '\n",
            "  '0.036*\"technology\" + 0.030*\"lifestyle\" + 0.030*\"community\" + '\n",
            "  '0.015*\"medium\"'),\n",
            " (10,\n",
            "  '0.179*\"beverage\" + 0.179*\"food\" + 0.103*\"lifestyle\" + 0.103*\"community\" + '\n",
            "  '0.100*\"design\" + 0.071*\"good\" + 0.045*\"clothing\" + 0.045*\"apparel\" + '\n",
            "  '0.041*\"shopping\" + 0.041*\"commerce\"'),\n",
            " (11,\n",
            "  '0.319*\"information\" + 0.319*\"technology\" + 0.125*\"software\" + '\n",
            "  '0.049*\"security\" + 0.049*\"privacy\" + 0.040*\"service\" + 0.027*\"other\" + '\n",
            "  '0.024*\"internet\" + 0.011*\"transportation\" + 0.010*\"hardware\"'),\n",
            " (12,\n",
            "  '0.230*\"care\" + 0.230*\"health\" + 0.199*\"engineering\" + 0.199*\"science\" + '\n",
            "  '0.087*\"biotechnology\" + 0.023*\"manufacturing\" + 0.010*\"sport\" + '\n",
            "  '0.008*\"software\" + 0.003*\"hardware\" + 0.001*\"other\"'),\n",
            " (13,\n",
            "  '0.301*\"hardware\" + 0.220*\"consumer\" + 0.156*\"manufacturing\" + '\n",
            "  '0.146*\"electronics\" + 0.072*\"software\" + 0.024*\"good\" + 0.019*\"\" + '\n",
            "  '0.017*\"transportation\" + 0.011*\"other\" + 0.005*\"service\"')]\n"
          ]
        }
      ],
      "source": [
        "from pprint import pprint\n",
        "# Print the Keyword in the 10 topics\n",
        "pprint(lda_model_final.print_topics())\n",
        "doc_lda_final = lda_model_final[corpus]"
      ]
    },
    {
      "cell_type": "code",
      "execution_count": 19,
      "metadata": {
        "colab": {
          "base_uri": "https://localhost:8080/"
        },
        "id": "ijH42wYl_DV4",
        "outputId": "d4c62d38-6045-49a8-9d78-dbfa25c2957d"
      },
      "outputs": [
        {
          "name": "stdout",
          "output_type": "stream",
          "text": [
            "[(0, 0.02696079), (1, 0.025221752), (2, 0.02649471), (3, 0.025299495), (4, 0.37291378), (5, 0.026560508), (6, 0.24847095), (7, 0.025171366), (8, 0.025303578), (9, 0.09666397), (10, 0.0251606), (11, 0.025495175), (12, 0.025126059), (13, 0.025157264)]\n"
          ]
        }
      ],
      "source": [
        "print(doc_lda_final[0])"
      ]
    },
    {
      "cell_type": "code",
      "execution_count": 101,
      "metadata": {},
      "outputs": [
        {
          "data": {
            "image/png": "[encoded data removed]",
            "text/plain": [
              "<Figure size 1152x684 with 16 Axes>"
            ]
          },
          "metadata": {
            "needs_background": "light"
          },
          "output_type": "display_data"
        }
      ],
      "source": [
        "rows=4\n",
        "cols=4\n",
        "\n",
        "fig, ax = plt.subplots(rows, cols, sharex=False, sharey=True, figsize=(16,9.5))\n",
        "\n",
        "row=0 \n",
        "col=0 \n",
        "\n",
        "for t in range(lda_model_final.num_topics):\n",
        "    ax[row][col].imshow(WordCloud(background_color=\"white\", colormap=\"Dark2\").fit_words(dict(lda_model_final.show_topic(t, 10))), interpolation=\"bilinear\")\n",
        "    ax[row][col].set_title(\"Topic\" + \" \" + str(t+1)) \n",
        "    ax[row][col].grid(False) \n",
        "    ax[row][col].axis(\"off\")\n",
        "    col=col+1\n",
        "    if col==cols:\n",
        "        col=0\n",
        "        row=row+1\n",
        "\n",
        "#plt.savefig(f\"terms_all.png\", bbox_inches='tight')\n",
        "\n",
        "plt.show() "
      ]
    },
    {
      "cell_type": "code",
      "execution_count": 20,
      "metadata": {
        "colab": {
          "base_uri": "https://localhost:8080/"
        },
        "id": "sWfnNAwn-zZt",
        "outputId": "29203642-a761-4b98-f3fb-b259736c03a1"
      },
      "outputs": [
        {
          "name": "stdout",
          "output_type": "stream",
          "text": [
            "\n",
            "Coherence Score:  0.35441909352611695\n"
          ]
        }
      ],
      "source": [
        "## Evaluate topic models\n",
        "# Lower the perplexity better the model.\n",
        "# Higher the topic coherence, the topic is more human interpretable.\n",
        "\n",
        "from gensim.models import CoherenceModel\n",
        "# Compute Coherence Score\n",
        "coherence_model_lda_final = CoherenceModel(model=lda_model_final, texts=category_final, dictionary=id2word, coherence='c_v')\n",
        "coherence_lda_final = coherence_model_lda_final.get_coherence()\n",
        "print('\\nCoherence Score: ', coherence_lda_final)"
      ]
    },
    {
      "cell_type": "code",
      "execution_count": 21,
      "metadata": {
        "colab": {
          "base_uri": "https://localhost:8080/"
        },
        "id": "0tK8M_O1_OmY",
        "outputId": "412bf602-536f-497e-8c0a-8e31db8c0d0e"
      },
      "outputs": [
        {
          "data": {
            "text/plain": [
              "0.35441909352611695"
            ]
          },
          "execution_count": 21,
          "metadata": {},
          "output_type": "execute_result"
        }
      ],
      "source": [
        "coherence_lda_final"
      ]
    },
    {
      "cell_type": "code",
      "execution_count": null,
      "metadata": {
        "id": "V8jTr5qm_P7J"
      },
      "outputs": [],
      "source": [
        "# Compute Perplexity\n",
        "print('\\nPerplexity: ', lda_model_final.log_perplexity(corpus))  \n",
        "# a measure of how good the model is. lower the better.\n",
        "# Perplexity:  -3.7216122923648762"
      ]
    },
    {
      "cell_type": "code",
      "execution_count": 23,
      "metadata": {
        "colab": {
          "base_uri": "https://localhost:8080/",
          "height": 363
        },
        "id": "MkaF6qyh_Y0_",
        "outputId": "2b3ac8e8-0a01-4185-ad5d-f805ce0727cb"
      },
      "outputs": [
        {
          "data": {
            "text/html": [
              "\n",
              "  <div id=\"df-6c0dbc08-d909-42db-9aaf-e8f14e312aea\">\n",
              "    <div class=\"colab-df-container\">\n",
              "      <div>\n",
              "<style scoped>\n",
              "    .dataframe tbody tr th:only-of-type {\n",
              "        vertical-align: middle;\n",
              "    }\n",
              "\n",
              "    .dataframe tbody tr th {\n",
              "        vertical-align: top;\n",
              "    }\n",
              "\n",
              "    .dataframe thead th {\n",
              "        text-align: right;\n",
              "    }\n",
              "</style>\n",
              "<table border=\"1\" class=\"dataframe\">\n",
              "  <thead>\n",
              "    <tr style=\"text-align: right;\">\n",
              "      <th></th>\n",
              "      <th>Document_No</th>\n",
              "      <th>Dominant_Topic</th>\n",
              "      <th>Topic_Perc_Contrib</th>\n",
              "      <th>Keywords</th>\n",
              "      <th>Text</th>\n",
              "    </tr>\n",
              "  </thead>\n",
              "  <tbody>\n",
              "    <tr>\n",
              "      <th>0</th>\n",
              "      <td>0</td>\n",
              "      <td>4.0</td>\n",
              "      <td>0.3611</td>\n",
              "      <td>entertainment, medium, publishing, content, vi...</td>\n",
              "      <td>[content, publishing, internet, service, mediu...</td>\n",
              "    </tr>\n",
              "    <tr>\n",
              "      <th>1</th>\n",
              "      <td>1</td>\n",
              "      <td>9.0</td>\n",
              "      <td>0.2797</td>\n",
              "      <td>internet, service, software, telecommunication...</td>\n",
              "      <td>[internet, service, medium, entertainment]</td>\n",
              "    </tr>\n",
              "    <tr>\n",
              "      <th>2</th>\n",
              "      <td>2</td>\n",
              "      <td>2.0</td>\n",
              "      <td>0.2522</td>\n",
              "      <td>entertainment, medium, audio, music, software,...</td>\n",
              "      <td>[commerce, shopping, internet, service, medium...</td>\n",
              "    </tr>\n",
              "    <tr>\n",
              "      <th>3</th>\n",
              "      <td>3</td>\n",
              "      <td>10.0</td>\n",
              "      <td>0.3980</td>\n",
              "      <td>beverage, food, design, lifestyle, community, ...</td>\n",
              "      <td>[community, lifestyle, other]</td>\n",
              "    </tr>\n",
              "    <tr>\n",
              "      <th>4</th>\n",
              "      <td>4</td>\n",
              "      <td>9.0</td>\n",
              "      <td>0.2246</td>\n",
              "      <td>internet, service, software, telecommunication...</td>\n",
              "      <td>[commerce, shopping, internet, service, medium...</td>\n",
              "    </tr>\n",
              "    <tr>\n",
              "      <th>5</th>\n",
              "      <td>5</td>\n",
              "      <td>13.0</td>\n",
              "      <td>0.2486</td>\n",
              "      <td>hardware, consumer, electronics, manufacturing...</td>\n",
              "      <td>[hardware, software]</td>\n",
              "    </tr>\n",
              "    <tr>\n",
              "      <th>6</th>\n",
              "      <td>6</td>\n",
              "      <td>4.0</td>\n",
              "      <td>0.4054</td>\n",
              "      <td>entertainment, medium, publishing, content, vi...</td>\n",
              "      <td>[content, publishing, internet, service, mediu...</td>\n",
              "    </tr>\n",
              "    <tr>\n",
              "      <th>7</th>\n",
              "      <td>7</td>\n",
              "      <td>2.0</td>\n",
              "      <td>0.4129</td>\n",
              "      <td>entertainment, medium, audio, music, software,...</td>\n",
              "      <td>[internet, service, medium, entertainment, mob...</td>\n",
              "    </tr>\n",
              "    <tr>\n",
              "      <th>8</th>\n",
              "      <td>8</td>\n",
              "      <td>2.0</td>\n",
              "      <td>0.4373</td>\n",
              "      <td>entertainment, medium, audio, music, software,...</td>\n",
              "      <td>[internet, service, medium, entertainment, mus...</td>\n",
              "    </tr>\n",
              "    <tr>\n",
              "      <th>9</th>\n",
              "      <td>9</td>\n",
              "      <td>8.0</td>\n",
              "      <td>0.2782</td>\n",
              "      <td>commerce, shopping, transportation, other, sof...</td>\n",
              "      <td>[commerce, shopping, internet, service]</td>\n",
              "    </tr>\n",
              "  </tbody>\n",
              "</table>\n",
              "</div>\n",
              "      <button class=\"colab-df-convert\" onclick=\"convertToInteractive('df-6c0dbc08-d909-42db-9aaf-e8f14e312aea')\"\n",
              "              title=\"Convert this dataframe to an interactive table.\"\n",
              "              style=\"display:none;\">\n",
              "        \n",
              "  <svg xmlns=\"http://www.w3.org/2000/svg\" height=\"24px\"viewBox=\"0 0 24 24\"\n",
              "       width=\"24px\">\n",
              "    <path d=\"M0 0h24v24H0V0z\" fill=\"none\"/>\n",
              "    <path d=\"M18.56 5.44l.94 2.06.94-2.06 2.06-.94-2.06-.94-.94-2.06-.94 2.06-2.06.94zm-11 1L8.5 8.5l.94-2.06 2.06-.94-2.06-.94L8.5 2.5l-.94 2.06-2.06.94zm10 10l.94 2.06.94-2.06 2.06-.94-2.06-.94-.94-2.06-.94 2.06-2.06.94z\"/><path d=\"M17.41 7.96l-1.37-1.37c-.4-.4-.92-.59-1.43-.59-.52 0-1.04.2-1.43.59L10.3 9.45l-7.72 7.72c-.78.78-.78 2.05 0 2.83L4 21.41c.39.39.9.59 1.41.59.51 0 1.02-.2 1.41-.59l7.78-7.78 2.81-2.81c.8-.78.8-2.07 0-2.86zM5.41 20L4 18.59l7.72-7.72 1.47 1.35L5.41 20z\"/>\n",
              "  </svg>\n",
              "      </button>\n",
              "      \n",
              "  <style>\n",
              "    .colab-df-container {\n",
              "      display:flex;\n",
              "      flex-wrap:wrap;\n",
              "      gap: 12px;\n",
              "    }\n",
              "\n",
              "    .colab-df-convert {\n",
              "      background-color: #E8F0FE;\n",
              "      border: none;\n",
              "      border-radius: 50%;\n",
              "      cursor: pointer;\n",
              "      display: none;\n",
              "      fill: #1967D2;\n",
              "      height: 32px;\n",
              "      padding: 0 0 0 0;\n",
              "      width: 32px;\n",
              "    }\n",
              "\n",
              "    .colab-df-convert:hover {\n",
              "      background-color: #E2EBFA;\n",
              "      box-shadow: 0px 1px 2px rgba(60, 64, 67, 0.3), 0px 1px 3px 1px rgba(60, 64, 67, 0.15);\n",
              "      fill: #174EA6;\n",
              "    }\n",
              "\n",
              "    [theme=dark] .colab-df-convert {\n",
              "      background-color: #3B4455;\n",
              "      fill: #D2E3FC;\n",
              "    }\n",
              "\n",
              "    [theme=dark] .colab-df-convert:hover {\n",
              "      background-color: #434B5C;\n",
              "      box-shadow: 0px 1px 3px 1px rgba(0, 0, 0, 0.15);\n",
              "      filter: drop-shadow(0px 1px 2px rgba(0, 0, 0, 0.3));\n",
              "      fill: #FFFFFF;\n",
              "    }\n",
              "  </style>\n",
              "\n",
              "      <script>\n",
              "        const buttonEl =\n",
              "          document.querySelector('#df-6c0dbc08-d909-42db-9aaf-e8f14e312aea button.colab-df-convert');\n",
              "        buttonEl.style.display =\n",
              "          google.colab.kernel.accessAllowed ? 'block' : 'none';\n",
              "\n",
              "        async function convertToInteractive(key) {\n",
              "          const element = document.querySelector('#df-6c0dbc08-d909-42db-9aaf-e8f14e312aea');\n",
              "          const dataTable =\n",
              "            await google.colab.kernel.invokeFunction('convertToInteractive',\n",
              "                                                     [key], {});\n",
              "          if (!dataTable) return;\n",
              "\n",
              "          const docLinkHtml = 'Like what you see? Visit the ' +\n",
              "            '<a target=\"_blank\" href=https://colab.research.google.com/notebooks/data_table.ipynb>data table notebook</a>'\n",
              "            + ' to learn more about interactive tables.';\n",
              "          element.innerHTML = '';\n",
              "          dataTable['output_type'] = 'display_data';\n",
              "          await google.colab.output.renderOutput(dataTable, element);\n",
              "          const docLink = document.createElement('div');\n",
              "          docLink.innerHTML = docLinkHtml;\n",
              "          element.appendChild(docLink);\n",
              "        }\n",
              "      </script>\n",
              "    </div>\n",
              "  </div>\n",
              "  "
            ],
            "text/plain": [
              "   Document_No  Dominant_Topic  Topic_Perc_Contrib  \\\n",
              "0            0             4.0              0.3611   \n",
              "1            1             9.0              0.2797   \n",
              "2            2             2.0              0.2522   \n",
              "3            3            10.0              0.3980   \n",
              "4            4             9.0              0.2246   \n",
              "5            5            13.0              0.2486   \n",
              "6            6             4.0              0.4054   \n",
              "7            7             2.0              0.4129   \n",
              "8            8             2.0              0.4373   \n",
              "9            9             8.0              0.2782   \n",
              "\n",
              "                                            Keywords  \\\n",
              "0  entertainment, medium, publishing, content, vi...   \n",
              "1  internet, service, software, telecommunication...   \n",
              "2  entertainment, medium, audio, music, software,...   \n",
              "3  beverage, food, design, lifestyle, community, ...   \n",
              "4  internet, service, software, telecommunication...   \n",
              "5  hardware, consumer, electronics, manufacturing...   \n",
              "6  entertainment, medium, publishing, content, vi...   \n",
              "7  entertainment, medium, audio, music, software,...   \n",
              "8  entertainment, medium, audio, music, software,...   \n",
              "9  commerce, shopping, transportation, other, sof...   \n",
              "\n",
              "                                                Text  \n",
              "0  [content, publishing, internet, service, mediu...  \n",
              "1         [internet, service, medium, entertainment]  \n",
              "2  [commerce, shopping, internet, service, medium...  \n",
              "3                      [community, lifestyle, other]  \n",
              "4  [commerce, shopping, internet, service, medium...  \n",
              "5                               [hardware, software]  \n",
              "6  [content, publishing, internet, service, mediu...  \n",
              "7  [internet, service, medium, entertainment, mob...  \n",
              "8  [internet, service, medium, entertainment, mus...  \n",
              "9            [commerce, shopping, internet, service]  "
            ]
          },
          "execution_count": 23,
          "metadata": {},
          "output_type": "execute_result"
        }
      ],
      "source": [
        "def format_topics_sentences(ldamodel=lda_model_final, corpus=corpus, texts=category_final):\n",
        "    # Init output\n",
        "    sent_topics_df = pd.DataFrame()\n",
        "\n",
        "    # Get main topic in each document\n",
        "    for i, row in enumerate(ldamodel[corpus]):\n",
        "        row = sorted(row, key=lambda x: (x[1]), reverse=True)\n",
        "        # Get the Dominant topic, Perc Contribution and Keywords for each document\n",
        "        for j, (topic_num, prop_topic) in enumerate(row):\n",
        "            if j == 0:  # => dominant topic\n",
        "                wp = ldamodel.show_topic(topic_num)\n",
        "                topic_keywords = \", \".join([word for word, prop in wp])\n",
        "                sent_topics_df = sent_topics_df.append(pd.Series([int(topic_num), round(prop_topic,4), topic_keywords]), ignore_index=True)\n",
        "            else:\n",
        "                break\n",
        "    sent_topics_df.columns = ['Dominant_Topic', 'Perc_Contribution', 'Topic_Keywords']\n",
        "\n",
        "    # Add original text to the end of the output\n",
        "    contents = pd.Series(texts)\n",
        "    sent_topics_df = pd.concat([sent_topics_df, contents], axis=1)\n",
        "    return(sent_topics_df)\n",
        "\n",
        "\n",
        "df_topic_sents_keywords = format_topics_sentences(ldamodel=lda_model_final, corpus=corpus, texts=category_final)\n",
        "\n",
        "# Format\n",
        "df_dominant_topic = df_topic_sents_keywords.reset_index()\n",
        "df_dominant_topic.columns = ['Document_No', 'Dominant_Topic', 'Topic_Perc_Contrib', 'Keywords', 'Text']\n",
        "\n",
        "# Show\n",
        "df_dominant_topic.head(10)"
      ]
    },
    {
      "cell_type": "code",
      "execution_count": 24,
      "metadata": {
        "id": "8Gd08N1qF7Pm"
      },
      "outputs": [],
      "source": [
        "pd.DataFrame(df_dominant_topic).to_csv('df_dominant_topic_final.csv', index=False)"
      ]
    },
    {
      "cell_type": "markdown",
      "metadata": {
        "id": "d2RAZRv4GTxU"
      },
      "source": [
        "**Topic Distribution across Documents**"
      ]
    },
    {
      "cell_type": "code",
      "execution_count": 25,
      "metadata": {
        "colab": {
          "base_uri": "https://localhost:8080/",
          "height": 424
        },
        "id": "IQ2WD4QrGEL4",
        "outputId": "a07c4eee-693f-41d7-d64e-4ab27a5960de"
      },
      "outputs": [
        {
          "data": {
            "text/html": [
              "\n",
              "  <div id=\"df-611f53e9-6a82-4bbb-be27-5128492471d6\">\n",
              "    <div class=\"colab-df-container\">\n",
              "      <div>\n",
              "<style scoped>\n",
              "    .dataframe tbody tr th:only-of-type {\n",
              "        vertical-align: middle;\n",
              "    }\n",
              "\n",
              "    .dataframe tbody tr th {\n",
              "        vertical-align: top;\n",
              "    }\n",
              "\n",
              "    .dataframe thead th {\n",
              "        text-align: right;\n",
              "    }\n",
              "</style>\n",
              "<table border=\"1\" class=\"dataframe\">\n",
              "  <thead>\n",
              "    <tr style=\"text-align: right;\">\n",
              "      <th></th>\n",
              "      <th>Dominant_Topic</th>\n",
              "      <th>Topic_Keywords</th>\n",
              "      <th>Num_Documents</th>\n",
              "      <th>Perc_Documents</th>\n",
              "    </tr>\n",
              "  </thead>\n",
              "  <tbody>\n",
              "    <tr>\n",
              "      <th>0.0</th>\n",
              "      <td>4.0</td>\n",
              "      <td>entertainment, medium, publishing, content, vi...</td>\n",
              "      <td>4001.0</td>\n",
              "      <td>0.0254</td>\n",
              "    </tr>\n",
              "    <tr>\n",
              "      <th>1.0</th>\n",
              "      <td>9.0</td>\n",
              "      <td>internet, service, software, telecommunication...</td>\n",
              "      <td>10814.0</td>\n",
              "      <td>0.0687</td>\n",
              "    </tr>\n",
              "    <tr>\n",
              "      <th>2.0</th>\n",
              "      <td>2.0</td>\n",
              "      <td>entertainment, medium, audio, music, software,...</td>\n",
              "      <td>2493.0</td>\n",
              "      <td>0.0158</td>\n",
              "    </tr>\n",
              "    <tr>\n",
              "      <th>3.0</th>\n",
              "      <td>10.0</td>\n",
              "      <td>beverage, food, design, lifestyle, community, ...</td>\n",
              "      <td>16453.0</td>\n",
              "      <td>0.1045</td>\n",
              "    </tr>\n",
              "    <tr>\n",
              "      <th>4.0</th>\n",
              "      <td>9.0</td>\n",
              "      <td>internet, service, software, telecommunication...</td>\n",
              "      <td>10795.0</td>\n",
              "      <td>0.0685</td>\n",
              "    </tr>\n",
              "    <tr>\n",
              "      <th>...</th>\n",
              "      <td>...</td>\n",
              "      <td>...</td>\n",
              "      <td>...</td>\n",
              "      <td>...</td>\n",
              "    </tr>\n",
              "    <tr>\n",
              "      <th>157509.0</th>\n",
              "      <td>12.0</td>\n",
              "      <td>care, health, engineering, science, biotechnol...</td>\n",
              "      <td>NaN</td>\n",
              "      <td>NaN</td>\n",
              "    </tr>\n",
              "    <tr>\n",
              "      <th>157510.0</th>\n",
              "      <td>0.0</td>\n",
              "      <td>education, software, service, internet, hardwa...</td>\n",
              "      <td>NaN</td>\n",
              "      <td>NaN</td>\n",
              "    </tr>\n",
              "    <tr>\n",
              "      <th>157511.0</th>\n",
              "      <td>12.0</td>\n",
              "      <td>care, health, engineering, science, biotechnol...</td>\n",
              "      <td>NaN</td>\n",
              "      <td>NaN</td>\n",
              "    </tr>\n",
              "    <tr>\n",
              "      <th>157512.0</th>\n",
              "      <td>7.0</td>\n",
              "      <td>software, apps, mobile, gaming, other, sport, ...</td>\n",
              "      <td>NaN</td>\n",
              "      <td>NaN</td>\n",
              "    </tr>\n",
              "    <tr>\n",
              "      <th>157513.0</th>\n",
              "      <td>13.0</td>\n",
              "      <td>hardware, consumer, electronics, manufacturing...</td>\n",
              "      <td>NaN</td>\n",
              "      <td>NaN</td>\n",
              "    </tr>\n",
              "  </tbody>\n",
              "</table>\n",
              "<p>157514 rows × 4 columns</p>\n",
              "</div>\n",
              "      <button class=\"colab-df-convert\" onclick=\"convertToInteractive('df-611f53e9-6a82-4bbb-be27-5128492471d6')\"\n",
              "              title=\"Convert this dataframe to an interactive table.\"\n",
              "              style=\"display:none;\">\n",
              "        \n",
              "  <svg xmlns=\"http://www.w3.org/2000/svg\" height=\"24px\"viewBox=\"0 0 24 24\"\n",
              "       width=\"24px\">\n",
              "    <path d=\"M0 0h24v24H0V0z\" fill=\"none\"/>\n",
              "    <path d=\"M18.56 5.44l.94 2.06.94-2.06 2.06-.94-2.06-.94-.94-2.06-.94 2.06-2.06.94zm-11 1L8.5 8.5l.94-2.06 2.06-.94-2.06-.94L8.5 2.5l-.94 2.06-2.06.94zm10 10l.94 2.06.94-2.06 2.06-.94-2.06-.94-.94-2.06-.94 2.06-2.06.94z\"/><path d=\"M17.41 7.96l-1.37-1.37c-.4-.4-.92-.59-1.43-.59-.52 0-1.04.2-1.43.59L10.3 9.45l-7.72 7.72c-.78.78-.78 2.05 0 2.83L4 21.41c.39.39.9.59 1.41.59.51 0 1.02-.2 1.41-.59l7.78-7.78 2.81-2.81c.8-.78.8-2.07 0-2.86zM5.41 20L4 18.59l7.72-7.72 1.47 1.35L5.41 20z\"/>\n",
              "  </svg>\n",
              "      </button>\n",
              "      \n",
              "  <style>\n",
              "    .colab-df-container {\n",
              "      display:flex;\n",
              "      flex-wrap:wrap;\n",
              "      gap: 12px;\n",
              "    }\n",
              "\n",
              "    .colab-df-convert {\n",
              "      background-color: #E8F0FE;\n",
              "      border: none;\n",
              "      border-radius: 50%;\n",
              "      cursor: pointer;\n",
              "      display: none;\n",
              "      fill: #1967D2;\n",
              "      height: 32px;\n",
              "      padding: 0 0 0 0;\n",
              "      width: 32px;\n",
              "    }\n",
              "\n",
              "    .colab-df-convert:hover {\n",
              "      background-color: #E2EBFA;\n",
              "      box-shadow: 0px 1px 2px rgba(60, 64, 67, 0.3), 0px 1px 3px 1px rgba(60, 64, 67, 0.15);\n",
              "      fill: #174EA6;\n",
              "    }\n",
              "\n",
              "    [theme=dark] .colab-df-convert {\n",
              "      background-color: #3B4455;\n",
              "      fill: #D2E3FC;\n",
              "    }\n",
              "\n",
              "    [theme=dark] .colab-df-convert:hover {\n",
              "      background-color: #434B5C;\n",
              "      box-shadow: 0px 1px 3px 1px rgba(0, 0, 0, 0.15);\n",
              "      filter: drop-shadow(0px 1px 2px rgba(0, 0, 0, 0.3));\n",
              "      fill: #FFFFFF;\n",
              "    }\n",
              "  </style>\n",
              "\n",
              "      <script>\n",
              "        const buttonEl =\n",
              "          document.querySelector('#df-611f53e9-6a82-4bbb-be27-5128492471d6 button.colab-df-convert');\n",
              "        buttonEl.style.display =\n",
              "          google.colab.kernel.accessAllowed ? 'block' : 'none';\n",
              "\n",
              "        async function convertToInteractive(key) {\n",
              "          const element = document.querySelector('#df-611f53e9-6a82-4bbb-be27-5128492471d6');\n",
              "          const dataTable =\n",
              "            await google.colab.kernel.invokeFunction('convertToInteractive',\n",
              "                                                     [key], {});\n",
              "          if (!dataTable) return;\n",
              "\n",
              "          const docLinkHtml = 'Like what you see? Visit the ' +\n",
              "            '<a target=\"_blank\" href=https://colab.research.google.com/notebooks/data_table.ipynb>data table notebook</a>'\n",
              "            + ' to learn more about interactive tables.';\n",
              "          element.innerHTML = '';\n",
              "          dataTable['output_type'] = 'display_data';\n",
              "          await google.colab.output.renderOutput(dataTable, element);\n",
              "          const docLink = document.createElement('div');\n",
              "          docLink.innerHTML = docLinkHtml;\n",
              "          element.appendChild(docLink);\n",
              "        }\n",
              "      </script>\n",
              "    </div>\n",
              "  </div>\n",
              "  "
            ],
            "text/plain": [
              "          Dominant_Topic                                     Topic_Keywords  \\\n",
              "0.0                  4.0  entertainment, medium, publishing, content, vi...   \n",
              "1.0                  9.0  internet, service, software, telecommunication...   \n",
              "2.0                  2.0  entertainment, medium, audio, music, software,...   \n",
              "3.0                 10.0  beverage, food, design, lifestyle, community, ...   \n",
              "4.0                  9.0  internet, service, software, telecommunication...   \n",
              "...                  ...                                                ...   \n",
              "157509.0            12.0  care, health, engineering, science, biotechnol...   \n",
              "157510.0             0.0  education, software, service, internet, hardwa...   \n",
              "157511.0            12.0  care, health, engineering, science, biotechnol...   \n",
              "157512.0             7.0  software, apps, mobile, gaming, other, sport, ...   \n",
              "157513.0            13.0  hardware, consumer, electronics, manufacturing...   \n",
              "\n",
              "          Num_Documents  Perc_Documents  \n",
              "0.0              4001.0          0.0254  \n",
              "1.0             10814.0          0.0687  \n",
              "2.0              2493.0          0.0158  \n",
              "3.0             16453.0          0.1045  \n",
              "4.0             10795.0          0.0685  \n",
              "...                 ...             ...  \n",
              "157509.0            NaN             NaN  \n",
              "157510.0            NaN             NaN  \n",
              "157511.0            NaN             NaN  \n",
              "157512.0            NaN             NaN  \n",
              "157513.0            NaN             NaN  \n",
              "\n",
              "[157514 rows x 4 columns]"
            ]
          },
          "execution_count": 25,
          "metadata": {},
          "output_type": "execute_result"
        }
      ],
      "source": [
        "# Number of Documents for Each Topic\n",
        "topic_counts = df_topic_sents_keywords['Dominant_Topic'].value_counts()\n",
        "\n",
        "# Percentage of Documents for Each Topic\n",
        "topic_contribution = round(topic_counts/topic_counts.sum(), 4)\n",
        "\n",
        "# Topic Number and Keywords\n",
        "topic_num_keywords = df_topic_sents_keywords[['Dominant_Topic', 'Topic_Keywords']]\n",
        "\n",
        "# Concatenate Column wise\n",
        "df_dominant_topics = pd.concat([topic_num_keywords, topic_counts, topic_contribution], axis=1)\n",
        "\n",
        "# Change Column names\n",
        "df_dominant_topics.columns = ['Dominant_Topic', 'Topic_Keywords', 'Num_Documents', 'Perc_Documents']\n",
        "\n",
        "# Show\n",
        "df_dominant_topics"
      ]
    },
    {
      "cell_type": "code",
      "execution_count": 26,
      "metadata": {
        "id": "fjMIRbXQGbbO"
      },
      "outputs": [],
      "source": [
        "pd.DataFrame(df_dominant_topics).to_csv('df_dominant_topic_distribution_first.csv', index=False)"
      ]
    },
    {
      "cell_type": "markdown",
      "metadata": {
        "id": "2ZvesfsFGnSH"
      },
      "source": [
        "**Find the most representative document for each topic**"
      ]
    },
    {
      "cell_type": "code",
      "execution_count": 27,
      "metadata": {
        "colab": {
          "base_uri": "https://localhost:8080/",
          "height": 206
        },
        "id": "0bh-03uNGgCZ",
        "outputId": "f808ad68-9125-4d14-c4d8-0581981f22c9"
      },
      "outputs": [
        {
          "data": {
            "text/html": [
              "\n",
              "  <div id=\"df-f0017804-9098-483c-92e0-0a0213d855bf\">\n",
              "    <div class=\"colab-df-container\">\n",
              "      <div>\n",
              "<style scoped>\n",
              "    .dataframe tbody tr th:only-of-type {\n",
              "        vertical-align: middle;\n",
              "    }\n",
              "\n",
              "    .dataframe tbody tr th {\n",
              "        vertical-align: top;\n",
              "    }\n",
              "\n",
              "    .dataframe thead th {\n",
              "        text-align: right;\n",
              "    }\n",
              "</style>\n",
              "<table border=\"1\" class=\"dataframe\">\n",
              "  <thead>\n",
              "    <tr style=\"text-align: right;\">\n",
              "      <th></th>\n",
              "      <th>Topic_Num</th>\n",
              "      <th>Topic_Perc_Contrib</th>\n",
              "      <th>Keywords</th>\n",
              "      <th>Text</th>\n",
              "    </tr>\n",
              "  </thead>\n",
              "  <tbody>\n",
              "    <tr>\n",
              "      <th>0</th>\n",
              "      <td>0.0</td>\n",
              "      <td>0.5774</td>\n",
              "      <td>education, software, service, internet, hardwa...</td>\n",
              "      <td>[education, hardware, internet, service, mobil...</td>\n",
              "    </tr>\n",
              "    <tr>\n",
              "      <th>1</th>\n",
              "      <td>1.0</td>\n",
              "      <td>0.6630</td>\n",
              "      <td>real, estate, sustainability, energy, resource...</td>\n",
              "      <td>[energy, manufacturing, natural, resource, oth...</td>\n",
              "    </tr>\n",
              "    <tr>\n",
              "      <th>2</th>\n",
              "      <td>2.0</td>\n",
              "      <td>0.6273</td>\n",
              "      <td>entertainment, medium, audio, music, software,...</td>\n",
              "      <td>[event, medium, entertainment, music, audio, o...</td>\n",
              "    </tr>\n",
              "    <tr>\n",
              "      <th>3</th>\n",
              "      <td>3.0</td>\n",
              "      <td>0.6661</td>\n",
              "      <td>data, analytics, software, intelligence, artif...</td>\n",
              "      <td>[artificial, intelligence, data, analytics, go...</td>\n",
              "    </tr>\n",
              "    <tr>\n",
              "      <th>4</th>\n",
              "      <td>4.0</td>\n",
              "      <td>0.6940</td>\n",
              "      <td>entertainment, medium, publishing, content, vi...</td>\n",
              "      <td>[community, lifestyle, content, publishing, ev...</td>\n",
              "    </tr>\n",
              "  </tbody>\n",
              "</table>\n",
              "</div>\n",
              "      <button class=\"colab-df-convert\" onclick=\"convertToInteractive('df-f0017804-9098-483c-92e0-0a0213d855bf')\"\n",
              "              title=\"Convert this dataframe to an interactive table.\"\n",
              "              style=\"display:none;\">\n",
              "        \n",
              "  <svg xmlns=\"http://www.w3.org/2000/svg\" height=\"24px\"viewBox=\"0 0 24 24\"\n",
              "       width=\"24px\">\n",
              "    <path d=\"M0 0h24v24H0V0z\" fill=\"none\"/>\n",
              "    <path d=\"M18.56 5.44l.94 2.06.94-2.06 2.06-.94-2.06-.94-.94-2.06-.94 2.06-2.06.94zm-11 1L8.5 8.5l.94-2.06 2.06-.94-2.06-.94L8.5 2.5l-.94 2.06-2.06.94zm10 10l.94 2.06.94-2.06 2.06-.94-2.06-.94-.94-2.06-.94 2.06-2.06.94z\"/><path d=\"M17.41 7.96l-1.37-1.37c-.4-.4-.92-.59-1.43-.59-.52 0-1.04.2-1.43.59L10.3 9.45l-7.72 7.72c-.78.78-.78 2.05 0 2.83L4 21.41c.39.39.9.59 1.41.59.51 0 1.02-.2 1.41-.59l7.78-7.78 2.81-2.81c.8-.78.8-2.07 0-2.86zM5.41 20L4 18.59l7.72-7.72 1.47 1.35L5.41 20z\"/>\n",
              "  </svg>\n",
              "      </button>\n",
              "      \n",
              "  <style>\n",
              "    .colab-df-container {\n",
              "      display:flex;\n",
              "      flex-wrap:wrap;\n",
              "      gap: 12px;\n",
              "    }\n",
              "\n",
              "    .colab-df-convert {\n",
              "      background-color: #E8F0FE;\n",
              "      border: none;\n",
              "      border-radius: 50%;\n",
              "      cursor: pointer;\n",
              "      display: none;\n",
              "      fill: #1967D2;\n",
              "      height: 32px;\n",
              "      padding: 0 0 0 0;\n",
              "      width: 32px;\n",
              "    }\n",
              "\n",
              "    .colab-df-convert:hover {\n",
              "      background-color: #E2EBFA;\n",
              "      box-shadow: 0px 1px 2px rgba(60, 64, 67, 0.3), 0px 1px 3px 1px rgba(60, 64, 67, 0.15);\n",
              "      fill: #174EA6;\n",
              "    }\n",
              "\n",
              "    [theme=dark] .colab-df-convert {\n",
              "      background-color: #3B4455;\n",
              "      fill: #D2E3FC;\n",
              "    }\n",
              "\n",
              "    [theme=dark] .colab-df-convert:hover {\n",
              "      background-color: #434B5C;\n",
              "      box-shadow: 0px 1px 3px 1px rgba(0, 0, 0, 0.15);\n",
              "      filter: drop-shadow(0px 1px 2px rgba(0, 0, 0, 0.3));\n",
              "      fill: #FFFFFF;\n",
              "    }\n",
              "  </style>\n",
              "\n",
              "      <script>\n",
              "        const buttonEl =\n",
              "          document.querySelector('#df-f0017804-9098-483c-92e0-0a0213d855bf button.colab-df-convert');\n",
              "        buttonEl.style.display =\n",
              "          google.colab.kernel.accessAllowed ? 'block' : 'none';\n",
              "\n",
              "        async function convertToInteractive(key) {\n",
              "          const element = document.querySelector('#df-f0017804-9098-483c-92e0-0a0213d855bf');\n",
              "          const dataTable =\n",
              "            await google.colab.kernel.invokeFunction('convertToInteractive',\n",
              "                                                     [key], {});\n",
              "          if (!dataTable) return;\n",
              "\n",
              "          const docLinkHtml = 'Like what you see? Visit the ' +\n",
              "            '<a target=\"_blank\" href=https://colab.research.google.com/notebooks/data_table.ipynb>data table notebook</a>'\n",
              "            + ' to learn more about interactive tables.';\n",
              "          element.innerHTML = '';\n",
              "          dataTable['output_type'] = 'display_data';\n",
              "          await google.colab.output.renderOutput(dataTable, element);\n",
              "          const docLink = document.createElement('div');\n",
              "          docLink.innerHTML = docLinkHtml;\n",
              "          element.appendChild(docLink);\n",
              "        }\n",
              "      </script>\n",
              "    </div>\n",
              "  </div>\n",
              "  "
            ],
            "text/plain": [
              "   Topic_Num  Topic_Perc_Contrib  \\\n",
              "0        0.0              0.5774   \n",
              "1        1.0              0.6630   \n",
              "2        2.0              0.6273   \n",
              "3        3.0              0.6661   \n",
              "4        4.0              0.6940   \n",
              "\n",
              "                                            Keywords  \\\n",
              "0  education, software, service, internet, hardwa...   \n",
              "1  real, estate, sustainability, energy, resource...   \n",
              "2  entertainment, medium, audio, music, software,...   \n",
              "3  data, analytics, software, intelligence, artif...   \n",
              "4  entertainment, medium, publishing, content, vi...   \n",
              "\n",
              "                                                Text  \n",
              "0  [education, hardware, internet, service, mobil...  \n",
              "1  [energy, manufacturing, natural, resource, oth...  \n",
              "2  [event, medium, entertainment, music, audio, o...  \n",
              "3  [artificial, intelligence, data, analytics, go...  \n",
              "4  [community, lifestyle, content, publishing, ev...  "
            ]
          },
          "execution_count": 27,
          "metadata": {},
          "output_type": "execute_result"
        }
      ],
      "source": [
        "# Group top 5 sentences under each topic\n",
        "sent_topics_sorteddf_lda = pd.DataFrame()\n",
        "\n",
        "sent_topics_outdf_grpd = df_topic_sents_keywords.groupby('Dominant_Topic')\n",
        "\n",
        "for i, grp in sent_topics_outdf_grpd:\n",
        "    sent_topics_sorteddf_lda = pd.concat([sent_topics_sorteddf_lda, \n",
        "                                             grp.sort_values(['Perc_Contribution'], ascending=[0]).head(1)], \n",
        "                                            axis=0)\n",
        "\n",
        "# Reset Index    \n",
        "sent_topics_sorteddf_lda.reset_index(drop=True, inplace=True)\n",
        "\n",
        "# Format\n",
        "sent_topics_sorteddf_lda.columns = ['Topic_Num', \"Topic_Perc_Contrib\", \"Keywords\", \"Text\"]\n",
        "\n",
        "# Show\n",
        "sent_topics_sorteddf_lda.head()"
      ]
    },
    {
      "cell_type": "code",
      "execution_count": 28,
      "metadata": {
        "id": "3qDO_IiVGsBo"
      },
      "outputs": [],
      "source": [
        "pd.DataFrame(sent_topics_sorteddf_lda).to_csv('sent_topics_sorteddf_lda_final.csv', index=False)"
      ]
    },
    {
      "cell_type": "code",
      "execution_count": 1,
      "metadata": {},
      "outputs": [
        {
          "ename": "NameError",
          "evalue": "name 'gensimvis' is not defined",
          "output_type": "error",
          "traceback": [
            "\u001b[0;31m---------------------------------------------------------------------------\u001b[0m",
            "\u001b[0;31mNameError\u001b[0m                                 Traceback (most recent call last)",
            "\u001b[1;32m/Users/jiyoung/Master thesis/LDA wordcloud plot.ipynb Cell 83\u001b[0m in \u001b[0;36m<cell line: 2>\u001b[0;34m()\u001b[0m\n\u001b[1;32m      <a href='vscode-notebook-cell:/Users/jiyoung/Master%20thesis/LDA%20wordcloud%20plot.ipynb#ch0000157?line=0'>1</a>\u001b[0m \u001b[39m# Visualize the topics (optimal model - 14 topics) # FINAAL ONE but after WORDCLOUD CODE - slightly different from original final visualization somehow\u001b[39;00m\n\u001b[0;32m----> <a href='vscode-notebook-cell:/Users/jiyoung/Master%20thesis/LDA%20wordcloud%20plot.ipynb#ch0000157?line=1'>2</a>\u001b[0m vis_final \u001b[39m=\u001b[39m gensimvis\u001b[39m.\u001b[39mprepare(lda_model_final, corpus, id2word, sort_topics \u001b[39m=\u001b[39m \u001b[39mFalse\u001b[39;00m)\n\u001b[1;32m      <a href='vscode-notebook-cell:/Users/jiyoung/Master%20thesis/LDA%20wordcloud%20plot.ipynb#ch0000157?line=2'>3</a>\u001b[0m pyLDAvis\u001b[39m.\u001b[39mdisplay(vis_final)\n",
            "\u001b[0;31mNameError\u001b[0m: name 'gensimvis' is not defined"
          ]
        }
      ],
      "source": [
        "# Visualize the topics (optimal model - 14 topics) # FINAAL ONE but after WORDCLOUD CODE - slightly different from original final visualization somehow\n",
        "vis_final = gensimvis.prepare(lda_model_final, corpus, id2word, sort_topics = False)\n",
        "pyLDAvis.display(vis_final)"
      ]
    },
    {
      "cell_type": "code",
      "execution_count": 29,
      "metadata": {
        "colab": {
          "base_uri": "https://localhost:8080/",
          "height": 916
        },
        "id": "_HfLdwjpG3hO",
        "outputId": "14aafc33-cb93-49af-a252-36c12edaaf33"
      },
      "outputs": [
        {
          "name": "stderr",
          "output_type": "stream",
          "text": [
            "/usr/local/lib/python3.7/dist-packages/pyLDAvis/_prepare.py:247: FutureWarning: In a future version of pandas all arguments of DataFrame.drop except for the argument 'labels' will be keyword-only\n",
            "  by='saliency', ascending=False).head(R).drop('saliency', 1)\n"
          ]
        },
        {
          "data": {
            "text/html": [
              "\n",
              "<link rel=\"stylesheet\" type=\"text/css\" href=\"https://cdn.jsdelivr.net/gh/bmabey/pyLDAvis@3.3.1/pyLDAvis/js/ldavis.v1.0.0.css\">\n",
              "\n",
              "\n",
              "<div id=\"ldavis_el2851404507832391203735753792\"></div>\n",
              "<script type=\"text/javascript\">\n",
              "\n",
              "var ldavis_el2851404507832391203735753792_data = {\"mdsDat\": {\"x\": [0.14682610257163, -0.21829384021653805, 0.15544038117878478, 0.005847907415171907, 0.10128478796325945, 0.15738981711803054, 0.1719309760814603, 0.03662237283628275, -0.16236852922536874, 0.19618740675075105, -0.249448248807613, 0.10640980154321063, -0.27195267263458023, -0.17587626257448127], \"y\": [-0.06324293259493806, 0.0834728813158141, 0.0786473447901382, -0.22018525759472538, 0.24411249422788717, -0.002689180650169451, 0.031479950855628394, -0.13103505971176077, 0.10849424756720286, 0.06715256372910934, 0.25343131625267296, -0.13993688075088903, -0.20541837603067772, -0.1042831114052923], \"topics\": [1, 2, 3, 4, 5, 6, 7, 8, 9, 10, 11, 12, 13, 14], \"cluster\": [1, 1, 1, 1, 1, 1, 1, 1, 1, 1, 1, 1, 1, 1], \"Freq\": [4.277198031127292, 5.76364705575909, 4.027055688664678, 10.193948006001415, 7.170561708270971, 8.334908706757318, 7.053386119912652, 6.57016344479187, 6.327666637596548, 7.227313169925269, 6.336007746520904, 8.944794711718213, 10.742140922306085, 7.031208050647695]}, \"tinfo\": {\"Term\": [\"service\", \"information\", \"technology\", \"shopping\", \"commerce\", \"software\", \"care\", \"health\", \"internet\", \"entertainment\", \"medium\", \"hardware\", \"financial\", \"data\", \"analytics\", \"engineering\", \"science\", \"consumer\", \"apps\", \"education\", \"sale\", \"mobile\", \"marketing\", \"professional\", \"intelligence\", \"artificial\", \"beverage\", \"food\", \"electronics\", \"real\", \"education\", \"internet\", \"software\", \"other\", \"hardware\", \"service\", \"mobile\", \"sport\", \"apps\", \"platform\", \"content\", \"publishing\", \"transportation\", \"administrative\", \"entertainment\", \"medium\", \"messaging\", \"telecommunication\", \"gaming\", \"commerce\", \"shopping\", \"video\", \"electronics\", \"design\", \"consumer\", \"estate\", \"sale\", \"real\", \"advertising\", \"marketing\", \"technology\", \"information\", \"professional\", \"care\", \"health\", \"data\", \"real\", \"estate\", \"natural\", \"resource\", \"farming\", \"agriculture\", \"sustainability\", \"energy\", \"food\", \"beverage\", \"manufacturing\", \"transportation\", \"other\", \"tourism\", \"travel\", \"service\", \"good\", \"software\", \"internet\", \"community\", \"lifestyle\", \"professional\", \"gaming\", \"shopping\", \"commerce\", \"mapping\", \"navigation\", \"marketing\", \"consumer\", \"sale\", \"hardware\", \"mobile\", \"science\", \"entertainment\", \"medium\", \"music\", \"audio\", \"entertainment\", \"medium\", \"video\", \"event\", \"software\", \"other\", \"apps\", \"service\", \"platform\", \"internet\", \"mobile\", \"privacy\", \"security\", \"content\", \"design\", \"publishing\", \"education\", \"mapping\", \"sport\", \"investment\", \"analytics\", \"lending\", \"navigation\", \"data\", \"financial\", \"manufacturing\", \"technology\", \"information\", \"community\", \"lifestyle\", \"professional\", \"commerce\", \"shopping\", \"hardware\", \"intelligence\", \"artificial\", \"data\", \"analytics\", \"navigation\", \"mapping\", \"government\", \"military\", \"software\", \"science\", \"engineering\", \"information\", \"technology\", \"travel\", \"tourism\", \"sale\", \"marketing\", \"other\", \"service\", \"design\", \"internet\", \"mobile\", \"professional\", \"platform\", \"advertising\", \"security\", \"privacy\", \"sport\", \"administrative\", \"apps\", \"transportation\", \"hardware\", \"food\", \"beverage\", \"education\", \"publishing\", \"content\", \"video\", \"event\", \"entertainment\", \"medium\", \"travel\", \"tourism\", \"community\", \"lifestyle\", \"sport\", \"gaming\", \"education\", \"other\", \"internet\", \"advertising\", \"mobile\", \"service\", \"marketing\", \"sale\", \"military\", \"software\", \"government\", \"mapping\", \"navigation\", \"platform\", \"hardware\", \"transportation\", \"design\", \"apps\", \"commerce\", \"shopping\", \"data\", \"professional\", \"technology\", \"information\", \"analytics\", \"payment\", \"lending\", \"investment\", \"financial\", \"administrative\", \"travel\", \"tourism\", \"service\", \"professional\", \"other\", \"transportation\", \"software\", \"internet\", \"privacy\", \"sport\", \"security\", \"education\", \"manufacturing\", \"commerce\", \"shopping\", \"mobile\", \"gaming\", \"analytics\", \"data\", \"energy\", \"marketing\", \"science\", \"sale\", \"engineering\", \"sustainability\", \"information\", \"technology\", \"medium\", \"advertising\", \"sale\", \"marketing\", \"professional\", \"other\", \"service\", \"internet\", \"medium\", \"entertainment\", \"software\", \"video\", \"mobile\", \"event\", \"government\", \"military\", \"education\", \"manufacturing\", \"administrative\", \"privacy\", \"gaming\", \"security\", \"design\", \"platform\", \"hardware\", \"apps\", \"investment\", \"lending\", \"engineering\", \"science\", \"food\", \"financial\", \"technology\", \"information\", \"beverage\", \"publishing\", \"health\", \"platform\", \"apps\", \"gaming\", \"mobile\", \"software\", \"sport\", \"other\", \"tourism\", \"travel\", \"transportation\", \"hardware\", \"advertising\", \"marketing\", \"sale\", \"security\", \"privacy\", \"electronics\", \"consumer\", \"education\", \"service\", \"medium\", \"entertainment\", \"technology\", \"video\", \"internet\", \"information\", \"audio\", \"navigation\", \"music\", \"event\", \"health\", \"care\", \"shopping\", \"commerce\", \"financial\", \"shopping\", \"commerce\", \"transportation\", \"sport\", \"other\", \"sale\", \"marketing\", \"manufacturing\", \"advertising\", \"software\", \"tourism\", \"travel\", \"hardware\", \"internet\", \"service\", \"energy\", \"sustainability\", \"mobile\", \"consumer\", \"electronics\", \"technology\", \"information\", \"resource\", \"natural\", \"medium\", \"navigation\", \"mapping\", \"entertainment\", \"event\", \"military\", \"financial\", \"education\", \"design\", \"health\", \"professional\", \"care\", \"data\", \"apps\", \"telecommunication\", \"messaging\", \"internet\", \"service\", \"lifestyle\", \"community\", \"military\", \"government\", \"information\", \"technology\", \"medium\", \"entertainment\", \"event\", \"sport\", \"software\", \"platform\", \"other\", \"mobile\", \"apps\", \"video\", \"gaming\", \"travel\", \"tourism\", \"professional\", \"commerce\", \"navigation\", \"shopping\", \"mapping\", \"publishing\", \"content\", \"financial\", \"analytics\", \"data\", \"sale\", \"marketing\", \"hardware\", \"health\", \"clothing\", \"apparel\", \"design\", \"beverage\", \"food\", \"good\", \"lifestyle\", \"community\", \"shopping\", \"commerce\", \"consumer\", \"sport\", \"other\", \"event\", \"transportation\", \"tourism\", \"gaming\", \"travel\", \"software\", \"manufacturing\", \"medium\", \"entertainment\", \"mobile\", \"health\", \"internet\", \"care\", \"platform\", \"marketing\", \"hardware\", \"service\", \"sale\", \"apps\", \"security\", \"privacy\", \"information\", \"technology\", \"software\", \"other\", \"transportation\", \"messaging\", \"telecommunication\", \"internet\", \"service\", \"hardware\", \"sale\", \"marketing\", \"government\", \"military\", \"advertising\", \"administrative\", \"professional\", \"design\", \"navigation\", \"mapping\", \"mobile\", \"education\", \"platform\", \"apps\", \"gaming\", \"data\", \"tourism\", \"analytics\", \"health\", \"care\", \"science\", \"electronics\", \"consumer\", \"entertainment\", \"medium\", \"biotechnology\", \"care\", \"health\", \"engineering\", \"science\", \"manufacturing\", \"sport\", \"farming\", \"agriculture\", \"hardware\", \"software\", \"sustainability\", \"other\", \"energy\", \"mobile\", \"military\", \"government\", \"video\", \"good\", \"consumer\", \"electronics\", \"analytics\", \"artificial\", \"data\", \"transportation\", \"intelligence\", \"medium\", \"entertainment\", \"technology\", \"mapping\", \"information\", \"lifestyle\", \"community\", \"service\", \"internet\", \"\", \"electronics\", \"consumer\", \"hardware\", \"manufacturing\", \"good\", \"software\", \"transportation\", \"sport\", \"other\", \"energy\", \"design\", \"mobile\", \"military\", \"government\", \"sustainability\", \"gaming\", \"navigation\", \"mapping\", \"technology\", \"service\", \"internet\", \"information\", \"analytics\", \"engineering\", \"data\", \"science\", \"natural\", \"professional\", \"resource\", \"health\", \"care\", \"education\", \"medium\", \"entertainment\"], \"Freq\": [66863.0, 27336.0, 27349.0, 22005.0, 22007.0, 70092.0, 21046.0, 21068.0, 33683.0, 23919.0, 23901.0, 22322.0, 16559.0, 18397.0, 18407.0, 20685.0, 20709.0, 15338.0, 13967.0, 9881.0, 13491.0, 14324.0, 13500.0, 13113.0, 11001.0, 11000.0, 10314.0, 10314.0, 9277.0, 7600.0, 8882.900769426258, 5079.790189689812, 8343.42458399546, 1842.3030123563594, 1909.794618783596, 5557.962458504966, 1142.0257338637027, 277.0635524024823, 516.0835373986935, 32.78253179168811, 73.77880577211916, 70.84801748642063, 165.754491940614, 47.79464122272356, 271.61917043083844, 266.168794718114, 28.78972436029698, 28.57183004606915, 53.251065241398386, 196.09344936617939, 192.6446138121809, 37.768636013931, 53.09922380068978, 35.17696419662619, 71.52150747683476, 30.968241476861223, 52.61592176254754, 29.342869431759404, 19.316946070271516, 50.06050200526596, 95.3233836377047, 92.97229252856374, 44.33582449485275, 53.94471904984559, 53.73488774445238, 38.9024394431187, 7509.092783601605, 7507.8186046447645, 3494.9389450322296, 3495.4562182507884, 3453.229855224535, 3453.083976213283, 6296.392961427872, 5442.244925813339, 1108.169185010534, 1107.9270186122026, 1280.8760884962312, 1005.6059235946165, 896.3923167823668, 161.4747286574059, 160.53929759688532, 624.0272437040846, 47.754844981136976, 578.5752079628363, 235.8955012566103, 59.88508181646934, 55.811029214270214, 49.26659768133397, 18.683182030709947, 57.74544191574045, 53.4905224159833, 2.2655704506763503, 2.2354117099695308, 28.8863971151751, 31.594946495055993, 26.25452584306187, 37.259129526919565, 20.94297472205344, 24.24690214897198, 24.870493633427348, 24.322833667507112, 5362.699307879111, 5363.399382135339, 6087.466862493233, 6059.057201707978, 708.9146538197069, 313.70651787632727, 4674.137833494785, 800.3898640972586, 482.0142770970352, 1241.221666070877, 27.331050792380733, 563.1783141982276, 215.73429666409646, 58.43840531299174, 58.416073532250095, 70.41665323259726, 85.2212841945767, 67.80386254862104, 103.47330032617927, 8.872330338804575, 51.27540068784561, 29.95489671554024, 148.3504423123935, 28.745769695138506, 7.210399887821729, 136.5378589796701, 113.1875024421253, 78.06762959477736, 156.36127214375335, 151.92223103143218, 51.391742507883514, 50.273414666425424, 61.3473697077207, 60.125764790010216, 60.00740358579978, 58.22733817276673, 10912.648407113438, 10909.023451728768, 17768.63754119883, 17756.035347311186, 885.444169881229, 885.1722342048533, 961.0518912924442, 960.9200849184035, 10929.648948491844, 2418.478904519458, 2355.350293690924, 1216.4099750976493, 1209.2133630806536, 146.51605941682476, 141.91413029900767, 424.88008750886905, 421.690925451363, 624.9495188540319, 1916.016040706757, 185.17949254973985, 906.4954164378054, 347.4201144114521, 311.3346583000101, 34.71802000012654, 92.70170566605576, 68.3262745463862, 67.8729350458716, 64.12314073855113, 42.43403976273041, 142.8538609287429, 104.06004192156797, 154.90011921901808, 81.1510067307001, 80.82804810268554, 72.46429044348824, 4921.546325657785, 4918.835259876692, 4018.2800037234056, 1870.6402301427495, 14566.982466432977, 14537.597575699374, 1178.199015471568, 1175.8388795924548, 2873.120638843656, 2873.6779384955003, 1111.383853575921, 662.7759853248331, 547.2700031907123, 774.3828964402331, 1124.5570663160586, 107.37699972129091, 259.33401701430466, 1190.4108581658272, 193.58787125132775, 176.57178187403028, 13.138072780556147, 786.4752293202637, 12.938700941092417, 4.523181979915699, 4.308588190049798, 5.969803809769079, 69.0181139411377, 36.22901598446121, 15.443450626484946, 28.584467349488573, 40.76631120863775, 35.21547298064607, 25.613150723088324, 20.493778177887595, 26.211698993103102, 25.28974100972455, 22.818456570313263, 4521.333296997994, 3549.3219601439914, 3549.492611142565, 16093.61094283619, 3854.535197111852, 2086.3355297335283, 2077.8864731615386, 22500.677557735104, 2221.5815499285727, 3329.998260655808, 716.3651481357912, 3668.520112239326, 1124.2316349791995, 40.8546129964355, 60.24626407072578, 37.00659001940876, 69.05362721357923, 56.95300406480803, 79.0739260271284, 74.99057905278829, 40.73732315174905, 13.969241972576885, 43.26392962055734, 39.750963815264065, 12.332395324951033, 28.81315619452625, 43.13216666707224, 27.993712003297706, 42.54714062585588, 12.684321091066309, 34.13114236835392, 29.515085612844576, 21.331951455808742, 4490.440263264466, 11198.47351769684, 11182.223092452425, 10056.33405903029, 3522.4559793611597, 10502.837129103276, 2191.5477465859276, 1182.767182967609, 1169.456067343273, 2271.8368255808405, 117.82910787742107, 275.1187048888673, 29.266468530767934, 9.248422792918454, 8.764756936373084, 69.32010978685788, 86.72223115000199, 27.38002979692685, 26.337440984744788, 37.509106522462304, 24.37410645707463, 31.952841205540118, 6.881509936897128, 103.29350832501287, 56.64545835352647, 13.926897999600593, 13.712011822968467, 77.64798759141556, 74.86207502636427, 35.1172766813552, 55.78551219274332, 87.69794495106491, 81.82037779791739, 34.11151264500636, 16.45581581664091, 24.721800449730974, 1313.7618166530247, 12343.922499741993, 4751.069567518165, 11221.776011324228, 19461.286911192212, 1627.9055348482316, 2100.9064826734343, 158.61154389045657, 156.68601914071996, 365.3507487940619, 345.5086820747905, 78.33388645795122, 155.89561589237002, 146.97111009465894, 20.55114531859807, 18.5160529559466, 42.291277186370095, 69.45827796377941, 35.265158908622844, 204.7559627670961, 72.37132321675864, 71.62487854113162, 79.41205136921843, 13.907772231687462, 90.35837427272611, 61.745579391122725, 11.69656753275724, 1.984435515369585, 11.313476598526305, 4.695152983199884, 38.5538313905311, 33.03466108354833, 32.61622614802001, 27.4622317871291, 19.887184217404574, 18060.653648976942, 18060.88414422225, 8171.939481433577, 1096.9447556768707, 2117.9947790770334, 733.2971760201555, 733.4537538247274, 484.722807637229, 193.57321044442998, 1839.8124519472879, 103.11633872747612, 87.56105786657577, 274.256804334477, 258.6286554319899, 429.6617159673823, 32.53712672462642, 32.182532267972654, 60.10396376270733, 51.16584621337479, 28.76230447774225, 77.80496783166828, 71.23277344700044, 8.359192291194775, 7.765592520975214, 43.026367988349165, 1.5267923239594394, 1.4909175428759436, 36.538752691406344, 3.6195856861966, 1.5824787830092848, 22.21234152093048, 12.243506765245906, 8.239682648766646, 20.66887562607899, 12.752754869301858, 15.012128315807432, 13.840056578207314, 12.414317433884458, 2404.8163687469764, 2402.7161392206235, 19733.366269250746, 19006.284691178804, 1929.478414760504, 1918.264178607905, 107.82430499592192, 107.82847527013271, 2029.2027777168028, 2014.7778275908609, 1461.7048275465997, 1448.2984456197362, 139.68876739487644, 287.77104853074957, 2413.809409051897, 43.29964506939206, 436.66748350634117, 297.6831378379358, 270.9076511291952, 79.8822904612564, 75.75666939064637, 51.3572105981147, 47.710440554529356, 155.27072747601042, 247.45428429057162, 10.41746820734228, 242.3007899192427, 10.242391159671053, 55.99927544822282, 54.233579219679534, 133.31647492392608, 141.14078878896714, 133.04862700582225, 86.4045213116124, 79.16896789442045, 86.68082325498709, 64.23688263677239, 2605.9365331261797, 2605.8629161771746, 5894.978265673091, 8997.848703127653, 8997.65928870751, 3639.436921621165, 4653.198019546403, 4648.398990330172, 3192.576669111943, 3187.298930762451, 1838.3387737554501, 236.1535474900256, 748.0906108962579, 78.64407262804518, 243.56560533707832, 29.342472343930528, 42.30614659607123, 28.3691835316034, 477.9993265971516, 73.50468315797161, 113.22268104057301, 111.81555274975663, 61.46595550713478, 80.07743317459237, 126.31696009189687, 71.27918807424435, 4.738279300579596, 40.760989634693956, 63.88103910514133, 189.11755233508015, 36.37629513605428, 33.89719463712226, 3712.48333572593, 3708.6486740933256, 23392.19772290089, 23347.055901900374, 9569.646969546284, 2136.5510232892675, 920.0282850279117, 183.77191735735707, 182.2326596847325, 2087.3494101772026, 3164.6893377960787, 923.4706185301803, 531.4835545503722, 522.249412946808, 31.684130492862216, 31.142939134399143, 114.0826406683609, 43.16008380207082, 124.4022327954011, 35.11462287628747, 4.9460672697567665, 4.8540072887640555, 70.79769406751564, 37.94400072996435, 5.392334373622553, 50.778123348344714, 17.3309828029944, 53.225201595243234, 10.719981478663865, 49.792369954463084, 30.226560301509696, 30.028138172722652, 28.352477218744507, 17.76236402293248, 21.847840785239917, 26.04756481400067, 25.880402273412955, 8072.524298008656, 20649.51907707063, 20620.077167538362, 17950.838837186242, 17890.894461710515, 2201.408816639577, 880.5838000147089, 69.26143438680214, 68.82010512162189, 341.1130724539491, 781.8139183246151, 48.83794913565098, 143.84736626184144, 35.3264675197632, 66.91428078111336, 5.264259893812698, 5.230752507496033, 22.611104220160097, 24.285664478020266, 65.35226127792438, 34.462841617030946, 62.692811294611836, 36.43694307144032, 58.96223180372204, 37.01044394745383, 32.75048227608139, 42.420219308499284, 41.27940276514623, 42.99718305805247, 1.3462354074069744, 35.13330031678715, 12.652384593047396, 12.572007187017656, 25.117687047809074, 12.762152940592465, 1237.7083822231752, 9039.646740038372, 13127.779017671157, 17942.31897893486, 8196.863898008158, 1819.1371736045994, 4295.20627853857, 575.4843676674067, 235.67801075043414, 667.8004272669971, 140.60555315586495, 150.80755009046493, 244.27810828403824, 18.612077462643914, 18.541033040673437, 67.52069039929951, 49.93072906659423, 7.905605793246278, 7.52449712872699, 156.30382781244802, 310.6193363911381, 149.24297893915198, 119.7130077068037, 76.66133686759125, 84.28726368252924, 71.44025321406544, 79.85200523351152, 10.452838805049018, 34.67489076681218, 9.417260183213411, 46.11760006245382, 36.642575965324866, 18.183877244689135, 22.012080720824887, 18.804706065709645], \"Total\": [66863.0, 27336.0, 27349.0, 22005.0, 22007.0, 70092.0, 21046.0, 21068.0, 33683.0, 23919.0, 23901.0, 22322.0, 16559.0, 18397.0, 18407.0, 20685.0, 20709.0, 15338.0, 13967.0, 9881.0, 13491.0, 14324.0, 13500.0, 13113.0, 11001.0, 11000.0, 10314.0, 10314.0, 9277.0, 7600.0, 9881.336920114429, 33683.72067056795, 70092.19400628336, 20142.73002151839, 22322.911985406925, 66863.39923747428, 14324.332316280897, 5955.65414860429, 13967.498586144438, 1481.2098955530282, 5161.001858524705, 5161.394344727216, 12408.499065189259, 4062.273761286675, 23919.106430519452, 23901.127368836136, 2640.4500942806426, 2641.774521372002, 5769.337494708856, 22007.812428435453, 22005.955055103608, 5027.855682943254, 9277.441982149945, 6482.983781460744, 15338.733956208089, 7601.211769970637, 13491.196721384033, 7600.500691877143, 5179.3750812468525, 13500.375738510396, 27349.933442341127, 27336.540374662058, 13113.889533625057, 21046.98517471444, 21068.836479759822, 18397.00873095792, 7600.500691877143, 7601.211769970637, 3574.2248699428155, 3574.9620373108314, 3557.597162031879, 3557.571394950123, 6552.434123517122, 5741.381954036738, 10314.6610339232, 10314.278748760125, 12551.073776196721, 12408.499065189259, 20142.73002151839, 3929.6298612477235, 3924.184486249845, 66863.39923747428, 5573.918711037033, 70092.19400628336, 33683.72067056795, 9619.899484259271, 9623.500770467954, 13113.889533625057, 5769.337494708856, 22005.955055103608, 22007.812428435453, 933.8691107369009, 932.9782963784745, 13500.375738510396, 15338.733956208089, 13491.196721384033, 22322.911985406925, 14324.332316280897, 20709.95035205033, 23919.106430519452, 23901.127368836136, 5425.384457935983, 5426.527540232149, 23919.106430519452, 23901.127368836136, 5027.855682943254, 2455.5689803676973, 70092.19400628336, 20142.73002151839, 13967.498586144438, 66863.39923747428, 1481.2098955530282, 33683.72067056795, 14324.332316280897, 3972.393543235676, 3971.435153045906, 5161.001858524705, 6482.983781460744, 5161.394344727216, 9881.336920114429, 933.8691107369009, 5955.65414860429, 3635.614022254257, 18407.335144277087, 3634.8719916112777, 932.9782963784745, 18397.00873095792, 16559.975716399284, 12551.073776196721, 27349.933442341127, 27336.540374662058, 9619.899484259271, 9623.500770467954, 13113.889533625057, 22007.812428435453, 22005.955055103608, 22322.911985406925, 11001.239017982733, 11000.561867380748, 18397.00873095792, 18407.335144277087, 932.9782963784745, 933.8691107369009, 1156.6914839581623, 1156.6423852869189, 70092.19400628336, 20709.95035205033, 20685.752825669853, 27336.540374662058, 27349.933442341127, 3924.184486249845, 3929.6298612477235, 13491.196721384033, 13500.375738510396, 20142.73002151839, 66863.39923747428, 6482.983781460744, 33683.72067056795, 14324.332316280897, 13113.889533625057, 1481.2098955530282, 5179.3750812468525, 3971.435153045906, 3972.393543235676, 5955.65414860429, 4062.273761286675, 13967.498586144438, 12408.499065189259, 22322.911985406925, 10314.6610339232, 10314.278748760125, 9881.336920114429, 5161.394344727216, 5161.001858524705, 5027.855682943254, 2455.5689803676973, 23919.106430519452, 23901.127368836136, 3924.184486249845, 3929.6298612477235, 9619.899484259271, 9623.500770467954, 5955.65414860429, 5769.337494708856, 9881.336920114429, 20142.73002151839, 33683.72067056795, 5179.3750812468525, 14324.332316280897, 66863.39923747428, 13500.375738510396, 13491.196721384033, 1156.6423852869189, 70092.19400628336, 1156.6914839581623, 933.8691107369009, 932.9782963784745, 1481.2098955530282, 22322.911985406925, 12408.499065189259, 6482.983781460744, 13967.498586144438, 22007.812428435453, 22005.955055103608, 18397.00873095792, 13113.889533625057, 27349.933442341127, 27336.540374662058, 18407.335144277087, 4606.855012300001, 3634.8719916112777, 3635.614022254257, 16559.975716399284, 4062.273761286675, 3924.184486249845, 3929.6298612477235, 66863.39923747428, 13113.889533625057, 20142.73002151839, 12408.499065189259, 70092.19400628336, 33683.72067056795, 3972.393543235676, 5955.65414860429, 3971.435153045906, 9881.336920114429, 12551.073776196721, 22007.812428435453, 22005.955055103608, 14324.332316280897, 5769.337494708856, 18407.335144277087, 18397.00873095792, 5741.381954036738, 13500.375738510396, 20709.95035205033, 13491.196721384033, 20685.752825669853, 6552.434123517122, 27336.540374662058, 27349.933442341127, 23901.127368836136, 5179.3750812468525, 13491.196721384033, 13500.375738510396, 13113.889533625057, 20142.73002151839, 66863.39923747428, 33683.72067056795, 23901.127368836136, 23919.106430519452, 70092.19400628336, 5027.855682943254, 14324.332316280897, 2455.5689803676973, 1156.6914839581623, 1156.6423852869189, 9881.336920114429, 12551.073776196721, 4062.273761286675, 3972.393543235676, 5769.337494708856, 3971.435153045906, 6482.983781460744, 1481.2098955530282, 22322.911985406925, 13967.498586144438, 3635.614022254257, 3634.8719916112777, 20685.752825669853, 20709.95035205033, 10314.6610339232, 16559.975716399284, 27349.933442341127, 27336.540374662058, 10314.278748760125, 5161.394344727216, 21068.836479759822, 1481.2098955530282, 13967.498586144438, 5769.337494708856, 14324.332316280897, 70092.19400628336, 5955.65414860429, 20142.73002151839, 3929.6298612477235, 3924.184486249845, 12408.499065189259, 22322.911985406925, 5179.3750812468525, 13500.375738510396, 13491.196721384033, 3971.435153045906, 3972.393543235676, 9277.441982149945, 15338.733956208089, 9881.336920114429, 66863.39923747428, 23901.127368836136, 23919.106430519452, 27349.933442341127, 5027.855682943254, 33683.72067056795, 27336.540374662058, 5426.527540232149, 932.9782963784745, 5425.384457935983, 2455.5689803676973, 21068.836479759822, 21046.98517471444, 22005.955055103608, 22007.812428435453, 16559.975716399284, 22005.955055103608, 22007.812428435453, 12408.499065189259, 5955.65414860429, 20142.73002151839, 13491.196721384033, 13500.375738510396, 12551.073776196721, 5179.3750812468525, 70092.19400628336, 3929.6298612477235, 3924.184486249845, 22322.911985406925, 33683.72067056795, 66863.39923747428, 5741.381954036738, 6552.434123517122, 14324.332316280897, 15338.733956208089, 9277.441982149945, 27349.933442341127, 27336.540374662058, 3574.9620373108314, 3574.2248699428155, 23901.127368836136, 932.9782963784745, 933.8691107369009, 23919.106430519452, 2455.5689803676973, 1156.6423852869189, 16559.975716399284, 9881.336920114429, 6482.983781460744, 21068.836479759822, 13113.889533625057, 21046.98517471444, 18397.00873095792, 13967.498586144438, 2641.774521372002, 2640.4500942806426, 33683.72067056795, 66863.39923747428, 9623.500770467954, 9619.899484259271, 1156.6423852869189, 1156.6914839581623, 27336.540374662058, 27349.933442341127, 23901.127368836136, 23919.106430519452, 2455.5689803676973, 5955.65414860429, 70092.19400628336, 1481.2098955530282, 20142.73002151839, 14324.332316280897, 13967.498586144438, 5027.855682943254, 5769.337494708856, 3924.184486249845, 3929.6298612477235, 13113.889533625057, 22007.812428435453, 932.9782963784745, 22005.955055103608, 933.8691107369009, 5161.394344727216, 5161.001858524705, 16559.975716399284, 18407.335144277087, 18397.00873095792, 13491.196721384033, 13500.375738510396, 22322.911985406925, 21068.836479759822, 2625.5535253098114, 2625.646408962592, 6482.983781460744, 10314.278748760125, 10314.6610339232, 5573.918711037033, 9623.500770467954, 9619.899484259271, 22005.955055103608, 22007.812428435453, 15338.733956208089, 5955.65414860429, 20142.73002151839, 2455.5689803676973, 12408.499065189259, 3929.6298612477235, 5769.337494708856, 3924.184486249845, 70092.19400628336, 12551.073776196721, 23901.127368836136, 23919.106430519452, 14324.332316280897, 21068.836479759822, 33683.72067056795, 21046.98517471444, 1481.2098955530282, 13500.375738510396, 22322.911985406925, 66863.39923747428, 13491.196721384033, 13967.498586144438, 3971.435153045906, 3972.393543235676, 27336.540374662058, 27349.933442341127, 70092.19400628336, 20142.73002151839, 12408.499065189259, 2640.4500942806426, 2641.774521372002, 33683.72067056795, 66863.39923747428, 22322.911985406925, 13491.196721384033, 13500.375738510396, 1156.6914839581623, 1156.6423852869189, 5179.3750812468525, 4062.273761286675, 13113.889533625057, 6482.983781460744, 932.9782963784745, 933.8691107369009, 14324.332316280897, 9881.336920114429, 1481.2098955530282, 13967.498586144438, 5769.337494708856, 18397.00873095792, 3929.6298612477235, 18407.335144277087, 21068.836479759822, 21046.98517471444, 20709.95035205033, 9277.441982149945, 15338.733956208089, 23919.106430519452, 23901.127368836136, 8158.493642595016, 21046.98517471444, 21068.836479759822, 20685.752825669853, 20709.95035205033, 12551.073776196721, 5955.65414860429, 3557.597162031879, 3557.571394950123, 22322.911985406925, 70092.19400628336, 6552.434123517122, 20142.73002151839, 5741.381954036738, 14324.332316280897, 1156.6423852869189, 1156.6914839581623, 5027.855682943254, 5573.918711037033, 15338.733956208089, 9277.441982149945, 18407.335144277087, 11000.561867380748, 18397.00873095792, 12408.499065189259, 11001.239017982733, 23901.127368836136, 23919.106430519452, 27349.933442341127, 933.8691107369009, 27336.540374662058, 9623.500770467954, 9619.899484259271, 66863.39923747428, 33683.72067056795, 1247.7325615962968, 9277.441982149945, 15338.733956208089, 22322.911985406925, 12551.073776196721, 5573.918711037033, 70092.19400628336, 12408.499065189259, 5955.65414860429, 20142.73002151839, 5741.381954036738, 6482.983781460744, 14324.332316280897, 1156.6423852869189, 1156.6914839581623, 6552.434123517122, 5769.337494708856, 932.9782963784745, 933.8691107369009, 27349.933442341127, 66863.39923747428, 33683.72067056795, 27336.540374662058, 18407.335144277087, 20685.752825669853, 18397.00873095792, 20709.95035205033, 3574.2248699428155, 13113.889533625057, 3574.9620373108314, 21068.836479759822, 21046.98517471444, 9881.336920114429, 23901.127368836136, 23919.106430519452], \"Category\": [\"Default\", \"Default\", \"Default\", \"Default\", \"Default\", \"Default\", \"Default\", \"Default\", \"Default\", \"Default\", \"Default\", \"Default\", \"Default\", \"Default\", \"Default\", \"Default\", \"Default\", \"Default\", \"Default\", \"Default\", \"Default\", \"Default\", \"Default\", \"Default\", \"Default\", \"Default\", \"Default\", \"Default\", \"Default\", \"Default\", \"Topic1\", \"Topic1\", \"Topic1\", \"Topic1\", \"Topic1\", \"Topic1\", \"Topic1\", \"Topic1\", \"Topic1\", \"Topic1\", \"Topic1\", \"Topic1\", \"Topic1\", \"Topic1\", \"Topic1\", \"Topic1\", \"Topic1\", \"Topic1\", \"Topic1\", \"Topic1\", \"Topic1\", \"Topic1\", \"Topic1\", \"Topic1\", \"Topic1\", \"Topic1\", \"Topic1\", \"Topic1\", \"Topic1\", \"Topic1\", \"Topic1\", \"Topic1\", \"Topic1\", \"Topic1\", \"Topic1\", \"Topic1\", \"Topic2\", \"Topic2\", \"Topic2\", \"Topic2\", \"Topic2\", \"Topic2\", \"Topic2\", \"Topic2\", \"Topic2\", \"Topic2\", \"Topic2\", \"Topic2\", \"Topic2\", \"Topic2\", \"Topic2\", \"Topic2\", \"Topic2\", \"Topic2\", \"Topic2\", \"Topic2\", \"Topic2\", \"Topic2\", \"Topic2\", \"Topic2\", \"Topic2\", \"Topic2\", \"Topic2\", \"Topic2\", \"Topic2\", \"Topic2\", \"Topic2\", \"Topic2\", \"Topic2\", \"Topic2\", \"Topic2\", \"Topic3\", \"Topic3\", \"Topic3\", \"Topic3\", \"Topic3\", \"Topic3\", \"Topic3\", \"Topic3\", \"Topic3\", \"Topic3\", \"Topic3\", \"Topic3\", \"Topic3\", \"Topic3\", \"Topic3\", \"Topic3\", \"Topic3\", \"Topic3\", \"Topic3\", \"Topic3\", \"Topic3\", \"Topic3\", \"Topic3\", \"Topic3\", \"Topic3\", \"Topic3\", \"Topic3\", \"Topic3\", \"Topic3\", \"Topic3\", \"Topic3\", \"Topic3\", \"Topic3\", \"Topic3\", \"Topic3\", \"Topic3\", \"Topic4\", \"Topic4\", \"Topic4\", \"Topic4\", \"Topic4\", \"Topic4\", \"Topic4\", \"Topic4\", \"Topic4\", \"Topic4\", \"Topic4\", \"Topic4\", \"Topic4\", \"Topic4\", \"Topic4\", \"Topic4\", \"Topic4\", \"Topic4\", \"Topic4\", \"Topic4\", \"Topic4\", \"Topic4\", \"Topic4\", \"Topic4\", \"Topic4\", \"Topic4\", \"Topic4\", \"Topic4\", \"Topic4\", \"Topic4\", \"Topic4\", \"Topic4\", \"Topic4\", \"Topic4\", \"Topic4\", \"Topic5\", \"Topic5\", \"Topic5\", \"Topic5\", \"Topic5\", \"Topic5\", \"Topic5\", \"Topic5\", \"Topic5\", \"Topic5\", \"Topic5\", \"Topic5\", \"Topic5\", \"Topic5\", \"Topic5\", \"Topic5\", \"Topic5\", \"Topic5\", \"Topic5\", \"Topic5\", \"Topic5\", \"Topic5\", \"Topic5\", \"Topic5\", \"Topic5\", \"Topic5\", \"Topic5\", \"Topic5\", \"Topic5\", \"Topic5\", \"Topic5\", \"Topic5\", \"Topic5\", \"Topic5\", \"Topic5\", \"Topic5\", \"Topic5\", \"Topic6\", \"Topic6\", \"Topic6\", \"Topic6\", \"Topic6\", \"Topic6\", \"Topic6\", \"Topic6\", \"Topic6\", \"Topic6\", \"Topic6\", \"Topic6\", \"Topic6\", \"Topic6\", \"Topic6\", \"Topic6\", \"Topic6\", \"Topic6\", \"Topic6\", \"Topic6\", \"Topic6\", \"Topic6\", \"Topic6\", \"Topic6\", \"Topic6\", \"Topic6\", \"Topic6\", \"Topic6\", \"Topic6\", \"Topic6\", \"Topic6\", \"Topic6\", \"Topic6\", \"Topic7\", \"Topic7\", \"Topic7\", \"Topic7\", \"Topic7\", \"Topic7\", \"Topic7\", \"Topic7\", \"Topic7\", \"Topic7\", \"Topic7\", \"Topic7\", \"Topic7\", \"Topic7\", \"Topic7\", \"Topic7\", \"Topic7\", \"Topic7\", \"Topic7\", \"Topic7\", \"Topic7\", \"Topic7\", \"Topic7\", \"Topic7\", \"Topic7\", \"Topic7\", \"Topic7\", \"Topic7\", \"Topic7\", \"Topic7\", \"Topic7\", \"Topic7\", \"Topic7\", \"Topic7\", \"Topic7\", \"Topic7\", \"Topic8\", \"Topic8\", \"Topic8\", \"Topic8\", \"Topic8\", \"Topic8\", \"Topic8\", \"Topic8\", \"Topic8\", \"Topic8\", \"Topic8\", \"Topic8\", \"Topic8\", \"Topic8\", \"Topic8\", \"Topic8\", \"Topic8\", \"Topic8\", \"Topic8\", \"Topic8\", \"Topic8\", \"Topic8\", \"Topic8\", \"Topic8\", \"Topic8\", \"Topic8\", \"Topic8\", \"Topic8\", \"Topic8\", \"Topic8\", \"Topic8\", \"Topic8\", \"Topic8\", \"Topic8\", \"Topic8\", \"Topic9\", \"Topic9\", \"Topic9\", \"Topic9\", \"Topic9\", \"Topic9\", \"Topic9\", \"Topic9\", \"Topic9\", \"Topic9\", \"Topic9\", \"Topic9\", \"Topic9\", \"Topic9\", \"Topic9\", \"Topic9\", \"Topic9\", \"Topic9\", \"Topic9\", \"Topic9\", \"Topic9\", \"Topic9\", \"Topic9\", \"Topic9\", \"Topic9\", \"Topic9\", \"Topic9\", \"Topic9\", \"Topic9\", \"Topic9\", \"Topic9\", \"Topic9\", \"Topic9\", \"Topic9\", \"Topic9\", \"Topic9\", \"Topic9\", \"Topic9\", \"Topic10\", \"Topic10\", \"Topic10\", \"Topic10\", \"Topic10\", \"Topic10\", \"Topic10\", \"Topic10\", \"Topic10\", \"Topic10\", \"Topic10\", \"Topic10\", \"Topic10\", \"Topic10\", \"Topic10\", \"Topic10\", \"Topic10\", \"Topic10\", \"Topic10\", \"Topic10\", \"Topic10\", \"Topic10\", \"Topic10\", \"Topic10\", \"Topic10\", \"Topic10\", \"Topic10\", \"Topic10\", \"Topic10\", \"Topic10\", \"Topic10\", \"Topic10\", \"Topic10\", \"Topic10\", \"Topic10\", \"Topic10\", \"Topic10\", \"Topic11\", \"Topic11\", \"Topic11\", \"Topic11\", \"Topic11\", \"Topic11\", \"Topic11\", \"Topic11\", \"Topic11\", \"Topic11\", \"Topic11\", \"Topic11\", \"Topic11\", \"Topic11\", \"Topic11\", \"Topic11\", \"Topic11\", \"Topic11\", \"Topic11\", \"Topic11\", \"Topic11\", \"Topic11\", \"Topic11\", \"Topic11\", \"Topic11\", \"Topic11\", \"Topic11\", \"Topic11\", \"Topic11\", \"Topic11\", \"Topic11\", \"Topic11\", \"Topic12\", \"Topic12\", \"Topic12\", \"Topic12\", \"Topic12\", \"Topic12\", \"Topic12\", \"Topic12\", \"Topic12\", \"Topic12\", \"Topic12\", \"Topic12\", \"Topic12\", \"Topic12\", \"Topic12\", \"Topic12\", \"Topic12\", \"Topic12\", \"Topic12\", \"Topic12\", \"Topic12\", \"Topic12\", \"Topic12\", \"Topic12\", \"Topic12\", \"Topic12\", \"Topic12\", \"Topic12\", \"Topic12\", \"Topic12\", \"Topic12\", \"Topic12\", \"Topic12\", \"Topic12\", \"Topic12\", \"Topic12\", \"Topic12\", \"Topic13\", \"Topic13\", \"Topic13\", \"Topic13\", \"Topic13\", \"Topic13\", \"Topic13\", \"Topic13\", \"Topic13\", \"Topic13\", \"Topic13\", \"Topic13\", \"Topic13\", \"Topic13\", \"Topic13\", \"Topic13\", \"Topic13\", \"Topic13\", \"Topic13\", \"Topic13\", \"Topic13\", \"Topic13\", \"Topic13\", \"Topic13\", \"Topic13\", \"Topic13\", \"Topic13\", \"Topic13\", \"Topic13\", \"Topic13\", \"Topic13\", \"Topic13\", \"Topic13\", \"Topic13\", \"Topic13\", \"Topic14\", \"Topic14\", \"Topic14\", \"Topic14\", \"Topic14\", \"Topic14\", \"Topic14\", \"Topic14\", \"Topic14\", \"Topic14\", \"Topic14\", \"Topic14\", \"Topic14\", \"Topic14\", \"Topic14\", \"Topic14\", \"Topic14\", \"Topic14\", \"Topic14\", \"Topic14\", \"Topic14\", \"Topic14\", \"Topic14\", \"Topic14\", \"Topic14\", \"Topic14\", \"Topic14\", \"Topic14\", \"Topic14\", \"Topic14\", \"Topic14\", \"Topic14\", \"Topic14\", \"Topic14\", \"Topic14\"], \"logprob\": [30.0, 29.0, 28.0, 27.0, 26.0, 25.0, 24.0, 23.0, 22.0, 21.0, 20.0, 19.0, 18.0, 17.0, 16.0, 15.0, 14.0, 13.0, 12.0, 11.0, 10.0, 9.0, 8.0, 7.0, 6.0, 5.0, 4.0, 3.0, 2.0, 1.0, -1.4009, -1.9598, -1.4636, -2.974, -2.938, -1.8698, -3.4522, -4.8685, -4.2465, -7.0029, -6.1917, -6.2323, -5.3823, -6.6259, -4.8884, -4.9087, -7.1328, -7.1404, -6.5178, -5.2142, -5.2319, -6.8613, -6.5206, -6.9324, -6.2228, -7.0598, -6.5298, -7.1137, -7.5318, -6.5796, -5.9355, -5.9605, -6.701, -6.5048, -6.5087, -6.8317, -1.8672, -1.8674, -2.632, -2.6318, -2.644, -2.644, -2.0433, -2.1891, -3.7806, -3.7808, -3.6358, -3.8777, -3.9927, -5.7067, -5.7125, -4.3549, -6.925, -4.4305, -5.3277, -6.6986, -6.7691, -6.8938, -7.8634, -6.735, -6.8116, -9.9732, -9.9866, -7.4277, -7.3381, -7.5232, -7.1732, -7.7493, -7.6028, -7.5774, -7.5996, -1.8453, -1.8452, -1.7185, -1.7232, -3.8688, -4.6841, -1.9827, -3.7474, -4.2546, -3.3087, -7.1245, -4.0989, -5.0585, -6.3646, -6.3649, -6.1781, -5.9873, -6.2159, -5.7932, -8.2496, -6.4953, -7.0328, -5.4329, -7.074, -8.457, -5.5159, -5.7035, -6.0749, -5.3804, -5.4092, -6.493, -6.515, -6.316, -6.3361, -6.3381, -6.3682, -2.0636, -2.0639, -1.5761, -1.5768, -4.5752, -4.5755, -4.4933, -4.4934, -2.062, -3.5704, -3.5968, -4.2576, -4.2636, -6.3741, -6.4061, -5.3095, -5.317, -4.9236, -3.8033, -6.14, -4.5517, -5.5107, -5.6204, -7.814, -6.8319, -7.137, -7.1436, -7.2005, -7.6133, -6.3995, -6.7163, -6.3185, -6.965, -6.969, -7.0782, -2.5081, -2.5086, -2.7109, -3.4754, -1.423, -1.425, -3.9377, -3.9397, -3.0463, -3.0461, -3.9961, -4.513, -4.7045, -4.3574, -3.9843, -6.3331, -5.4514, -3.9274, -5.7437, -5.8357, -8.434, -4.3419, -8.4493, -9.5003, -9.5489, -9.2228, -6.7751, -7.4196, -8.2723, -7.6566, -7.3016, -7.448, -7.7664, -7.9894, -7.7433, -7.7791, -7.8819, -2.7434, -2.9854, -2.9854, -1.4738, -2.9029, -3.5168, -3.5208, -1.1386, -3.454, -3.0492, -4.5858, -2.9524, -4.1351, -7.4499, -7.0615, -7.5488, -6.9251, -7.1177, -6.7896, -6.8426, -7.4528, -8.5231, -7.3926, -7.4773, -8.6477, -7.7991, -7.3957, -7.828, -7.4093, -8.6196, -7.6297, -7.775, -8.0997, -2.5833, -1.6695, -1.6709, -1.777, -2.8261, -1.7336, -3.3006, -3.9174, -3.9287, -3.2647, -6.2238, -5.3758, -7.6166, -8.7685, -8.8223, -6.7543, -6.5303, -7.6832, -7.722, -7.3684, -7.7995, -7.5287, -9.0642, -6.3554, -6.9562, -8.3592, -8.3747, -6.6408, -6.6773, -7.4343, -6.9715, -6.5191, -6.5885, -7.4634, -8.1923, -7.7853, -3.7414, -1.5011, -2.4559, -1.5964, -1.0458, -3.527, -3.2719, -5.8556, -5.8678, -5.0212, -5.077, -6.561, -5.8728, -5.9318, -7.8991, -8.0034, -7.1774, -6.6813, -7.3591, -5.6002, -6.6402, -6.6506, -6.5474, -8.2896, -6.4182, -6.799, -8.4627, -10.2367, -8.496, -9.3755, -7.27, -7.4245, -7.4372, -7.6092, -7.932, -1.0829, -1.0829, -1.876, -3.8841, -3.2262, -4.2869, -4.2867, -4.7008, -5.6188, -3.367, -6.2486, -6.4121, -5.2704, -5.329, -4.8214, -7.402, -7.413, -6.7883, -6.9493, -7.5254, -6.5302, -6.6185, -8.7611, -8.8347, -7.1226, -10.4613, -10.485, -7.286, -9.5981, -10.4254, -7.7838, -8.3794, -8.7755, -7.8558, -8.3387, -8.1756, -8.2569, -8.3656, -3.2321, -3.233, -1.1273, -1.1648, -3.4524, -3.4582, -6.3369, -6.3368, -3.402, -3.4091, -3.73, -3.7392, -6.0779, -5.3552, -3.2284, -7.2492, -4.9382, -5.3213, -5.4156, -6.6368, -6.6898, -7.0786, -7.1522, -5.9722, -5.5061, -8.6739, -5.5272, -8.6908, -6.992, -7.0241, -6.1246, -6.0676, -6.1266, -6.5583, -6.6458, -6.5551, -6.8548, -3.0202, -3.0202, -2.2039, -1.781, -1.781, -2.6862, -2.4404, -2.4415, -2.8172, -2.8188, -3.3691, -5.4213, -4.2682, -6.5208, -5.3904, -7.5067, -7.1408, -7.5404, -4.7161, -6.5884, -6.1564, -6.1689, -6.7673, -6.5027, -6.0469, -6.6191, -9.3301, -7.178, -6.7287, -5.6434, -7.2918, -7.3624, -3.0111, -3.0121, -1.1704, -1.1723, -2.0642, -3.5636, -4.4062, -6.0169, -6.0253, -3.5869, -3.1708, -4.4024, -4.9549, -4.9724, -7.7747, -7.792, -6.4936, -7.4656, -6.407, -7.6719, -9.632, -9.6508, -6.9707, -7.5944, -9.5456, -7.3031, -8.3781, -7.256, -8.8585, -7.3227, -7.8218, -7.8284, -7.8858, -8.3535, -8.1465, -7.9706, -7.9771, -2.4174, -1.4782, -1.4796, -1.6183, -1.6216, -3.7168, -4.6331, -7.1758, -7.1822, -5.5814, -4.752, -7.5252, -6.4449, -7.849, -7.2103, -9.7527, -9.7591, -8.2952, -8.2238, -7.2339, -7.8738, -7.2754, -7.8181, -7.3368, -7.8025, -7.9247, -7.666, -7.6933, -7.6525, -11.1164, -7.8545, -8.8758, -8.8822, -8.1901, -8.8672, -3.8688, -1.8805, -1.5074, -1.1949, -1.9783, -3.4837, -2.6246, -4.6346, -5.5274, -4.4859, -6.0439, -5.9738, -5.4915, -8.066, -8.0699, -6.7774, -7.0792, -8.9223, -8.9717, -5.938, -5.2513, -5.9843, -6.2048, -6.6505, -6.5556, -6.721, -6.6097, -8.643, -7.4438, -8.7473, -7.1587, -7.3886, -8.0893, -7.8983, -8.0557], \"loglift\": [30.0, 29.0, 28.0, 27.0, 26.0, 25.0, 24.0, 23.0, 22.0, 21.0, 20.0, 19.0, 18.0, 17.0, 16.0, 15.0, 14.0, 13.0, 12.0, 11.0, 10.0, 9.0, 8.0, 7.0, 6.0, 5.0, 4.0, 3.0, 2.0, 1.0, 3.0454, 1.2601, 1.0235, 0.76, 0.6933, 0.6645, 0.6227, 0.084, -0.1463, -0.6588, -1.0959, -1.1366, -1.1638, -1.2907, -1.3262, -1.3457, -1.3668, -1.3749, -1.5334, -1.5687, -1.5863, -1.7394, -2.0113, -2.0647, -2.2163, -2.3512, -2.3949, -2.405, -2.4396, -2.4454, -2.5073, -2.5318, -2.5378, -2.8147, -2.8196, -3.007, 2.8415, 2.8412, 2.8312, 2.8311, 2.8238, 2.8238, 2.8137, 2.8001, 0.6227, 0.6226, 0.5713, 0.3408, -0.2586, -0.3384, -0.3428, -1.8206, -1.9062, -1.9434, -2.1078, -2.2256, -2.2964, -2.7306, -2.8791, -3.0894, -3.166, -3.1679, -3.1804, -3.2935, -3.3315, -3.3884, -3.5419, -3.6743, -3.8965, -4.0152, -4.0367, 3.2005, 3.2004, 1.8437, 1.8398, 1.2531, 1.1545, 0.5044, -0.0134, -0.1544, -0.7744, -0.7805, -0.879, -0.9835, -1.007, -1.0072, -1.0823, -1.1196, -1.1202, -1.347, -1.4443, -1.5428, -1.5867, -1.6088, -1.6277, -1.6507, -1.6912, -1.7736, -1.8679, -1.9522, -1.9805, -2.02, -2.0424, -2.1527, -2.6906, -2.6925, -2.7369, 2.2753, 2.275, 2.2486, 2.2474, 2.2311, 2.2298, 2.0981, 2.098, 0.425, 0.1359, 0.1106, -0.8289, -0.8354, -1.0044, -1.0377, -1.1746, -1.1828, -1.1896, -1.269, -1.2722, -1.3318, -1.4358, -1.4572, -1.47, -1.7397, -1.7792, -1.7861, -2.2479, -2.2782, -2.2993, -2.4978, -2.6872, -2.5616, -2.5656, -2.6319, 2.5876, 2.5871, 2.411, 2.3631, 2.1393, 2.138, 1.432, 1.4286, 1.4268, 1.4266, 0.9565, 0.4713, -0.2583, -0.6233, -0.7644, -1.2409, -1.3764, -1.3932, -1.6096, -1.7009, -1.8426, -1.8548, -1.8579, -2.6949, -2.7426, -2.8787, -3.1438, -3.2011, -3.4046, -3.5564, -3.6561, -3.8024, -3.9417, -3.8261, -4.3151, -4.3504, -4.0577, 2.466, 2.4609, 2.4607, 2.4562, 2.4322, 1.853, 1.8475, 1.3956, 0.7093, 0.6848, -0.3672, -0.4653, -0.9152, -2.0924, -2.1089, -2.1911, -2.4788, -2.9106, -3.1441, -3.197, -3.3779, -3.5387, -3.5685, -3.6526, -3.6585, -3.6649, -3.6894, -3.6931, -3.7019, -3.7625, -4.2011, -4.3469, -4.5368, 2.5089, 2.4654, 2.4633, 2.3862, 0.908, 0.8007, -0.0807, -0.3544, -0.3665, -0.7776, -1.1019, -1.3008, -1.778, -2.1772, -2.2309, -2.308, -2.3232, -2.348, -2.3645, -2.3841, -2.4417, -2.661, -2.7201, -2.7241, -2.856, -2.913, -2.9284, -2.9334, -2.9711, -3.031, -3.0416, -3.0909, -3.1598, -3.06, -3.0966, -4.0962, 2.6027, 2.5991, 2.5284, 2.4785, 1.4412, 1.4256, 0.4622, -0.4872, -0.498, -0.8026, -1.4457, -1.4688, -1.7387, -1.7969, -2.5413, -2.6459, -2.6681, -2.6748, -2.9129, -3.066, -3.0772, -3.0884, -3.1192, -3.1677, -3.1984, -3.3703, -3.4171, -3.4304, -3.4502, -3.537, -3.5809, -3.7343, -3.7916, -3.9637, -4.002, 2.5627, 2.5626, 2.3426, 1.0684, 0.5079, -0.152, -0.1525, -0.4937, -0.5265, -0.8799, -0.8802, -1.0423, -1.6391, -2.1091, -2.2872, -2.4128, -2.5559, -2.7134, -2.9428, -3.016, -3.102, -3.1898, -3.2981, -3.3716, -3.5596, -3.655, -3.6797, -3.7238, -3.7595, -3.834, -3.8539, -3.9332, -3.9077, -4.1667, -4.1754, -4.4854, -4.4321, -4.2654, 2.5333, 2.533, 2.0926, 1.3694, 1.0203, 1.0149, 0.2545, 0.2545, 0.0267, 0.0191, -0.167, -0.177, -0.2394, -0.4026, -0.7413, -0.9052, -1.2041, -1.2464, -1.3154, -1.5149, -1.7055, -1.7088, -1.7838, -1.809, -1.8606, -1.8676, -1.8816, -1.8855, -1.8963, -1.9283, -2.1947, -2.2434, -2.3019, -2.4234, -2.5116, -2.9238, -3.1657, 2.7514, 2.7514, 2.6638, 2.6224, 2.6223, 2.3327, 2.0323, 2.0316, 0.8284, 0.8267, 0.6374, -0.4687, -0.5342, -0.6823, -1.1718, -2.1383, -2.1565, -2.1707, -2.229, -2.3813, -2.5934, -2.6067, -2.6923, -2.8136, -2.8271, -2.929, -2.986, -3.0438, -3.0974, -3.1091, -3.157, -3.2622, 2.3467, 2.3454, 2.2583, 2.2559, 0.4229, 0.1704, -0.1876, -0.2509, -0.2598, -0.367, -0.6365, -0.7711, -0.82, -0.8382, -1.1834, -1.2006, -1.4014, -2.1305, -2.2438, -2.8042, -2.8257, -2.8454, -2.8958, -3.1482, -3.2015, -3.2029, -3.3937, -3.4313, -3.4901, -3.4985, -4.1327, -4.1383, -4.1796, -3.8442, -4.1399, -4.4084, -4.4141, 2.2204, 2.2119, 2.2095, 2.0892, 2.0847, 0.4903, 0.3195, -1.708, -1.7143, -1.9502, -2.265, -2.6681, -2.7109, -2.8598, -3.1353, -3.1613, -3.1678, -3.1733, -3.205, -3.2273, -3.3645, -3.4513, -3.4791, -3.5121, -3.5839, -3.5858, -4.1031, -4.1311, -4.2243, -4.311, -4.4258, -4.4031, -4.4091, -5.6558, -5.6473, 2.6467, 2.6288, 2.4992, 2.4364, 2.2288, 1.5351, -0.1375, -0.4161, -0.5748, -0.7518, -1.0547, -1.1061, -1.4166, -1.4747, -1.4785, -1.9203, -2.0949, -2.116, -2.1664, -2.5099, -2.717, -2.7644, -2.7761, -2.8263, -2.8482, -2.8963, -2.9034, -3.1798, -3.2806, -3.2844, -3.4695, -3.6985, -3.6431, -4.3353, -4.4935]}, \"token.table\": {\"Topic\": [1, 2, 3, 5, 7, 8, 9, 10, 11, 14, 1, 2, 3, 4, 5, 6, 7, 8, 9, 10, 11, 12, 13, 14, 1, 2, 3, 4, 5, 6, 7, 8, 9, 10, 11, 12, 13, 14, 1, 2, 3, 4, 5, 7, 8, 9, 10, 11, 12, 13, 14, 1, 2, 3, 4, 5, 6, 7, 8, 9, 10, 11, 12, 13, 14, 1, 2, 3, 4, 5, 7, 8, 9, 10, 11, 12, 13, 14, 1, 2, 3, 4, 5, 6, 7, 8, 9, 10, 11, 12, 13, 14, 1, 2, 3, 4, 5, 6, 7, 8, 9, 10, 11, 12, 13, 14, 1, 2, 3, 4, 5, 6, 7, 8, 9, 10, 11, 12, 13, 14, 1, 2, 3, 4, 5, 6, 7, 8, 9, 10, 11, 12, 13, 14, 1, 2, 3, 4, 5, 6, 7, 8, 9, 10, 11, 12, 13, 14, 1, 2, 3, 4, 5, 6, 7, 8, 9, 10, 11, 12, 13, 14, 1, 2, 3, 4, 5, 7, 8, 9, 10, 11, 12, 13, 14, 1, 2, 3, 4, 5, 6, 7, 8, 9, 10, 11, 12, 13, 14, 1, 2, 3, 4, 5, 6, 7, 8, 9, 10, 11, 12, 13, 14, 1, 2, 3, 4, 5, 6, 7, 8, 9, 10, 11, 12, 13, 14, 1, 2, 3, 4, 5, 6, 7, 8, 9, 10, 11, 12, 13, 14, 1, 2, 3, 4, 5, 6, 7, 8, 9, 10, 11, 12, 13, 14, 1, 2, 3, 4, 5, 6, 7, 8, 9, 10, 11, 12, 13, 14, 1, 2, 3, 4, 5, 6, 7, 8, 9, 10, 11, 12, 13, 14, 1, 2, 3, 4, 5, 6, 7, 8, 9, 10, 11, 12, 13, 14, 1, 2, 3, 4, 5, 6, 7, 8, 9, 10, 11, 12, 13, 14, 1, 2, 3, 4, 5, 6, 7, 8, 9, 10, 11, 12, 13, 14, 1, 2, 3, 4, 5, 6, 7, 8, 9, 10, 11, 12, 13, 14, 1, 2, 3, 4, 5, 6, 7, 8, 9, 10, 11, 12, 13, 14, 1, 2, 3, 4, 5, 6, 7, 8, 9, 10, 11, 12, 13, 14, 1, 2, 3, 4, 5, 7, 8, 9, 10, 11, 12, 13, 14, 1, 2, 3, 4, 5, 6, 7, 8, 9, 10, 11, 12, 13, 14, 1, 2, 3, 4, 5, 6, 7, 8, 9, 10, 11, 12, 13, 14, 1, 2, 3, 4, 5, 6, 7, 8, 9, 10, 11, 12, 13, 14, 1, 2, 3, 4, 5, 6, 7, 8, 9, 10, 11, 12, 13, 14, 1, 2, 3, 4, 5, 6, 7, 8, 9, 10, 11, 12, 13, 14, 1, 2, 3, 4, 5, 6, 7, 8, 9, 10, 11, 12, 13, 14, 1, 2, 3, 4, 5, 6, 7, 8, 9, 10, 11, 12, 13, 14, 1, 2, 3, 4, 5, 6, 7, 8, 9, 10, 11, 12, 13, 14, 1, 2, 3, 4, 5, 6, 7, 8, 9, 10, 11, 12, 13, 14, 1, 2, 3, 4, 5, 6, 7, 8, 9, 10, 11, 12, 13, 14, 1, 2, 3, 4, 5, 6, 7, 8, 9, 10, 11, 12, 14, 1, 2, 3, 4, 5, 6, 7, 8, 9, 10, 11, 12, 13, 14, 1, 2, 3, 4, 5, 6, 7, 8, 9, 10, 11, 12, 13, 14, 1, 2, 3, 4, 5, 6, 7, 8, 9, 10, 11, 12, 13, 14, 1, 2, 3, 4, 5, 7, 8, 9, 10, 11, 12, 13, 14, 1, 2, 3, 4, 5, 6, 7, 8, 9, 10, 11, 12, 13, 14, 1, 2, 3, 4, 5, 6, 7, 8, 9, 10, 11, 12, 13, 14, 1, 2, 3, 4, 5, 6, 7, 8, 9, 10, 11, 12, 13, 14, 1, 2, 3, 4, 5, 6, 7, 8, 9, 10, 11, 12, 13, 14, 1, 2, 3, 4, 5, 6, 7, 8, 9, 10, 11, 12, 13, 14, 1, 2, 3, 4, 5, 6, 7, 8, 9, 10, 11, 12, 13, 14, 1, 2, 3, 4, 5, 6, 7, 8, 9, 10, 11, 12, 13, 14, 1, 2, 3, 4, 5, 7, 8, 9, 10, 11, 12, 13, 14, 1, 2, 3, 4, 5, 6, 7, 8, 9, 10, 11, 12, 13, 14, 1, 2, 3, 4, 5, 6, 7, 8, 9, 10, 11, 12, 13, 14, 1, 2, 3, 4, 5, 6, 7, 8, 9, 10, 11, 12, 13, 14, 1, 2, 3, 4, 5, 6, 7, 8, 9, 10, 11, 12, 13, 14, 1, 2, 3, 4, 5, 6, 7, 8, 9, 10, 11, 12, 13, 14, 1, 2, 3, 4, 5, 6, 7, 8, 9, 10, 11, 12, 13, 14, 1, 2, 3, 4, 5, 6, 7, 8, 9, 10, 11, 12, 13, 14, 1, 2, 3, 4, 5, 6, 7, 8, 9, 10, 11, 12, 13, 14, 1, 2, 3, 4, 5, 6, 7, 8, 9, 10, 11, 12, 13, 14, 1, 2, 3, 4, 5, 6, 7, 8, 9, 10, 11, 12, 13, 14, 1, 2, 3, 4, 5, 6, 7, 8, 9, 10, 11, 12, 13, 14, 1, 2, 3, 4, 5, 6, 7, 8, 9, 10, 11, 12, 13, 14, 1, 2, 3, 4, 5, 6, 7, 8, 9, 10, 11, 12, 13, 14, 1, 2, 3, 4, 5, 6, 7, 8, 9, 10, 11, 12, 13, 14, 1, 2, 3, 4, 5, 6, 7, 8, 9, 10, 11, 12, 13, 14, 1, 2, 3, 4, 5, 6, 7, 8, 9, 10, 11, 12, 13, 14, 1, 2, 3, 4, 5, 6, 7, 8, 9, 10, 11, 12, 13, 14, 1, 2, 3, 4, 5, 6, 7, 8, 9, 10, 11, 12, 13, 14, 1, 2, 3, 4, 5, 6, 7, 8, 9, 10, 11, 12, 13, 14, 1, 2, 3, 4, 5, 6, 7, 8, 9, 10, 11, 12, 13, 14, 1, 2, 3, 4, 5, 6, 7, 8, 9, 10, 11, 12, 13, 14, 1, 2, 3, 4, 5, 6, 7, 8, 9, 10, 11, 12, 13, 14], \"Freq\": [0.0008014537976957513, 0.0008014537976957513, 0.0016029075953915026, 0.0008014537976957513, 0.0008014537976957513, 0.0008014537976957513, 0.0008014537976957513, 0.0008014537976957513, 0.0008014537976957513, 0.9921998015473401, 0.0118160426452393, 0.0009846702204366082, 0.0019693404408732164, 0.010339037314584387, 0.0017231728857640646, 0.9489759249457812, 0.006646523987947106, 0.0007385026653274563, 0.0007385026653274563, 0.0024616755510915205, 0.0012308377755457602, 0.010585204869693539, 0.0007385026653274563, 0.0012308377755457602, 0.003668396225790632, 0.0007722939422717119, 0.0030891757690868476, 0.0179558341578173, 0.020658862955768294, 0.0011584409134075678, 0.8668999501999967, 0.015059731874298384, 0.03745625620017803, 0.008109086393852976, 0.0017376613701113519, 0.02201037735474379, 0.0007722939422717119, 0.0005792204567037839, 0.00028109063430728986, 0.9706059602630719, 0.0008432719029218696, 0.005902903320453087, 0.00028109063430728986, 0.00028109063430728986, 0.00028109063430728986, 0.00028109063430728986, 0.0011243625372291594, 0.00028109063430728986, 0.00028109063430728986, 0.019395253767203, 0.00028109063430728986, 0.0017384374081953371, 0.0005432616900610428, 0.008040273012903434, 0.9646154568723876, 0.0012495018871403986, 0.002336025267262484, 0.0008692187040976686, 0.0005975878590671471, 0.0006519140280732514, 0.0076599898298607035, 0.0014124803941587113, 0.0027163084503052143, 0.0034225486473845696, 0.00418311501347003, 0.002285151564780055, 0.0003808585941300092, 0.0011425757823900276, 0.0003808585941300092, 0.0007617171882600184, 0.0003808585941300092, 0.0003808585941300092, 0.0003808585941300092, 0.0011425757823900276, 0.9925174963028041, 0.0003808585941300092, 0.0003808585941300092, 0.0003808585941300092, 0.03694290690760225, 0.00042956868497211914, 0.0345086843594269, 0.010238053658502173, 0.002076248644031909, 0.00035797390414343263, 0.004080902507235132, 0.8837659745493065, 0.0008591373699442383, 0.01940218560457405, 0.0024342225481753417, 0.003651333822263013, 0.0007159478082868653, 0.0005727582466294923, 0.0009090444761419279, 9.090444761419279e-05, 0.00036361779045677116, 0.9916766190232291, 9.090444761419279e-05, 0.0009999489237561207, 0.0002727133428425784, 0.0002727133428425784, 9.090444761419279e-05, 0.00018180889522838558, 0.0008181400285277352, 0.0007272355809135423, 0.0032725601141109406, 0.00018180889522838558, 0.0011056794525626452, 0.0005528397262813226, 0.9882931506822444, 0.00018427990876044087, 0.0005528397262813226, 0.00018427990876044087, 0.0007371196350417635, 0.0022113589051252903, 0.0007371196350417635, 0.004422717810250581, 0.00018427990876044087, 0.00018427990876044087, 0.00036855981752088174, 0.0005528397262813226, 0.0005817178443738741, 0.1074238952610421, 0.00029085892218693707, 0.007853190899047301, 0.0008725767665608113, 0.0003878118962492494, 0.0032964011181186204, 0.0003878118962492494, 0.0004847648703115618, 0.004750695729053306, 0.8723828606126866, 0.0001939059481246247, 0.001066482714685436, 0.0001939059481246247, 0.0006128582332767036, 0.0006128582332767036, 0.001348288113208748, 0.0006128582332767036, 0.0007354298799320443, 0.0011031448198980665, 0.0011031448198980665, 0.0006128582332767036, 0.0004902865866213629, 0.0014708597598640887, 0.0007354298799320443, 0.0004902865866213629, 0.9895209034485657, 0.0008580015265873851, 0.00256568812833464, 0.00047512743117308144, 0.0007602038898769303, 0.0011403058348153955, 0.0006176656605250059, 0.0005226401742903896, 0.0010927930916980874, 0.0015679205228711689, 0.0007126911467596221, 0.0028982773301557967, 0.0033734047613288784, 0.0014253822935192443, 0.9811381453724132, 0.0017579714953404014, 0.002285232406104541, 0.00038087206768409014, 0.0011426162030522705, 0.00038087206768409014, 0.00038087206768409014, 0.00038087206768409014, 0.00038087206768409014, 0.00038087206768409014, 0.0007617441353681803, 0.9925526083847389, 0.00038087206768409014, 0.00038087206768409014, 0.00038087206768409014, 0.008905928321469875, 0.00240823571958114, 0.002726304588205064, 0.0008633297862649369, 0.0018629748019401268, 0.0035896343744700005, 0.0009087681960683546, 0.0012268370646922786, 0.8206631194595276, 0.01122328722144418, 0.1448122120434923, 0.0001363152294102532, 0.00022719204901708865, 0.00036350727842734184, 0.0003118535702902928, 0.006237071405805856, 0.005301510694934977, 0.0010395119009676426, 0.29865176914800373, 0.0003118535702902928, 0.0010395119009676426, 0.0013513654712579354, 0.0005197559504838213, 0.19937838260559387, 0.4831651315697603, 0.00041580476038705706, 0.0013513654712579354, 0.0008316095207741141, 0.004693998879279032, 0.0020862217241240143, 0.0008475275754253808, 0.0001303888577577509, 0.001173499719819758, 0.00019558328663662634, 0.000586749859909879, 0.004498415592642405, 0.0033249158728226474, 0.0010431108620620072, 0.11982736027937306, 0.0014342774353352597, 0.004237637877126904, 0.8558724623218769, 0.014338301366384941, 0.00019376082927547217, 0.013563258049283052, 0.0005812824878264165, 0.9531095192060476, 0.00038752165855094435, 0.0029064124391320824, 0.0005812824878264165, 0.0005812824878264165, 0.010463084780875497, 0.0019376082927547217, 0.00038752165855094435, 0.00019376082927547217, 0.0007750433171018887, 0.002119909848951259, 0.0003804966395553542, 0.007446862802726217, 0.9658635411798698, 0.0014132732326341726, 0.002174266511744881, 0.0006522799535234644, 0.0005435666279362203, 0.0007609932791107084, 0.007229436151551729, 0.0014676298954277947, 0.0028809031280619675, 0.0032070431048236993, 0.003859323058347164, 0.00539874865954297, 0.0007712498085061385, 0.013111246744604354, 0.028536242914727124, 0.0023137494255184156, 0.0006169998468049108, 0.004935998774439287, 0.0006169998468049108, 0.0012339996936098217, 0.0038562490425306925, 0.9093035242287373, 0.00539874865954297, 0.0004627498851036831, 0.02329174421688538, 0.8989674243287651, 0.000607205284923178, 0.010423690724514555, 0.007286463419078136, 0.05535688180882973, 0.006982860776616548, 0.006982860776616548, 0.0035420308287185385, 0.001214410569846356, 0.0005060044041026484, 0.001518013212307945, 0.0038456334711801272, 0.0007084061657437077, 0.001821615854769534, 0.005712781616093473, 0.0007545183266538549, 0.0008623066590329771, 0.0003233649971373664, 0.0009700949914120992, 0.00021557666475824428, 0.0006467299942747328, 0.00452710995992313, 0.003125861638994542, 0.0011856716561703434, 0.0015090366533077099, 0.0019401899828241985, 0.0036648033008901525, 0.9744065247072642, 0.0019159150337082092, 0.9478554194036432, 0.0013933927517877885, 0.001567566845761262, 0.0005225222819204207, 0.0020900891276816828, 0.001219218657814315, 0.0008708704698673678, 0.005747745101124627, 0.0040060041613898915, 0.0005225222819204207, 0.001567566845761262, 0.006096093289071574, 0.02455854725025977, 0.0015469584437985647, 0.0010635339301115132, 0.0011118763814802184, 0.11384647297330062, 0.0005317669650557566, 0.0020787254088543215, 0.003770711206759002, 0.0005801094164244617, 0.00043508206231834633, 0.0010151914787428081, 0.0010151914787428081, 0.0012085612842176287, 0.8677953445196261, 0.0040607659149712325, 0.011371662264646438, 0.0010451895463829447, 0.25448275075331933, 0.0010451895463829447, 0.6090110448864142, 0.0007943440552510379, 0.04887306318886649, 0.0030101458935828805, 0.0015468805286467581, 0.06053737852650015, 0.004682449167795592, 0.0010869971282382624, 0.0017141108560680292, 0.0007943440552510379, 0.004078297110793395, 0.9877372486398972, 0.00039467391394774795, 0.0009209057992114119, 0.000263115942631832, 0.000526231885263664, 0.0007893478278954959, 0.0017102536271069078, 0.00039467391394774795, 0.0007893478278954959, 0.0007893478278954959, 0.000263115942631832, 0.000263115942631832, 0.001052463770527328, 0.0024434255555311497, 0.0012217127777655748, 0.12787260407279685, 0.00081447518517705, 0.7619415357331302, 0.000407237592588525, 0.011809890185067224, 0.002036187962942625, 0.0016289503703541, 0.05701326296239349, 0.032171769814493476, 0.00081447518517705, 0.000407237592588525, 0.000407237592588525, 0.0002810885984147969, 0.9705989303262936, 0.0005621771968295938, 0.005621771968295938, 0.0002810885984147969, 0.0002810885984147969, 0.0002810885984147969, 0.0002810885984147969, 0.0014054429920739844, 0.0002810885984147969, 0.0002810885984147969, 0.019395113290620984, 0.0002810885984147969, 0.00169082373546428, 0.00126811780159821, 0.006823681503837987, 0.0020531431073494825, 0.0007850253057512728, 0.9718613285200757, 0.00338164747092856, 0.0012077312396173428, 0.001328504363579077, 0.008031412743455328, 0.0003019328099043357, 0.0006038656198086714, 0.00012077312396173427, 0.0006038656198086714, 0.0005816962845668898, 0.10741991388335233, 0.0002908481422834449, 0.007852899841653013, 0.0009694938076114831, 0.00038779752304459326, 0.003393228326640191, 0.0002908481422834449, 0.00038779752304459326, 0.004750519657296268, 0.8723505280888125, 9.694938076114832e-05, 0.0009694938076114831, 0.00019389876152229663, 0.009186496724902482, 0.0032932724108140974, 0.00485324355277867, 0.0019066313957344775, 0.11491787412472351, 0.002426621776389335, 0.006586544821628195, 0.8234914328304094, 0.001039980761309715, 0.01317308964325639, 0.007279865329168005, 0.0029466121570441927, 0.000346660253769905, 0.008666506344247624, 0.001794069938658917, 0.008611535705562803, 0.0007176279754635668, 0.0001794069938658917, 0.001794069938658917, 0.0003588139877317834, 0.0003588139877317834, 0.001794069938658917, 0.0005382209815976752, 0.0003588139877317834, 0.6528620506779799, 0.0003588139877317834, 0.004305767852781401, 0.326341321842057, 0.0017290695295482442, 0.0008645347647741221, 0.0017290695295482442, 0.8308179089479313, 0.011238951942063587, 0.0008645347647741221, 0.0077808128829670985, 0.0017290695295482442, 0.0017290695295482442, 0.09336975459560518, 0.0008645347647741221, 0.027665112472771907, 0.004322673823870611, 0.01642616053070832, 0.08556231378991314, 0.0016574898482862753, 0.002598227329746053, 0.006943538553631693, 0.00309099458193927, 0.0005823612980465292, 0.004614093361445577, 0.015499769932623007, 0.012274384281903769, 0.00389734099461908, 0.0028670094673059897, 0.041347652161303566, 0.015275784817989727, 0.8037481853500635, 0.002563027153961545, 0.0005220981239551296, 0.0009967327820961565, 0.0013764405086089781, 0.0007594154530256431, 0.0005695615897692323, 0.0011865866453525673, 0.0018510751667500048, 0.0009967327820961565, 0.0030376618121025723, 0.0037970772651282152, 0.0014239039744230807, 0.9786966650867974, 0.002183319427448724, 0.0034020398603987465, 0.0005852971802836553, 0.005560323212694725, 0.0444825857015578, 0.0009145268441932114, 0.0012437565081027675, 0.002999648048953733, 0.002268026573599164, 0.00259725623750872, 0.07422299867472104, 0.00029264859014182767, 0.855704477574704, 0.001280337581870496, 0.0043897288521274145, 0.0008180896701988305, 9.08988522443145e-05, 0.000363595408977258, 0.9919791745422042, 9.08988522443145e-05, 0.0009998873746874595, 0.0002726965567329435, 0.0002726965567329435, 9.08988522443145e-05, 0.000181797704488629, 0.0008180896701988305, 0.0008180896701988305, 0.0029996621240623786, 0.000181797704488629, 0.15081469323662886, 0.007006351890520553, 0.01671430556933505, 0.026897266155981446, 0.03339892320693061, 0.03336923527519111, 0.06507594637297057, 0.0026719138565544486, 0.0076891743205289124, 0.5858319570154326, 0.003740679399176228, 0.06195871354032371, 0.0003859431126134203, 0.004423501829184587, 0.00027505670125563866, 0.0008251701037669159, 0.00825170103766916, 0.0005501134025112773, 0.0008251701037669159, 0.9761762327562615, 0.003850793817578941, 0.00027505670125563866, 0.00027505670125563866, 0.007701587635157882, 0.00027505670125563866, 0.00027505670125563866, 0.00027505670125563866, 0.0002751128519265177, 0.0011004514077060708, 0.007978272705869014, 0.0005502257038530354, 0.0008253385557795531, 0.9763755114872114, 0.003851579926971248, 0.0002751128519265177, 0.0002751128519265177, 0.007703159853942496, 0.0002751128519265177, 0.0002751128519265177, 0.0002751128519265177, 0.0002751128519265177, 0.00020782457940227793, 0.005819088223263782, 0.005195614485056948, 0.0009352106073102506, 0.29864392060107336, 0.0003117368691034169, 0.0009352106073102506, 0.0010391228970113896, 0.00041564915880455585, 0.20044680683349705, 0.4835038839793996, 0.00041564915880455585, 0.0013508597661148064, 0.0007273860279079727, 0.002390233738956694, 0.10206298065345083, 0.006214607721287404, 0.0008764190376174544, 0.000637395663721785, 0.004541444104017718, 0.006931677842974412, 0.0007967445796522313, 0.03864211211313322, 0.0011154424115131238, 0.005895909889426512, 0.0015138147013392396, 0.1753634819814561, 0.653091531940934, 0.002141627747406521, 0.002141627747406521, 0.009637324863329345, 0.9476702782273856, 0.005354069368516303, 0.0032124416211097816, 0.002141627747406521, 0.0010708138737032605, 0.010708138737032606, 0.0010708138737032605, 0.005354069368516303, 0.0010708138737032605, 0.008566510989626084, 0.0037036006233050886, 0.0021480883615169516, 0.0028147364737118674, 0.03125838926069495, 0.014369970418423745, 0.0021480883615169516, 0.82827324339595, 0.011555233944711876, 0.054294785137652596, 0.00585168898482204, 0.0030369525111101727, 0.03866559050730513, 0.000666648112194916, 0.0011851521994576284, 0.011129182146731217, 0.0010041367350434182, 0.25350268656783626, 0.0012133318881774634, 0.6082558272525506, 0.0008786196431629908, 0.04949557323151515, 0.0030124102051302545, 0.0017990783169527908, 0.061168662776394885, 0.0047278104608294265, 0.0010878147962970362, 0.0017572392863259817, 0.0009204586737898, 0.010982975994439571, 0.001136169930459266, 0.0015148932406123547, 0.001136169930459266, 0.0003787233101530887, 0.0003787233101530887, 0.0018936165507654433, 0.0007574466203061774, 0.0003787233101530887, 0.910072114297872, 0.0003787233101530887, 0.06968508906816831, 0.0003787233101530887, 0.0007574466203061774, 0.001729142927356822, 0.000864571463678411, 0.001729142927356822, 0.830853176594953, 0.011239429027819343, 0.000864571463678411, 0.007781143173105699, 0.001729142927356822, 0.001729142927356822, 0.09337371807726838, 0.000864571463678411, 0.02680171537403074, 0.004322857318392055, 0.016426857809889808, 0.07972448382128176, 0.001466036917904481, 0.01507923686987466, 0.024224514786326423, 0.018081121987488596, 0.0028622625540039863, 0.0191981024963682, 0.7834222044154325, 0.004188676908298517, 0.020803761977882633, 0.004258488190103492, 0.004956601008153245, 0.004677355880933344, 0.01703395276041397, 0.0012902311447736663, 0.0007372749398706664, 0.988501375631596, 0.0001843187349676666, 0.0005529562049029998, 0.0001843187349676666, 0.0009215936748383331, 0.002027506084644333, 0.0007372749398706664, 0.004239330904256332, 0.0001843187349676666, 0.0001843187349676666, 0.0001843187349676666, 0.0003686374699353332, 0.0008393428251334387, 0.977834391280456, 0.0008393428251334387, 0.0002797809417111462, 0.0005595618834222924, 0.001398904708555731, 0.0016786856502668773, 0.0005595618834222924, 0.0022382475336891697, 0.008673209193045532, 0.0002797809417111462, 0.0008393428251334387, 0.0011191237668445849, 0.002797809417111462, 0.0021436725889159105, 0.0021436725889159105, 0.007502854061205686, 0.9485751205952904, 0.004287345177831821, 0.0032155088833738655, 0.0021436725889159105, 0.0021436725889159105, 0.010718362944579552, 0.0010718362944579553, 0.005359181472289776, 0.0010718362944579553, 0.008574690355663642, 0.09144738563403271, 0.044482550232406784, 0.03971656270750606, 0.031028564615239108, 0.038425774419512115, 0.16532019226999398, 0.17485216731979542, 0.10430562281058779, 0.1051495997681223, 0.021695172378975187, 0.037134986131518166, 0.10609286813242556, 0.00714898128735109, 0.03316332986076756, 0.0034730852082995984, 0.0002170678255187249, 0.0017365426041497992, 0.0008682713020748996, 0.0002170678255187249, 0.9813636391701553, 0.0002170678255187249, 0.0010853391275936245, 0.0006512034765561748, 0.008248577369711546, 0.0004341356510374498, 0.0006512034765561748, 0.0002170678255187249, 0.0006512034765561748, 0.022279084212895456, 0.0006751237640271351, 0.018228341628732648, 0.02362933174094973, 0.0040507425841628105, 0.0006751237640271351, 0.004725866348189945, 0.8871126259316555, 0.0006751237640271351, 0.02903032185316681, 0.0033756188201356755, 0.0033756188201356755, 0.0013502475280542702, 0.0006751237640271351, 0.0015104243662406006, 0.0010069495774937336, 0.01460076887365914, 0.017118142817393475, 0.0015104243662406006, 0.010321233169310771, 0.006545172253709269, 0.0047830104930952355, 0.0007552121831203003, 0.004531273098721802, 0.0005034747887468668, 0.9336939957310646, 0.0007552121831203003, 0.0025173739437343344, 0.0033552211864512427, 0.003736496321275248, 0.00465155664485286, 0.023715313386053104, 0.0015251005392960195, 0.16943866991578777, 0.7668205511580386, 0.0010675703775072135, 0.0009913153505424126, 0.011819529179544151, 0.0003050201078592039, 0.009455623343635321, 0.00022876508089440293, 0.002668925943768034, 0.013755972758123446, 0.0001937460951848373, 0.013174734472568936, 0.0003874921903696746, 0.953618280499769, 0.0001937460951848373, 0.0030999375229573967, 0.0005812382855545119, 0.0007749843807393492, 0.010849781330350888, 0.0019374609518483727, 0.0003874921903696746, 0.0001937460951848373, 0.0007749843807393492, 0.0038155381040874147, 0.9879612283997379, 0.0003947108383538705, 0.0010525622356103213, 0.00026314055890258034, 0.0005262811178051607, 0.000789421676707741, 0.001578843353415482, 0.00026314055890258034, 0.000789421676707741, 0.0006578513972564508, 0.00026314055890258034, 0.00026314055890258034, 0.0013157027945129016, 0.0008391697502490597, 0.9776327590401546, 0.0011188930003320796, 0.0002797232500830199, 0.0005594465001660398, 0.0013986162504150996, 0.0016783395004981193, 0.0005594465001660398, 0.002237786000664159, 0.008951144002656636, 0.0002797232500830199, 0.0008391697502490597, 0.0011188930003320796, 0.002517509250747179, 0.0039284876719641254, 0.001927182631529571, 0.0018530602226245875, 0.031502023784617986, 0.013119666376182079, 0.002075427449339538, 0.8300227349180053, 0.010895994109032574, 0.054331725727352904, 0.0063745271658285805, 0.002668406720579406, 0.039358999128546235, 0.000741224089049835, 0.001037713724669769, 0.0016900088800326323, 0.0011588632320223763, 0.0013037211360251734, 0.11675547062625442, 0.0004828596800093235, 0.0020762966240400913, 0.0036214476000699263, 0.0007725754880149176, 0.0005311456480102559, 0.0013037211360251734, 0.0012071492000233087, 0.0013520071040261058, 0.8638842535046807, 0.003862877440074588, 0.0015107888631640577, 0.001007192575442705, 0.014604292343919224, 0.017122273782525985, 0.0012589907193033814, 0.009316531322845023, 0.006043155452656231, 0.005287761021074202, 0.001007192575442705, 0.00402877030177082, 0.0005035962877213525, 0.9346747100108304, 0.0007553944315820288, 0.0025179814386067628, 0.08312469996118536, 0.009332460017232758, 0.01856022897657989, 0.02865543812983648, 0.01779747984055606, 0.3365219276406319, 0.15708145442467253, 0.0030659524095075566, 0.006431022127259753, 0.2842511780248811, 0.002826658562911845, 0.04733531402971423, 0.0003738966353057996, 0.004651274143204147, 0.008770353275589353, 0.0026356502071719296, 0.00272653469707441, 0.0007725181641710829, 0.0015904785732934058, 0.003408168371343013, 0.0009997293889272838, 0.0014995940833909256, 0.8207323860643487, 0.01099702327820012, 0.14509708812930985, 0.0001363267348537205, 0.00022721122475620085, 0.0004998646944636419, 0.11902894635103159, 0.008260548955681084, 0.06668360245052399, 0.15593747855888473, 0.01121380220926655, 0.0523453439005076, 0.0324144511697883, 0.27764860660882484, 0.026251140031870804, 0.034440354367900064, 0.006819589638714264, 0.1365344620135889, 0.011156734513545092, 0.06127643828091582, 0.046510424058944906, 0.0013432613446626687, 0.008563291072224513, 0.01074609075730135, 0.18654541924002813, 0.010074460084970016, 0.0026865226893253375, 0.2733536836388531, 0.18419471188686845, 0.04835740840785607, 0.03962620966754873, 0.0005037230042485008, 0.1479266555809764, 0.03962620966754873, 0.0009156902437928526, 0.9608642958199667, 0.001526150406321421, 0.0010683052844249947, 0.0006104601625285684, 0.001983995528217847, 0.001983995528217847, 0.0006104601625285684, 0.004883681300228547, 0.005494141462757116, 0.001373535365689279, 0.0010683052844249947, 0.0074781369909749625, 0.010377822762985663, 0.003473500226253863, 0.0006581368849744162, 0.0057038530031116065, 0.04420486077411495, 0.0009506421671852677, 0.0010968948082906937, 0.003217558104319368, 0.0028884896618321595, 0.0028519265015558033, 0.07367476795685825, 0.0003290684424872081, 0.8536401029720941, 0.0015722158918833275, 0.0057038530031116065, 0.010977469789866431, 0.0011356003230896309, 0.0018926672051493847, 0.0011356003230896309, 0.0007570668820597538, 0.0003785334410298769, 0.0018926672051493847, 0.0011356003230896309, 0.0003785334410298769, 0.910372925676854, 0.0003785334410298769, 0.0688930862674376, 0.0003785334410298769, 0.0007570668820597538, 0.0015268613614654535, 0.04097077986598967, 0.0027992458293533314, 0.036135718888015735, 0.2992648268472289, 0.5288029848542021, 0.0005089537871551511, 0.040461826078834515, 0.026211120038490285, 0.012214890891723628, 0.0073798299137496914, 0.0027992458293533314, 0.00025447689357757555, 0.0007634306807327268, 0.01337792742924852, 0.08107346381821694, 0.001289438788361303, 0.00838135212434847, 0.002901237273812932, 0.057702385779168315, 0.0005641294699080702, 0.02941532235949223, 0.6585808611555356, 0.003465366743721002, 0.019663941522509873, 0.07414273033077493, 0.0029818271980855135, 0.04633920645673433, 0.001274150085838156, 0.041027632763988624, 0.0020386401373410495, 0.037460012523641784, 0.30018976022346955, 0.5315754158116787, 0.0005096600343352624, 0.0400083126953181, 0.022425041510751545, 0.01299633087554919, 0.007135240480693673, 0.002548300171676312, 0.0002548300171676312, 0.0005096600343352624, 0.007557893940534745, 0.0007955677832141837, 0.14101438957471407, 0.0005966758374106378, 0.7991478382386475, 0.0005966758374106378, 0.02346924960481842, 0.002784487241249643, 0.0009944597290177297, 0.015911355664283675, 0.0007955677832141837, 0.0007955677832141837, 0.004574514753481557, 0.0009944597290177297], \"Term\": [\"\", \"\", \"\", \"\", \"\", \"\", \"\", \"\", \"\", \"\", \"administrative\", \"administrative\", \"administrative\", \"administrative\", \"administrative\", \"administrative\", \"administrative\", \"administrative\", \"administrative\", \"administrative\", \"administrative\", \"administrative\", \"administrative\", \"administrative\", \"advertising\", \"advertising\", \"advertising\", \"advertising\", \"advertising\", \"advertising\", \"advertising\", \"advertising\", \"advertising\", \"advertising\", \"advertising\", \"advertising\", \"advertising\", \"advertising\", \"agriculture\", \"agriculture\", \"agriculture\", \"agriculture\", \"agriculture\", \"agriculture\", \"agriculture\", \"agriculture\", \"agriculture\", \"agriculture\", \"agriculture\", \"agriculture\", \"agriculture\", \"analytics\", \"analytics\", \"analytics\", \"analytics\", \"analytics\", \"analytics\", \"analytics\", \"analytics\", \"analytics\", \"analytics\", \"analytics\", \"analytics\", \"analytics\", \"analytics\", \"apparel\", \"apparel\", \"apparel\", \"apparel\", \"apparel\", \"apparel\", \"apparel\", \"apparel\", \"apparel\", \"apparel\", \"apparel\", \"apparel\", \"apparel\", \"apps\", \"apps\", \"apps\", \"apps\", \"apps\", \"apps\", \"apps\", \"apps\", \"apps\", \"apps\", \"apps\", \"apps\", \"apps\", \"apps\", \"artificial\", \"artificial\", \"artificial\", \"artificial\", \"artificial\", \"artificial\", \"artificial\", \"artificial\", \"artificial\", \"artificial\", \"artificial\", \"artificial\", \"artificial\", \"artificial\", \"audio\", \"audio\", \"audio\", \"audio\", \"audio\", \"audio\", \"audio\", \"audio\", \"audio\", \"audio\", \"audio\", \"audio\", \"audio\", \"audio\", \"beverage\", \"beverage\", \"beverage\", \"beverage\", \"beverage\", \"beverage\", \"beverage\", \"beverage\", \"beverage\", \"beverage\", \"beverage\", \"beverage\", \"beverage\", \"beverage\", \"biotechnology\", \"biotechnology\", \"biotechnology\", \"biotechnology\", \"biotechnology\", \"biotechnology\", \"biotechnology\", \"biotechnology\", \"biotechnology\", \"biotechnology\", \"biotechnology\", \"biotechnology\", \"biotechnology\", \"biotechnology\", \"care\", \"care\", \"care\", \"care\", \"care\", \"care\", \"care\", \"care\", \"care\", \"care\", \"care\", \"care\", \"care\", \"care\", \"clothing\", \"clothing\", \"clothing\", \"clothing\", \"clothing\", \"clothing\", \"clothing\", \"clothing\", \"clothing\", \"clothing\", \"clothing\", \"clothing\", \"clothing\", \"commerce\", \"commerce\", \"commerce\", \"commerce\", \"commerce\", \"commerce\", \"commerce\", \"commerce\", \"commerce\", \"commerce\", \"commerce\", \"commerce\", \"commerce\", \"commerce\", \"community\", \"community\", \"community\", \"community\", \"community\", \"community\", \"community\", \"community\", \"community\", \"community\", \"community\", \"community\", \"community\", \"community\", \"consumer\", \"consumer\", \"consumer\", \"consumer\", \"consumer\", \"consumer\", \"consumer\", \"consumer\", \"consumer\", \"consumer\", \"consumer\", \"consumer\", \"consumer\", \"consumer\", \"content\", \"content\", \"content\", \"content\", \"content\", \"content\", \"content\", \"content\", \"content\", \"content\", \"content\", \"content\", \"content\", \"content\", \"data\", \"data\", \"data\", \"data\", \"data\", \"data\", \"data\", \"data\", \"data\", \"data\", \"data\", \"data\", \"data\", \"data\", \"design\", \"design\", \"design\", \"design\", \"design\", \"design\", \"design\", \"design\", \"design\", \"design\", \"design\", \"design\", \"design\", \"design\", \"education\", \"education\", \"education\", \"education\", \"education\", \"education\", \"education\", \"education\", \"education\", \"education\", \"education\", \"education\", \"education\", \"education\", \"electronics\", \"electronics\", \"electronics\", \"electronics\", \"electronics\", \"electronics\", \"electronics\", \"electronics\", \"electronics\", \"electronics\", \"electronics\", \"electronics\", \"electronics\", \"electronics\", \"energy\", \"energy\", \"energy\", \"energy\", \"energy\", \"energy\", \"energy\", \"energy\", \"energy\", \"energy\", \"energy\", \"energy\", \"energy\", \"energy\", \"engineering\", \"engineering\", \"engineering\", \"engineering\", \"engineering\", \"engineering\", \"engineering\", \"engineering\", \"engineering\", \"engineering\", \"engineering\", \"engineering\", \"engineering\", \"engineering\", \"entertainment\", \"entertainment\", \"entertainment\", \"entertainment\", \"entertainment\", \"entertainment\", \"entertainment\", \"entertainment\", \"entertainment\", \"entertainment\", \"entertainment\", \"entertainment\", \"entertainment\", \"entertainment\", \"estate\", \"estate\", \"estate\", \"estate\", \"estate\", \"estate\", \"estate\", \"estate\", \"estate\", \"estate\", \"estate\", \"estate\", \"estate\", \"estate\", \"event\", \"event\", \"event\", \"event\", \"event\", \"event\", \"event\", \"event\", \"event\", \"event\", \"event\", \"event\", \"event\", \"event\", \"farming\", \"farming\", \"farming\", \"farming\", \"farming\", \"farming\", \"farming\", \"farming\", \"farming\", \"farming\", \"farming\", \"farming\", \"farming\", \"financial\", \"financial\", \"financial\", \"financial\", \"financial\", \"financial\", \"financial\", \"financial\", \"financial\", \"financial\", \"financial\", \"financial\", \"financial\", \"financial\", \"food\", \"food\", \"food\", \"food\", \"food\", \"food\", \"food\", \"food\", \"food\", \"food\", \"food\", \"food\", \"food\", \"food\", \"gaming\", \"gaming\", \"gaming\", \"gaming\", \"gaming\", \"gaming\", \"gaming\", \"gaming\", \"gaming\", \"gaming\", \"gaming\", \"gaming\", \"gaming\", \"gaming\", \"good\", \"good\", \"good\", \"good\", \"good\", \"good\", \"good\", \"good\", \"good\", \"good\", \"good\", \"good\", \"good\", \"good\", \"government\", \"government\", \"government\", \"government\", \"government\", \"government\", \"government\", \"government\", \"government\", \"government\", \"government\", \"government\", \"government\", \"government\", \"hardware\", \"hardware\", \"hardware\", \"hardware\", \"hardware\", \"hardware\", \"hardware\", \"hardware\", \"hardware\", \"hardware\", \"hardware\", \"hardware\", \"hardware\", \"hardware\", \"health\", \"health\", \"health\", \"health\", \"health\", \"health\", \"health\", \"health\", \"health\", \"health\", \"health\", \"health\", \"health\", \"health\", \"information\", \"information\", \"information\", \"information\", \"information\", \"information\", \"information\", \"information\", \"information\", \"information\", \"information\", \"information\", \"information\", \"information\", \"intelligence\", \"intelligence\", \"intelligence\", \"intelligence\", \"intelligence\", \"intelligence\", \"intelligence\", \"intelligence\", \"intelligence\", \"intelligence\", \"intelligence\", \"intelligence\", \"intelligence\", \"intelligence\", \"internet\", \"internet\", \"internet\", \"internet\", \"internet\", \"internet\", \"internet\", \"internet\", \"internet\", \"internet\", \"internet\", \"internet\", \"internet\", \"internet\", \"investment\", \"investment\", \"investment\", \"investment\", \"investment\", \"investment\", \"investment\", \"investment\", \"investment\", \"investment\", \"investment\", \"investment\", \"investment\", \"lending\", \"lending\", \"lending\", \"lending\", \"lending\", \"lending\", \"lending\", \"lending\", \"lending\", \"lending\", \"lending\", \"lending\", \"lending\", \"lending\", \"lifestyle\", \"lifestyle\", \"lifestyle\", \"lifestyle\", \"lifestyle\", \"lifestyle\", \"lifestyle\", \"lifestyle\", \"lifestyle\", \"lifestyle\", \"lifestyle\", \"lifestyle\", \"lifestyle\", \"lifestyle\", \"manufacturing\", \"manufacturing\", \"manufacturing\", \"manufacturing\", \"manufacturing\", \"manufacturing\", \"manufacturing\", \"manufacturing\", \"manufacturing\", \"manufacturing\", \"manufacturing\", \"manufacturing\", \"manufacturing\", \"manufacturing\", \"mapping\", \"mapping\", \"mapping\", \"mapping\", \"mapping\", \"mapping\", \"mapping\", \"mapping\", \"mapping\", \"mapping\", \"mapping\", \"mapping\", \"mapping\", \"marketing\", \"marketing\", \"marketing\", \"marketing\", \"marketing\", \"marketing\", \"marketing\", \"marketing\", \"marketing\", \"marketing\", \"marketing\", \"marketing\", \"marketing\", \"marketing\", \"medium\", \"medium\", \"medium\", \"medium\", \"medium\", \"medium\", \"medium\", \"medium\", \"medium\", \"medium\", \"medium\", \"medium\", \"medium\", \"medium\", \"messaging\", \"messaging\", \"messaging\", \"messaging\", \"messaging\", \"messaging\", \"messaging\", \"messaging\", \"messaging\", \"messaging\", \"messaging\", \"messaging\", \"messaging\", \"messaging\", \"military\", \"military\", \"military\", \"military\", \"military\", \"military\", \"military\", \"military\", \"military\", \"military\", \"military\", \"military\", \"military\", \"military\", \"mobile\", \"mobile\", \"mobile\", \"mobile\", \"mobile\", \"mobile\", \"mobile\", \"mobile\", \"mobile\", \"mobile\", \"mobile\", \"mobile\", \"mobile\", \"mobile\", \"music\", \"music\", \"music\", \"music\", \"music\", \"music\", \"music\", \"music\", \"music\", \"music\", \"music\", \"music\", \"music\", \"music\", \"natural\", \"natural\", \"natural\", \"natural\", \"natural\", \"natural\", \"natural\", \"natural\", \"natural\", \"natural\", \"natural\", \"natural\", \"natural\", \"natural\", \"navigation\", \"navigation\", \"navigation\", \"navigation\", \"navigation\", \"navigation\", \"navigation\", \"navigation\", \"navigation\", \"navigation\", \"navigation\", \"navigation\", \"navigation\", \"other\", \"other\", \"other\", \"other\", \"other\", \"other\", \"other\", \"other\", \"other\", \"other\", \"other\", \"other\", \"other\", \"other\", \"payment\", \"payment\", \"payment\", \"payment\", \"payment\", \"payment\", \"payment\", \"payment\", \"payment\", \"payment\", \"payment\", \"payment\", \"payment\", \"payment\", \"platform\", \"platform\", \"platform\", \"platform\", \"platform\", \"platform\", \"platform\", \"platform\", \"platform\", \"platform\", \"platform\", \"platform\", \"platform\", \"platform\", \"privacy\", \"privacy\", \"privacy\", \"privacy\", \"privacy\", \"privacy\", \"privacy\", \"privacy\", \"privacy\", \"privacy\", \"privacy\", \"privacy\", \"privacy\", \"privacy\", \"professional\", \"professional\", \"professional\", \"professional\", \"professional\", \"professional\", \"professional\", \"professional\", \"professional\", \"professional\", \"professional\", \"professional\", \"professional\", \"professional\", \"publishing\", \"publishing\", \"publishing\", \"publishing\", \"publishing\", \"publishing\", \"publishing\", \"publishing\", \"publishing\", \"publishing\", \"publishing\", \"publishing\", \"publishing\", \"publishing\", \"real\", \"real\", \"real\", \"real\", \"real\", \"real\", \"real\", \"real\", \"real\", \"real\", \"real\", \"real\", \"real\", \"real\", \"resource\", \"resource\", \"resource\", \"resource\", \"resource\", \"resource\", \"resource\", \"resource\", \"resource\", \"resource\", \"resource\", \"resource\", \"resource\", \"resource\", \"sale\", \"sale\", \"sale\", \"sale\", \"sale\", \"sale\", \"sale\", \"sale\", \"sale\", \"sale\", \"sale\", \"sale\", \"sale\", \"sale\", \"science\", \"science\", \"science\", \"science\", \"science\", \"science\", \"science\", \"science\", \"science\", \"science\", \"science\", \"science\", \"science\", \"science\", \"security\", \"security\", \"security\", \"security\", \"security\", \"security\", \"security\", \"security\", \"security\", \"security\", \"security\", \"security\", \"security\", \"security\", \"service\", \"service\", \"service\", \"service\", \"service\", \"service\", \"service\", \"service\", \"service\", \"service\", \"service\", \"service\", \"service\", \"service\", \"shopping\", \"shopping\", \"shopping\", \"shopping\", \"shopping\", \"shopping\", \"shopping\", \"shopping\", \"shopping\", \"shopping\", \"shopping\", \"shopping\", \"shopping\", \"shopping\", \"software\", \"software\", \"software\", \"software\", \"software\", \"software\", \"software\", \"software\", \"software\", \"software\", \"software\", \"software\", \"software\", \"software\", \"sport\", \"sport\", \"sport\", \"sport\", \"sport\", \"sport\", \"sport\", \"sport\", \"sport\", \"sport\", \"sport\", \"sport\", \"sport\", \"sport\", \"sustainability\", \"sustainability\", \"sustainability\", \"sustainability\", \"sustainability\", \"sustainability\", \"sustainability\", \"sustainability\", \"sustainability\", \"sustainability\", \"sustainability\", \"sustainability\", \"sustainability\", \"sustainability\", \"technology\", \"technology\", \"technology\", \"technology\", \"technology\", \"technology\", \"technology\", \"technology\", \"technology\", \"technology\", \"technology\", \"technology\", \"technology\", \"technology\", \"telecommunication\", \"telecommunication\", \"telecommunication\", \"telecommunication\", \"telecommunication\", \"telecommunication\", \"telecommunication\", \"telecommunication\", \"telecommunication\", \"telecommunication\", \"telecommunication\", \"telecommunication\", \"telecommunication\", \"telecommunication\", \"tourism\", \"tourism\", \"tourism\", \"tourism\", \"tourism\", \"tourism\", \"tourism\", \"tourism\", \"tourism\", \"tourism\", \"tourism\", \"tourism\", \"tourism\", \"tourism\", \"transportation\", \"transportation\", \"transportation\", \"transportation\", \"transportation\", \"transportation\", \"transportation\", \"transportation\", \"transportation\", \"transportation\", \"transportation\", \"transportation\", \"transportation\", \"transportation\", \"travel\", \"travel\", \"travel\", \"travel\", \"travel\", \"travel\", \"travel\", \"travel\", \"travel\", \"travel\", \"travel\", \"travel\", \"travel\", \"travel\", \"video\", \"video\", \"video\", \"video\", \"video\", \"video\", \"video\", \"video\", \"video\", \"video\", \"video\", \"video\", \"video\", \"video\"]}, \"R\": 30, \"lambda.step\": 0.01, \"plot.opts\": {\"xlab\": \"PC1\", \"ylab\": \"PC2\"}, \"topic.order\": [1, 2, 3, 4, 5, 6, 7, 8, 9, 10, 11, 12, 13, 14]};\n",
              "\n",
              "function LDAvis_load_lib(url, callback){\n",
              "  var s = document.createElement('script');\n",
              "  s.src = url;\n",
              "  s.async = true;\n",
              "  s.onreadystatechange = s.onload = callback;\n",
              "  s.onerror = function(){console.warn(\"failed to load library \" + url);};\n",
              "  document.getElementsByTagName(\"head\")[0].appendChild(s);\n",
              "}\n",
              "\n",
              "if(typeof(LDAvis) !== \"undefined\"){\n",
              "   // already loaded: just create the visualization\n",
              "   !function(LDAvis){\n",
              "       new LDAvis(\"#\" + \"ldavis_el2851404507832391203735753792\", ldavis_el2851404507832391203735753792_data);\n",
              "   }(LDAvis);\n",
              "}else if(typeof define === \"function\" && define.amd){\n",
              "   // require.js is available: use it to load d3/LDAvis\n",
              "   require.config({paths: {d3: \"https://d3js.org/d3.v5\"}});\n",
              "   require([\"d3\"], function(d3){\n",
              "      window.d3 = d3;\n",
              "      LDAvis_load_lib(\"https://cdn.jsdelivr.net/gh/bmabey/pyLDAvis@3.3.1/pyLDAvis/js/ldavis.v3.0.0.js\", function(){\n",
              "        new LDAvis(\"#\" + \"ldavis_el2851404507832391203735753792\", ldavis_el2851404507832391203735753792_data);\n",
              "      });\n",
              "    });\n",
              "}else{\n",
              "    // require.js not available: dynamically load d3 & LDAvis\n",
              "    LDAvis_load_lib(\"https://d3js.org/d3.v5.js\", function(){\n",
              "         LDAvis_load_lib(\"https://cdn.jsdelivr.net/gh/bmabey/pyLDAvis@3.3.1/pyLDAvis/js/ldavis.v3.0.0.js\", function(){\n",
              "                 new LDAvis(\"#\" + \"ldavis_el2851404507832391203735753792\", ldavis_el2851404507832391203735753792_data);\n",
              "            })\n",
              "         });\n",
              "}\n",
              "</script>"
            ],
            "text/plain": [
              "<IPython.core.display.HTML object>"
            ]
          },
          "execution_count": 29,
          "metadata": {},
          "output_type": "execute_result"
        }
      ],
      "source": [
        "# Visualize the topics (optimal model - 14 topics) # FINAAL ONE\n",
        "vis_final = gensimvis.prepare(lda_model_final, corpus, id2word, sort_topics = False)\n",
        "pyLDAvis.display(vis_final)"
      ]
    },
    {
      "cell_type": "markdown",
      "metadata": {
        "id": "OjbTCSVcPral"
      },
      "source": [
        "**Join back the newly created category one into previous dataset**"
      ]
    },
    {
      "cell_type": "code",
      "execution_count": 112,
      "metadata": {
        "colab": {
          "base_uri": "https://localhost:8080/",
          "height": 206
        },
        "id": "Ga-ZOgjqOgBw",
        "outputId": "8bf7a41c-9c80-45d6-c55d-6836d197f70f"
      },
      "outputs": [
        {
          "data": {
            "text/html": [
              "\n",
              "  <div id=\"df-9a21ca9a-afae-4bf9-8cd3-aada49eb659b\">\n",
              "    <div class=\"colab-df-container\">\n",
              "      <div>\n",
              "<style scoped>\n",
              "    .dataframe tbody tr th:only-of-type {\n",
              "        vertical-align: middle;\n",
              "    }\n",
              "\n",
              "    .dataframe tbody tr th {\n",
              "        vertical-align: top;\n",
              "    }\n",
              "\n",
              "    .dataframe thead th {\n",
              "        text-align: right;\n",
              "    }\n",
              "</style>\n",
              "<table border=\"1\" class=\"dataframe\">\n",
              "  <thead>\n",
              "    <tr style=\"text-align: right;\">\n",
              "      <th></th>\n",
              "      <th>Document_No</th>\n",
              "      <th>Dominant_Topic</th>\n",
              "      <th>Topic_Perc_Contrib</th>\n",
              "      <th>Keywords</th>\n",
              "      <th>Text</th>\n",
              "    </tr>\n",
              "  </thead>\n",
              "  <tbody>\n",
              "    <tr>\n",
              "      <th>0</th>\n",
              "      <td>0</td>\n",
              "      <td>4.0</td>\n",
              "      <td>0.3611</td>\n",
              "      <td>entertainment, medium, publishing, content, vi...</td>\n",
              "      <td>['content', 'publishing', 'internet', 'service...</td>\n",
              "    </tr>\n",
              "    <tr>\n",
              "      <th>1</th>\n",
              "      <td>1</td>\n",
              "      <td>9.0</td>\n",
              "      <td>0.2797</td>\n",
              "      <td>internet, service, software, telecommunication...</td>\n",
              "      <td>['internet', 'service', 'medium', 'entertainme...</td>\n",
              "    </tr>\n",
              "    <tr>\n",
              "      <th>2</th>\n",
              "      <td>2</td>\n",
              "      <td>2.0</td>\n",
              "      <td>0.2522</td>\n",
              "      <td>entertainment, medium, audio, music, software,...</td>\n",
              "      <td>['commerce', 'shopping', 'internet', 'service'...</td>\n",
              "    </tr>\n",
              "    <tr>\n",
              "      <th>3</th>\n",
              "      <td>3</td>\n",
              "      <td>10.0</td>\n",
              "      <td>0.3980</td>\n",
              "      <td>beverage, food, design, lifestyle, community, ...</td>\n",
              "      <td>['community', 'lifestyle', 'other']</td>\n",
              "    </tr>\n",
              "    <tr>\n",
              "      <th>4</th>\n",
              "      <td>4</td>\n",
              "      <td>9.0</td>\n",
              "      <td>0.2246</td>\n",
              "      <td>internet, service, software, telecommunication...</td>\n",
              "      <td>['commerce', 'shopping', 'internet', 'service'...</td>\n",
              "    </tr>\n",
              "  </tbody>\n",
              "</table>\n",
              "</div>\n",
              "      <button class=\"colab-df-convert\" onclick=\"convertToInteractive('df-9a21ca9a-afae-4bf9-8cd3-aada49eb659b')\"\n",
              "              title=\"Convert this dataframe to an interactive table.\"\n",
              "              style=\"display:none;\">\n",
              "        \n",
              "  <svg xmlns=\"http://www.w3.org/2000/svg\" height=\"24px\"viewBox=\"0 0 24 24\"\n",
              "       width=\"24px\">\n",
              "    <path d=\"M0 0h24v24H0V0z\" fill=\"none\"/>\n",
              "    <path d=\"M18.56 5.44l.94 2.06.94-2.06 2.06-.94-2.06-.94-.94-2.06-.94 2.06-2.06.94zm-11 1L8.5 8.5l.94-2.06 2.06-.94-2.06-.94L8.5 2.5l-.94 2.06-2.06.94zm10 10l.94 2.06.94-2.06 2.06-.94-2.06-.94-.94-2.06-.94 2.06-2.06.94z\"/><path d=\"M17.41 7.96l-1.37-1.37c-.4-.4-.92-.59-1.43-.59-.52 0-1.04.2-1.43.59L10.3 9.45l-7.72 7.72c-.78.78-.78 2.05 0 2.83L4 21.41c.39.39.9.59 1.41.59.51 0 1.02-.2 1.41-.59l7.78-7.78 2.81-2.81c.8-.78.8-2.07 0-2.86zM5.41 20L4 18.59l7.72-7.72 1.47 1.35L5.41 20z\"/>\n",
              "  </svg>\n",
              "      </button>\n",
              "      \n",
              "  <style>\n",
              "    .colab-df-container {\n",
              "      display:flex;\n",
              "      flex-wrap:wrap;\n",
              "      gap: 12px;\n",
              "    }\n",
              "\n",
              "    .colab-df-convert {\n",
              "      background-color: #E8F0FE;\n",
              "      border: none;\n",
              "      border-radius: 50%;\n",
              "      cursor: pointer;\n",
              "      display: none;\n",
              "      fill: #1967D2;\n",
              "      height: 32px;\n",
              "      padding: 0 0 0 0;\n",
              "      width: 32px;\n",
              "    }\n",
              "\n",
              "    .colab-df-convert:hover {\n",
              "      background-color: #E2EBFA;\n",
              "      box-shadow: 0px 1px 2px rgba(60, 64, 67, 0.3), 0px 1px 3px 1px rgba(60, 64, 67, 0.15);\n",
              "      fill: #174EA6;\n",
              "    }\n",
              "\n",
              "    [theme=dark] .colab-df-convert {\n",
              "      background-color: #3B4455;\n",
              "      fill: #D2E3FC;\n",
              "    }\n",
              "\n",
              "    [theme=dark] .colab-df-convert:hover {\n",
              "      background-color: #434B5C;\n",
              "      box-shadow: 0px 1px 3px 1px rgba(0, 0, 0, 0.15);\n",
              "      filter: drop-shadow(0px 1px 2px rgba(0, 0, 0, 0.3));\n",
              "      fill: #FFFFFF;\n",
              "    }\n",
              "  </style>\n",
              "\n",
              "      <script>\n",
              "        const buttonEl =\n",
              "          document.querySelector('#df-9a21ca9a-afae-4bf9-8cd3-aada49eb659b button.colab-df-convert');\n",
              "        buttonEl.style.display =\n",
              "          google.colab.kernel.accessAllowed ? 'block' : 'none';\n",
              "\n",
              "        async function convertToInteractive(key) {\n",
              "          const element = document.querySelector('#df-9a21ca9a-afae-4bf9-8cd3-aada49eb659b');\n",
              "          const dataTable =\n",
              "            await google.colab.kernel.invokeFunction('convertToInteractive',\n",
              "                                                     [key], {});\n",
              "          if (!dataTable) return;\n",
              "\n",
              "          const docLinkHtml = 'Like what you see? Visit the ' +\n",
              "            '<a target=\"_blank\" href=https://colab.research.google.com/notebooks/data_table.ipynb>data table notebook</a>'\n",
              "            + ' to learn more about interactive tables.';\n",
              "          element.innerHTML = '';\n",
              "          dataTable['output_type'] = 'display_data';\n",
              "          await google.colab.output.renderOutput(dataTable, element);\n",
              "          const docLink = document.createElement('div');\n",
              "          docLink.innerHTML = docLinkHtml;\n",
              "          element.appendChild(docLink);\n",
              "        }\n",
              "      </script>\n",
              "    </div>\n",
              "  </div>\n",
              "  "
            ],
            "text/plain": [
              "   Document_No  Dominant_Topic  Topic_Perc_Contrib  \\\n",
              "0            0             4.0              0.3611   \n",
              "1            1             9.0              0.2797   \n",
              "2            2             2.0              0.2522   \n",
              "3            3            10.0              0.3980   \n",
              "4            4             9.0              0.2246   \n",
              "\n",
              "                                            Keywords  \\\n",
              "0  entertainment, medium, publishing, content, vi...   \n",
              "1  internet, service, software, telecommunication...   \n",
              "2  entertainment, medium, audio, music, software,...   \n",
              "3  beverage, food, design, lifestyle, community, ...   \n",
              "4  internet, service, software, telecommunication...   \n",
              "\n",
              "                                                Text  \n",
              "0  ['content', 'publishing', 'internet', 'service...  \n",
              "1  ['internet', 'service', 'medium', 'entertainme...  \n",
              "2  ['commerce', 'shopping', 'internet', 'service'...  \n",
              "3                ['community', 'lifestyle', 'other']  \n",
              "4  ['commerce', 'shopping', 'internet', 'service'...  "
            ]
          },
          "execution_count": 112,
          "metadata": {},
          "output_type": "execute_result"
        }
      ],
      "source": [
        "final_topics = pd.read_csv(\"/content/df_dominant_topic_final.csv\", sep=',', encoding='utf-8') \n",
        "final_topics.head()"
      ]
    },
    {
      "cell_type": "code",
      "execution_count": 113,
      "metadata": {
        "id": "CZdCe9GBQAqj"
      },
      "outputs": [],
      "source": [
        "# Default left join\n",
        "df_new = df.join(final_topics)"
      ]
    },
    {
      "cell_type": "code",
      "execution_count": 114,
      "metadata": {
        "colab": {
          "base_uri": "https://localhost:8080/",
          "height": 1000
        },
        "id": "QQY950nBNP3A",
        "outputId": "3368d7dc-47f4-4e5c-e808-de3a39d74775"
      },
      "outputs": [
        {
          "data": {
            "text/html": [
              "\n",
              "  <div id=\"df-5a2601c4-0708-4385-be9e-2c47c7edcc0b\">\n",
              "    <div class=\"colab-df-container\">\n",
              "      <div>\n",
              "<style scoped>\n",
              "    .dataframe tbody tr th:only-of-type {\n",
              "        vertical-align: middle;\n",
              "    }\n",
              "\n",
              "    .dataframe tbody tr th {\n",
              "        vertical-align: top;\n",
              "    }\n",
              "\n",
              "    .dataframe thead th {\n",
              "        text-align: right;\n",
              "    }\n",
              "</style>\n",
              "<table border=\"1\" class=\"dataframe\">\n",
              "  <thead>\n",
              "    <tr style=\"text-align: right;\">\n",
              "      <th></th>\n",
              "      <th>uuid</th>\n",
              "      <th>name</th>\n",
              "      <th>category_groups_list</th>\n",
              "      <th>category_cleaned</th>\n",
              "      <th>Document_No</th>\n",
              "      <th>Dominant_Topic</th>\n",
              "      <th>Topic_Perc_Contrib</th>\n",
              "      <th>Keywords</th>\n",
              "      <th>Text</th>\n",
              "    </tr>\n",
              "  </thead>\n",
              "  <tbody>\n",
              "    <tr>\n",
              "      <th>0</th>\n",
              "      <td>e1393508-30ea-8a36-3f96-dd3226033abd</td>\n",
              "      <td>Wetpaint</td>\n",
              "      <td>Content and Publishing,Internet Services,Media...</td>\n",
              "      <td>content publishing internet service medium ent...</td>\n",
              "      <td>0</td>\n",
              "      <td>4.0</td>\n",
              "      <td>0.3611</td>\n",
              "      <td>entertainment, medium, publishing, content, vi...</td>\n",
              "      <td>['content', 'publishing', 'internet', 'service...</td>\n",
              "    </tr>\n",
              "    <tr>\n",
              "      <th>1</th>\n",
              "      <td>5f2b40b8-d1b3-d323-d81a-b7a8e89553d0</td>\n",
              "      <td>Digg</td>\n",
              "      <td>Internet Services,Media and Entertainment</td>\n",
              "      <td>internet service medium entertainment</td>\n",
              "      <td>1</td>\n",
              "      <td>9.0</td>\n",
              "      <td>0.2797</td>\n",
              "      <td>internet, service, software, telecommunication...</td>\n",
              "      <td>['internet', 'service', 'medium', 'entertainme...</td>\n",
              "    </tr>\n",
              "    <tr>\n",
              "      <th>2</th>\n",
              "      <td>60485007-8856-bbac-aa1b-c535c41f5f47</td>\n",
              "      <td>Omnidrive</td>\n",
              "      <td>Commerce and Shopping,Internet Services,Media ...</td>\n",
              "      <td>commerce shopping internet service medium ente...</td>\n",
              "      <td>2</td>\n",
              "      <td>2.0</td>\n",
              "      <td>0.2522</td>\n",
              "      <td>entertainment, medium, audio, music, software,...</td>\n",
              "      <td>['commerce', 'shopping', 'internet', 'service'...</td>\n",
              "    </tr>\n",
              "    <tr>\n",
              "      <th>3</th>\n",
              "      <td>4111dc8b-c0df-2d24-ed33-30cd137b3098</td>\n",
              "      <td>Geni</td>\n",
              "      <td>Community and Lifestyle,Other</td>\n",
              "      <td>community lifestyle other</td>\n",
              "      <td>3</td>\n",
              "      <td>10.0</td>\n",
              "      <td>0.3980</td>\n",
              "      <td>beverage, food, design, lifestyle, community, ...</td>\n",
              "      <td>['community', 'lifestyle', 'other']</td>\n",
              "    </tr>\n",
              "    <tr>\n",
              "      <th>4</th>\n",
              "      <td>3d16cb4c-911e-75c0-de5a-15c316b39f98</td>\n",
              "      <td>StumbleUpon</td>\n",
              "      <td>Commerce and Shopping,Internet Services,Media ...</td>\n",
              "      <td>commerce shopping internet service medium ente...</td>\n",
              "      <td>4</td>\n",
              "      <td>9.0</td>\n",
              "      <td>0.2246</td>\n",
              "      <td>internet, service, software, telecommunication...</td>\n",
              "      <td>['commerce', 'shopping', 'internet', 'service'...</td>\n",
              "    </tr>\n",
              "    <tr>\n",
              "      <th>...</th>\n",
              "      <td>...</td>\n",
              "      <td>...</td>\n",
              "      <td>...</td>\n",
              "      <td>...</td>\n",
              "      <td>...</td>\n",
              "      <td>...</td>\n",
              "      <td>...</td>\n",
              "      <td>...</td>\n",
              "      <td>...</td>\n",
              "    </tr>\n",
              "    <tr>\n",
              "      <th>157509</th>\n",
              "      <td>ca2995f5-6357-4f44-831d-21f8c3d8ad65</td>\n",
              "      <td>Gatherware</td>\n",
              "      <td>Health Care,Software</td>\n",
              "      <td>health care software</td>\n",
              "      <td>157509</td>\n",
              "      <td>12.0</td>\n",
              "      <td>0.3219</td>\n",
              "      <td>care, health, engineering, science, biotechnol...</td>\n",
              "      <td>['health', 'care', 'software']</td>\n",
              "    </tr>\n",
              "    <tr>\n",
              "      <th>157510</th>\n",
              "      <td>be325b83-38db-45a0-8076-1fbbbc0c306e</td>\n",
              "      <td>Essential Personnel</td>\n",
              "      <td>Education,Software</td>\n",
              "      <td>education software</td>\n",
              "      <td>157510</td>\n",
              "      <td>0.0</td>\n",
              "      <td>0.3482</td>\n",
              "      <td>education, software, service, internet, hardwa...</td>\n",
              "      <td>['education', 'software']</td>\n",
              "    </tr>\n",
              "    <tr>\n",
              "      <th>157511</th>\n",
              "      <td>c995724b-1379-4dad-85b7-c11caba7de38</td>\n",
              "      <td>Coyle Solar</td>\n",
              "      <td>Energy,Hardware,Science and Engineering,Sustai...</td>\n",
              "      <td>energy hardware science engineering sustainabi...</td>\n",
              "      <td>157511</td>\n",
              "      <td>12.0</td>\n",
              "      <td>0.2491</td>\n",
              "      <td>care, health, engineering, science, biotechnol...</td>\n",
              "      <td>['energy', 'hardware', 'science', 'engineering...</td>\n",
              "    </tr>\n",
              "    <tr>\n",
              "      <th>157512</th>\n",
              "      <td>bf792d36-7e30-4fa7-b4b9-91daf337998f</td>\n",
              "      <td>CopyForward</td>\n",
              "      <td>Software</td>\n",
              "      <td>software</td>\n",
              "      <td>157512</td>\n",
              "      <td>7.0</td>\n",
              "      <td>0.2200</td>\n",
              "      <td>software, apps, mobile, gaming, other, sport, ...</td>\n",
              "      <td>['software']</td>\n",
              "    </tr>\n",
              "    <tr>\n",
              "      <th>157513</th>\n",
              "      <td>32553db2-d165-4d04-920a-d53ac2fc5929</td>\n",
              "      <td>Buzy</td>\n",
              "      <td>Consumer Goods</td>\n",
              "      <td>consumer good</td>\n",
              "      <td>157513</td>\n",
              "      <td>13.0</td>\n",
              "      <td>0.3439</td>\n",
              "      <td>hardware, consumer, electronics, manufacturing...</td>\n",
              "      <td>['consumer', 'good']</td>\n",
              "    </tr>\n",
              "  </tbody>\n",
              "</table>\n",
              "<p>157514 rows × 9 columns</p>\n",
              "</div>\n",
              "      <button class=\"colab-df-convert\" onclick=\"convertToInteractive('df-5a2601c4-0708-4385-be9e-2c47c7edcc0b')\"\n",
              "              title=\"Convert this dataframe to an interactive table.\"\n",
              "              style=\"display:none;\">\n",
              "        \n",
              "  <svg xmlns=\"http://www.w3.org/2000/svg\" height=\"24px\"viewBox=\"0 0 24 24\"\n",
              "       width=\"24px\">\n",
              "    <path d=\"M0 0h24v24H0V0z\" fill=\"none\"/>\n",
              "    <path d=\"M18.56 5.44l.94 2.06.94-2.06 2.06-.94-2.06-.94-.94-2.06-.94 2.06-2.06.94zm-11 1L8.5 8.5l.94-2.06 2.06-.94-2.06-.94L8.5 2.5l-.94 2.06-2.06.94zm10 10l.94 2.06.94-2.06 2.06-.94-2.06-.94-.94-2.06-.94 2.06-2.06.94z\"/><path d=\"M17.41 7.96l-1.37-1.37c-.4-.4-.92-.59-1.43-.59-.52 0-1.04.2-1.43.59L10.3 9.45l-7.72 7.72c-.78.78-.78 2.05 0 2.83L4 21.41c.39.39.9.59 1.41.59.51 0 1.02-.2 1.41-.59l7.78-7.78 2.81-2.81c.8-.78.8-2.07 0-2.86zM5.41 20L4 18.59l7.72-7.72 1.47 1.35L5.41 20z\"/>\n",
              "  </svg>\n",
              "      </button>\n",
              "      \n",
              "  <style>\n",
              "    .colab-df-container {\n",
              "      display:flex;\n",
              "      flex-wrap:wrap;\n",
              "      gap: 12px;\n",
              "    }\n",
              "\n",
              "    .colab-df-convert {\n",
              "      background-color: #E8F0FE;\n",
              "      border: none;\n",
              "      border-radius: 50%;\n",
              "      cursor: pointer;\n",
              "      display: none;\n",
              "      fill: #1967D2;\n",
              "      height: 32px;\n",
              "      padding: 0 0 0 0;\n",
              "      width: 32px;\n",
              "    }\n",
              "\n",
              "    .colab-df-convert:hover {\n",
              "      background-color: #E2EBFA;\n",
              "      box-shadow: 0px 1px 2px rgba(60, 64, 67, 0.3), 0px 1px 3px 1px rgba(60, 64, 67, 0.15);\n",
              "      fill: #174EA6;\n",
              "    }\n",
              "\n",
              "    [theme=dark] .colab-df-convert {\n",
              "      background-color: #3B4455;\n",
              "      fill: #D2E3FC;\n",
              "    }\n",
              "\n",
              "    [theme=dark] .colab-df-convert:hover {\n",
              "      background-color: #434B5C;\n",
              "      box-shadow: 0px 1px 3px 1px rgba(0, 0, 0, 0.15);\n",
              "      filter: drop-shadow(0px 1px 2px rgba(0, 0, 0, 0.3));\n",
              "      fill: #FFFFFF;\n",
              "    }\n",
              "  </style>\n",
              "\n",
              "      <script>\n",
              "        const buttonEl =\n",
              "          document.querySelector('#df-5a2601c4-0708-4385-be9e-2c47c7edcc0b button.colab-df-convert');\n",
              "        buttonEl.style.display =\n",
              "          google.colab.kernel.accessAllowed ? 'block' : 'none';\n",
              "\n",
              "        async function convertToInteractive(key) {\n",
              "          const element = document.querySelector('#df-5a2601c4-0708-4385-be9e-2c47c7edcc0b');\n",
              "          const dataTable =\n",
              "            await google.colab.kernel.invokeFunction('convertToInteractive',\n",
              "                                                     [key], {});\n",
              "          if (!dataTable) return;\n",
              "\n",
              "          const docLinkHtml = 'Like what you see? Visit the ' +\n",
              "            '<a target=\"_blank\" href=https://colab.research.google.com/notebooks/data_table.ipynb>data table notebook</a>'\n",
              "            + ' to learn more about interactive tables.';\n",
              "          element.innerHTML = '';\n",
              "          dataTable['output_type'] = 'display_data';\n",
              "          await google.colab.output.renderOutput(dataTable, element);\n",
              "          const docLink = document.createElement('div');\n",
              "          docLink.innerHTML = docLinkHtml;\n",
              "          element.appendChild(docLink);\n",
              "        }\n",
              "      </script>\n",
              "    </div>\n",
              "  </div>\n",
              "  "
            ],
            "text/plain": [
              "                                        uuid                 name  \\\n",
              "0       e1393508-30ea-8a36-3f96-dd3226033abd             Wetpaint   \n",
              "1       5f2b40b8-d1b3-d323-d81a-b7a8e89553d0                 Digg   \n",
              "2       60485007-8856-bbac-aa1b-c535c41f5f47            Omnidrive   \n",
              "3       4111dc8b-c0df-2d24-ed33-30cd137b3098                 Geni   \n",
              "4       3d16cb4c-911e-75c0-de5a-15c316b39f98          StumbleUpon   \n",
              "...                                      ...                  ...   \n",
              "157509  ca2995f5-6357-4f44-831d-21f8c3d8ad65           Gatherware   \n",
              "157510  be325b83-38db-45a0-8076-1fbbbc0c306e  Essential Personnel   \n",
              "157511  c995724b-1379-4dad-85b7-c11caba7de38          Coyle Solar   \n",
              "157512  bf792d36-7e30-4fa7-b4b9-91daf337998f          CopyForward   \n",
              "157513  32553db2-d165-4d04-920a-d53ac2fc5929                 Buzy   \n",
              "\n",
              "                                     category_groups_list  \\\n",
              "0       Content and Publishing,Internet Services,Media...   \n",
              "1               Internet Services,Media and Entertainment   \n",
              "2       Commerce and Shopping,Internet Services,Media ...   \n",
              "3                           Community and Lifestyle,Other   \n",
              "4       Commerce and Shopping,Internet Services,Media ...   \n",
              "...                                                   ...   \n",
              "157509                               Health Care,Software   \n",
              "157510                                 Education,Software   \n",
              "157511  Energy,Hardware,Science and Engineering,Sustai...   \n",
              "157512                                           Software   \n",
              "157513                                     Consumer Goods   \n",
              "\n",
              "                                         category_cleaned  Document_No  \\\n",
              "0       content publishing internet service medium ent...            0   \n",
              "1                   internet service medium entertainment            1   \n",
              "2       commerce shopping internet service medium ente...            2   \n",
              "3                               community lifestyle other            3   \n",
              "4       commerce shopping internet service medium ente...            4   \n",
              "...                                                   ...          ...   \n",
              "157509                               health care software       157509   \n",
              "157510                                 education software       157510   \n",
              "157511  energy hardware science engineering sustainabi...       157511   \n",
              "157512                                           software       157512   \n",
              "157513                                      consumer good       157513   \n",
              "\n",
              "        Dominant_Topic  Topic_Perc_Contrib  \\\n",
              "0                  4.0              0.3611   \n",
              "1                  9.0              0.2797   \n",
              "2                  2.0              0.2522   \n",
              "3                 10.0              0.3980   \n",
              "4                  9.0              0.2246   \n",
              "...                ...                 ...   \n",
              "157509            12.0              0.3219   \n",
              "157510             0.0              0.3482   \n",
              "157511            12.0              0.2491   \n",
              "157512             7.0              0.2200   \n",
              "157513            13.0              0.3439   \n",
              "\n",
              "                                                 Keywords  \\\n",
              "0       entertainment, medium, publishing, content, vi...   \n",
              "1       internet, service, software, telecommunication...   \n",
              "2       entertainment, medium, audio, music, software,...   \n",
              "3       beverage, food, design, lifestyle, community, ...   \n",
              "4       internet, service, software, telecommunication...   \n",
              "...                                                   ...   \n",
              "157509  care, health, engineering, science, biotechnol...   \n",
              "157510  education, software, service, internet, hardwa...   \n",
              "157511  care, health, engineering, science, biotechnol...   \n",
              "157512  software, apps, mobile, gaming, other, sport, ...   \n",
              "157513  hardware, consumer, electronics, manufacturing...   \n",
              "\n",
              "                                                     Text  \n",
              "0       ['content', 'publishing', 'internet', 'service...  \n",
              "1       ['internet', 'service', 'medium', 'entertainme...  \n",
              "2       ['commerce', 'shopping', 'internet', 'service'...  \n",
              "3                     ['community', 'lifestyle', 'other']  \n",
              "4       ['commerce', 'shopping', 'internet', 'service'...  \n",
              "...                                                   ...  \n",
              "157509                     ['health', 'care', 'software']  \n",
              "157510                          ['education', 'software']  \n",
              "157511  ['energy', 'hardware', 'science', 'engineering...  \n",
              "157512                                       ['software']  \n",
              "157513                               ['consumer', 'good']  \n",
              "\n",
              "[157514 rows x 9 columns]"
            ]
          },
          "execution_count": 114,
          "metadata": {},
          "output_type": "execute_result"
        }
      ],
      "source": [
        "df_new"
      ]
    },
    {
      "cell_type": "code",
      "execution_count": 115,
      "metadata": {
        "id": "dbNamcbrSWVK"
      },
      "outputs": [],
      "source": [
        "pd.DataFrame(df_new).to_csv('df_new_category_assigned.csv', index=False)"
      ]
    }
  ],
  "metadata": {
    "accelerator": "GPU",
    "colab": {
      "collapsed_sections": [],
      "machine_shape": "hm",
      "name": "REALREALFINAL2_RETRY_Jiji-Master Thesis-LDAclustering.ipynb",
      "provenance": []
    },
    "gpuClass": "standard",
    "kernelspec": {
      "display_name": "Python 3.10.5 64-bit",
      "language": "python",
      "name": "python3"
    },
    "language_info": {
      "codemirror_mode": {
        "name": "ipython",
        "version": 3
      },
      "file_extension": ".py",
      "mimetype": "text/x-python",
      "name": "python",
      "nbconvert_exporter": "python",
      "pygments_lexer": "ipython3",
      "version": "3.10.5"
    },
    "vscode": {
      "interpreter": {
        "hash": "aee8b7b246df8f9039afb4144a1f6fd8d2ca17a180786b69acc140d282b71a49"
      }
    }
  },
  "nbformat": 4,
  "nbformat_minor": 0
}
